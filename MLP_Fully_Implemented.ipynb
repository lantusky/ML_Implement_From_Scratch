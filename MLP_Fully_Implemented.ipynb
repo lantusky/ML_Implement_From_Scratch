{
 "cells": [
  {
   "cell_type": "markdown",
   "metadata": {
    "collapsed": true
   },
   "source": [
    "CMPE 258 MidExam #1 Python 2.7 Version\n",
    "1. Author: Tu Lan 011495497 tu.lan@sjsu.edu\n",
    "2. Date: 03/08/2018\n",
    "3. Tips: Before running the code, please change the Directories to yours, especially the directory of datasets"
   ]
  },
  {
   "cell_type": "code",
   "execution_count": 36,
   "metadata": {},
   "outputs": [],
   "source": [
    "# basic libraries\n",
    "import os               # a system library, not related to algorithm          \n",
    "import matplotlib.pyplot as plt\n",
    "import matplotlib\n",
    "import pandas as pd\n",
    "import numpy as np\n",
    "from datetime import datetime         # use time to analyze training speed\n",
    "\n",
    "# state control\n",
    "state = np.random.seed(1)\n",
    "\n",
    "# To plot pretty figures\n",
    "import seaborn as sns  # just a plot library. Not related to algorithms\n",
    "plt.style.use('seaborn')\n",
    "sns.set(style=\"ticks\", color_codes=True)\n",
    "\n",
    "# Directories\n",
    "PROJECT_ROOT_DIR = '/home/tulan/PycharmProjects/Google/Machine_Learning/CMPE258/Midexam_1'\n",
    "DATA_DIR = '/home/tulan/PycharmProjects/Google/Machine_Learning/CMPE258/data'\n",
    "\n",
    "# Where to save the figures\n",
    "IMAGE_FOLD = 'images'\n",
    "IMAGE_DIR = os.path.join(PROJECT_ROOT_DIR, IMAGE_FOLD)\n",
    "\n",
    "def save_fig(fig_id, tight_layout=True):\n",
    "    if not os.path.exists(IMAGE_DIR):\n",
    "        os.makedirs(IMAGE_DIR)\n",
    "    path = os.path.join(IMAGE_DIR, fig_id + \".png\")\n",
    "    print(\"Saving figure\", fig_id)\n",
    "    if tight_layout:\n",
    "        plt.tight_layout()\n",
    "    plt.savefig(path, format='png', dpi=300)"
   ]
  },
  {
   "cell_type": "markdown",
   "metadata": {},
   "source": [
    "All the functions needed are in this class NeuralNet_Tu. This class is fully implemented:\n",
    "1. Can be initialized with any size using a tuple. e.g: (400, 100, 100, 50, 50, 10)\n",
    "2. Other parameters can be chosen: activation functions, learning rate, number of iterations, L2 regularizer, mini-batch size, early-stop, verbose, and printstep. "
   ]
  },
  {
   "cell_type": "code",
   "execution_count": 63,
   "metadata": {},
   "outputs": [],
   "source": [
    "class NeuralNet_Tu(object):\n",
    "    \"\"\"\n",
    "    - A N-layer fully-connected neural network.\n",
    "    - Archi: input - Hidden 1 - Activation 1 - ... - Hidden(N-1) - Activation(N-1) - Output - Softmax\n",
    "    \"\"\"\n",
    "    \n",
    "    def __init__(self, size_tuple = ()):\n",
    "        \n",
    "        # Parameter Initialization\n",
    "        self.param_W = {}    # dictionary for weight\n",
    "        self.param_b = {}    # dictionary for bias\n",
    "        self.grads_W = {}    # dictionary for weight gradients \n",
    "        self.grads_b = {}    # dictionary for bias gradients\n",
    "        \n",
    "        # initialize weight (He initialization)\n",
    "        self.numWeight = len(size_tuple) - 1\n",
    "        for num in range(self.numWeight):\n",
    "            weight_name = 'W{0}'.format(num + 1)\n",
    "            bias_name = 'b{0}'.format(num + 1)            \n",
    "            self.param_W[weight_name] = 2.0 / np.sqrt(size_tuple[num] + size_tuple[num + 1]) * \\\n",
    "                                       np.random.randn(size_tuple[num], size_tuple[num + 1])\n",
    "            self.param_b[bias_name] = np.zeros(size_tuple[num + 1])\n",
    "        self.loss_history = []\n",
    "        self.train_acc_history = []\n",
    "        self.val_acc_history = [] \n",
    "        self.hasVal = False\n",
    "        self.learning_rate = 0.01\n",
    "        self.reg = 0.0\n",
    "        self.loss_cur = 0.0\n",
    "        self.train_time = 0.0\n",
    "              \n",
    "    #############################################################\n",
    "    #                       Helper Functions                    #\n",
    "    #############################################################\n",
    "    \n",
    "    def to_onehot(self, y, n_class):\n",
    "        num = len(y)\n",
    "        y_onehot = np.zeros((num, n_class), dtype=np.uint8)\n",
    "        for i in range(num):\n",
    "            y_onehot[i][y[i]] = 1\n",
    "        return y_onehot\n",
    "\n",
    "    #############################################################\n",
    "    #                   Activation Functions                    #\n",
    "    #############################################################\n",
    "    def sigmoid (self, x):\n",
    "        return 1 / (1 + np.exp(-x))\n",
    "    \n",
    "    def sigmoid_deri(self, x):\n",
    "        return np.multiply(x, (1 - x))\n",
    "    \n",
    "    def tanh(selfs, x):\n",
    "        return (np.exp(x) - np.exp(-x)) / (np.exp(x) + np.exp(-x))\n",
    "    \n",
    "    def tanh_deri(self, x):\n",
    "        return 1 - np.square(self.tanh(x))\n",
    "    \n",
    "    def relu(self, x):\n",
    "        return np.maximum(0, x)\n",
    "    \n",
    "    def relu_deri(self, x):\n",
    "        return (x > 0) * 1\n",
    "    \n",
    "    def leaky_relu(self, x):\n",
    "        return np.maximum(0.01*x, x)\n",
    "    \n",
    "    def leaky_relu_deri(self, x):\n",
    "        a = np.ones_like(x)     # avoid overwrite x\n",
    "        a[x < 0] = 0.01 \n",
    "        return a\n",
    "    \n",
    "    def elu(self, x):\n",
    "        a = np.ones_like(x)     # avoid overwrite x\n",
    "        a[x > 0] = x[x > 0]\n",
    "        a[x <= 0] = np.exp(x[x <= 0]) - 1\n",
    "        return a\n",
    "    \n",
    "    def elu_deri(self, x):\n",
    "        a = np.ones_like(x)     # avoid overwrite x\n",
    "        a[x > 0] = 1\n",
    "        a[x <= 0] = np.exp(x[x <= 0])\n",
    "        return a\n",
    "    \n",
    "    def softmax(self, out):\n",
    "        numerator = np.exp(out)     \n",
    "        denominator = np.sum(numerator, axis=1).reshape(-1, 1)\n",
    "        scores = numerator / denominator\n",
    "        return scores\n",
    "    \n",
    "    #############################################################\n",
    "    #                       Loss Functions                      #\n",
    "    #############################################################\n",
    "    \n",
    "    # add epsilon 1e-20 for all np.log to avoid invalid log(0)\n",
    "    def cross_entrphy(self, scores, y):\n",
    "        N = scores.shape[0]\n",
    "        correct_log = -np.log(scores[range(N), y] + 1e-16)\n",
    "        data_loss = np.sum(correct_log) / N\n",
    "        reg_loss = 0.0\n",
    "        for weight in self.param_W.values():\n",
    "            reg_loss += 0.5 / N * self.reg * np.sum(weight * weight)\n",
    "\n",
    "        loss_total = data_loss + reg_loss\n",
    "        return loss_total\n",
    "    \n",
    "    def log_loss(self, out, y_onehot):\n",
    "        N = out.shape[0]\n",
    "        loss0 = (1 - y_onehot) * np.log(1 - out + 1e-16)\n",
    "        loss1 = y_onehot * np.log(out + 1e-16)\n",
    "        reg_loss = 0.0\n",
    "        for weight in self.param_W.values():\n",
    "            reg_loss += 0.5 / N * self.reg * np.sum(weight * weight)\n",
    "            \n",
    "        loss_tot = -(loss0 + loss1) + reg_loss\n",
    "        loss_mean = np.sum(loss_tot) / N\n",
    "        return loss_mean\n",
    "    \n",
    "    #############################################################\n",
    "    #                      Batch Normalization                  #\n",
    "    #############################################################\n",
    "    \n",
    "    # I don't use batch normalization, cause I have some problems in the back propagation\n",
    "    def batchNorm_forward(self, x, gamma, betta):\n",
    "        mean = np.mean(x, axis=0)\n",
    "        var = np.var(x, axis=0)\n",
    "        \n",
    "        epsilon = 1e-5\n",
    "        std_devi = np.sqrt(var + epsilon)\n",
    "        \n",
    "        x_hat = (x - mean) / std_devi\n",
    "        out = gamma * x_hat + betta\n",
    "        cache = (mean, var, x_hat, gamma)\n",
    "        return out, cache\n",
    "    \n",
    "    def batchnorm_backward(self, dout, cache):\n",
    "\n",
    "        N, D = dout.shape\n",
    "        mean, var, x_hat, gamma = cache\n",
    "        \n",
    "        # intermediate partial derivatives\n",
    "        dxhat = dout * gamma\n",
    "        \n",
    "        # final partial derivatives\n",
    "        dx = (1. / N) * (1. / var) * (N*dxhat - np.sum(dxhat, axis=0) \n",
    "            - x_hat*np.sum(dxhat*x_hat, axis=0))\n",
    "        dbeta = np.sum(dout, axis=0)\n",
    "        dgamma = np.sum(x_hat*dout, axis=0)\n",
    "        \n",
    "        return dx, dgamma, dbeta\n",
    " \n",
    "    #############################################################\n",
    "    #                   Forward, Backward, Loss                 #\n",
    "    #############################################################\n",
    "\n",
    "    def loss(self, X, y=None):\n",
    "        \n",
    "        N, D = X.shape\n",
    "        y_onehot = self.to_onehot(y, 10)\n",
    "        \n",
    "        # Forward Propagation\n",
    "        A = [np.asarray([]) for i in range(self.numWeight)]\n",
    "        # note: A[0] is A1, A[1] is A2 ...\n",
    "        for ix, name_W, name_b in zip(range(self.numWeight), sorted(self.param_W), sorted(self.param_b)):\n",
    "            if ix == 0:\n",
    "                A[ix] = self.act(X.dot(self.param_W[name_W]) + self.param_b[name_b])\n",
    "            else:\n",
    "                A[ix] = self.act(A[ix-1].dot(self.param_W[name_W]) + self.param_b[name_b]) \n",
    "                \n",
    "        # If y is not given then jump out\n",
    "        if y is None:\n",
    "          return A[-1]\n",
    "           \n",
    "        # Compute the loss: log loss or cross-entrophy\n",
    "        if self.act == self.sigmoid:\n",
    "            self.loss_cur = self.log_loss(A[-1], y_onehot)\n",
    "        else:\n",
    "            self.loss_cur = self.cross_entrphy(self.softmax(A[-1]), y)\n",
    "        \n",
    "        # Backward Propagation  \n",
    "        delta = [np.asarray([]) for i in range(self.numWeight)]\n",
    "        dW = [np.asarray([]) for i in range(self.numWeight)]\n",
    "        db = [np.asarray([]) for i in range(self.numWeight)]\n",
    "        \n",
    "        for ix in range(self.numWeight - 1, -1, -1):\n",
    "            name_W = 'W{0}'.format(ix + 1)\n",
    "            name_W_H = 'W{0}'.format(ix + 2)\n",
    "            name_b = 'b{0}'.format(ix + 1)\n",
    "            if ix == self.numWeight - 1:\n",
    "                delta[ix] = A[ix] - y_onehot\n",
    "                dW[ix] = A[ix-1].T.dot(delta[ix]) / N + self.reg * self.param_W[name_W] / N\n",
    "            elif ix == 0:\n",
    "                delta[ix] = delta[ix+1].dot(self.param_W[name_W_H].T) * self.act_deri(A[ix])\n",
    "                dW[ix] = X.T.dot(delta[ix]) / N + self.reg * self.param_W[name_W] / N              \n",
    "            else:\n",
    "                delta[ix] = delta[ix+1].dot(self.param_W[name_W_H].T) * self.act_deri(A[ix])\n",
    "                dW[ix] = A[ix-1].T.dot(delta[ix]) / N + self.reg * self.param_W[name_W] / N\n",
    "            # same for db every case\n",
    "            db[ix] = np.sum(delta[ix], axis=0) / N\n",
    "            \n",
    "            self.grads_W[name_W] = dW[ix]\n",
    "            self.grads_b[name_b] = db[ix]\n",
    "            \n",
    "        return self\n",
    "    \n",
    "    #############################################################\n",
    "    #                       Training Process                    #\n",
    "    #############################################################\n",
    "    \n",
    "    def train(self, X, y, X_val=None, y_val=None, num_iters=100, learning_rate=1e-3, \n",
    "              reg=0, activation='relu', batch_size = 200, verbose=False, printstep=10, early_stop=None):\n",
    "        \n",
    "        # important dictionaries to parse the function parameters\n",
    "        activation_dict = {'sigmoid': self.sigmoid, 'relu': self.sigmoid, 'tanh': self.tanh, \n",
    "                           'leaky_relu': self.leaky_relu, 'elu': self.elu}\n",
    "        activation_deri_dict = {'sigmoid': self.sigmoid_deri, 'relu': self.sigmoid_deri, \n",
    "                                'tanh': self.tanh_deri, 'leaky_relu': self.leaky_relu_deri, \n",
    "                                'elu': self.elu_deri}\n",
    "        self.act = activation_dict[activation.lower()]\n",
    "        self.act_deri = activation_deri_dict[activation.lower()]\n",
    "        self.reg = reg\n",
    "        self.learning_rate = learning_rate\n",
    "        self.hasVal = False if X_val is None else True\n",
    "        \n",
    "        num_iter_per_epoch = int(np.ceil(X.shape[0] / batch_size))     # round up\n",
    "        time_start = datetime.now()\n",
    "        \n",
    "        # mini-batch training\n",
    "        for it in range(num_iters):  \n",
    "            \n",
    "            start_index = 0\n",
    "            \n",
    "            for ix in range(num_iter_per_epoch):\n",
    "                if ix == num_iter_per_epoch - 1:\n",
    "                    X_bacth = X[start_index:]\n",
    "                    y_batch = y[start_index:]\n",
    "                else:    \n",
    "                    X_bacth = X[start_index:start_index + batch_size]\n",
    "                    y_batch = y[start_index:start_index + batch_size]\n",
    "                start_index += batch_size\n",
    "                \n",
    "                # Compute loss and gradients\n",
    "                self.loss(X_bacth, y_batch)\n",
    "        \n",
    "                # update parameters (gradient descent)\n",
    "                for name_W, name_b in zip(self.param_W, self.param_b):\n",
    "                    self.param_W[name_W] -= learning_rate * self.grads_W[name_W]\n",
    "                    self.param_b[name_b] -= learning_rate * self.grads_b[name_b]\n",
    "            \n",
    "            # training record\n",
    "            val_acc = 0.0\n",
    "            if self.hasVal:\n",
    "                val_acc = (self.predict(X_val) == y_val).mean()\n",
    "                self.val_acc_history.append(val_acc)\n",
    "            train_acc = (self.predict(X) == y).mean()   \n",
    "            self.train_acc_history.append(train_acc)\n",
    "            self.loss_history.append(self.loss_cur)\n",
    "            \n",
    "            # control verbose  \n",
    "            if verbose and ((it+1) % printstep == 0 or it == 0):  \n",
    "                if self.hasVal:\n",
    "                    print('iteration %d / %d: loss %f train_acc % f val_acc %f' % \n",
    "                          (it+1, num_iters, self.loss_cur, train_acc, val_acc))                 \n",
    "                else:\n",
    "                    print('iteration %d / %d: loss %f train_acc % f' % \n",
    "                          (it+1, num_iters, self.loss_cur, train_acc,)) \n",
    "      \n",
    "            # early-stopping: loss diff \n",
    "            if early_stop is not None and it >= 2 and self.loss_history[-2] - self.loss_history[-1] < early_stop:\n",
    "                time_end = datetime.now()\n",
    "                # duration in seconds, total_seconds() available in Python 2.7\n",
    "                self.train_time = (time_end - time_start).total_seconds()   \n",
    "                print('train loss diff is smaller than ', early_stop, ', training stopped,', \n",
    "                      ' training time: ', self.train_time, 's')\n",
    "                return self\n",
    "            \n",
    "        # notice when not meet early_stop criteria after all iterations\n",
    "        if early_stop is not None and self.loss_history[-2] - self.loss_history[-1] > early_stop:\n",
    "            print '\\nWarning: early_stop criteria does not meet after all iterations!'       \n",
    "        return self\n",
    "\n",
    "    #############################################################\n",
    "    #                       Prediction                          #\n",
    "    #############################################################\n",
    "\n",
    "    def predict(self, X):\n",
    "        \n",
    "        A = [np.asarray([]) for i in range(self.numWeight)]\n",
    "        # note: A[0] is A1, A[1] is A2 ...\n",
    "        for ix, name_W, name_b in zip(range(self.numWeight), sorted(self.param_W), sorted(self.param_b)):\n",
    "            if ix == 0:\n",
    "                A[ix] = self.act(X.dot(self.param_W[name_W]) + self.param_b[name_b])\n",
    "            else:\n",
    "                A[ix] = self.act(A[ix-1].dot(self.param_W[name_W]) + self.param_b[name_b]) \n",
    "                \n",
    "        scores = self.softmax(A[-1])\n",
    "        y_pred = np.argmax(scores, axis=1)\n",
    "        return y_pred\n",
    "    \n",
    "    #############################################################\n",
    "    #                Plot Loss, train_acc & val_acc             #\n",
    "    #############################################################\n",
    "    \n",
    "    def plot_loss_acc(self):\n",
    "        plt.figure(figsize=(18, 6))\n",
    "        \n",
    "        # plot loss vs. epoch\n",
    "        plt.subplot(121)\n",
    "        plt.plot(np.arange(1, len(self.loss_history) + 1), self.loss_history, 'r-', \n",
    "         label='learning rate ' + str(self.learning_rate))\n",
    "        plt.xlabel('epoch')\n",
    "        plt.ylabel('train loss')\n",
    "        plt.legend(loc='upper right')\n",
    "        plt.title('train loss vs. epoch')\n",
    "        \n",
    "        # plot train_acc & val_acc vs. epoch\n",
    "        plt.subplot(122)\n",
    "        plt.plot(np.arange(1, len(self.loss_history) + 1), self.train_acc_history, 'b-', \n",
    "                 label='train_acc')\n",
    "        if self.hasVal:\n",
    "            plt.plot(np.arange(1, len(self.loss_history) + 1), self.val_acc_history, 'g-', \n",
    "                     label='val_acc')\n",
    "        plt.xlabel('epoch')\n",
    "        plt.ylabel('train & val accuracy')\n",
    "        plt.legend(loc='lower right')\n",
    "        plt.title('train_acc & val_acc vs. epoch')\n"
   ]
  },
  {
   "cell_type": "markdown",
   "metadata": {},
   "source": [
    "2.Obtain data, normalize, and split data"
   ]
  },
  {
   "cell_type": "code",
   "execution_count": 58,
   "metadata": {},
   "outputs": [
    {
     "data": {
      "text/plain": [
       "((3500, 402), (1500, 402))"
      ]
     },
     "execution_count": 58,
     "metadata": {},
     "output_type": "execute_result"
    }
   ],
   "source": [
    "train_set = pd.read_csv(DATA_DIR + '/exam1_train.csv')\n",
    "test_set = pd.read_csv(DATA_DIR + '/exam1_test.csv')\n",
    "train_set.shape, test_set.shape"
   ]
  },
  {
   "cell_type": "code",
   "execution_count": 59,
   "metadata": {},
   "outputs": [
    {
     "name": "stdout",
     "output_type": "stream",
     "text": [
      "<class 'pandas.core.frame.DataFrame'>\nRangeIndex: 3500 entries, 0 to 3499\nColumns: 402 entries, Unnamed: 0 to y\ndtypes: float64(395), int64(7)\nmemory usage: 10.7 MB\n<class 'pandas.core.frame.DataFrame'>\nRangeIndex: 1500 entries, 0 to 1499\nColumns: 402 entries, Unnamed: 0 to y\ndtypes: float64(395), int64(7)\nmemory usage: 4.6 MB\n"
     ]
    },
    {
     "data": {
      "text/plain": [
       "(None, None)"
      ]
     },
     "execution_count": 59,
     "metadata": {},
     "output_type": "execute_result"
    }
   ],
   "source": [
    "train_set.info(), test_set.info()"
   ]
  },
  {
   "cell_type": "code",
   "execution_count": 60,
   "metadata": {},
   "outputs": [
    {
     "data": {
      "text/html": [
       "<div>\n",
       "<style scoped>\n",
       "    .dataframe tbody tr th:only-of-type {\n",
       "        vertical-align: middle;\n",
       "    }\n",
       "\n",
       "    .dataframe tbody tr th {\n",
       "        vertical-align: top;\n",
       "    }\n",
       "\n",
       "    .dataframe thead th {\n",
       "        text-align: right;\n",
       "    }\n",
       "</style>\n",
       "<table border=\"1\" class=\"dataframe\">\n",
       "  <thead>\n",
       "    <tr style=\"text-align: right;\">\n",
       "      <th></th>\n",
       "      <th>Unnamed: 0</th>\n",
       "      <th>0</th>\n",
       "      <th>1</th>\n",
       "      <th>2</th>\n",
       "      <th>3</th>\n",
       "      <th>4</th>\n",
       "      <th>5</th>\n",
       "      <th>6</th>\n",
       "      <th>7</th>\n",
       "      <th>8</th>\n",
       "      <th>...</th>\n",
       "      <th>391</th>\n",
       "      <th>392</th>\n",
       "      <th>393</th>\n",
       "      <th>394</th>\n",
       "      <th>395</th>\n",
       "      <th>396</th>\n",
       "      <th>397</th>\n",
       "      <th>398</th>\n",
       "      <th>399</th>\n",
       "      <th>y</th>\n",
       "    </tr>\n",
       "  </thead>\n",
       "  <tbody>\n",
       "    <tr>\n",
       "      <th>0</th>\n",
       "      <td>0</td>\n",
       "      <td>0</td>\n",
       "      <td>0</td>\n",
       "      <td>0.0</td>\n",
       "      <td>0.0</td>\n",
       "      <td>0.0</td>\n",
       "      <td>0.0</td>\n",
       "      <td>0.0</td>\n",
       "      <td>0.0</td>\n",
       "      <td>0.0</td>\n",
       "      <td>...</td>\n",
       "      <td>-0.01014</td>\n",
       "      <td>-0.040465</td>\n",
       "      <td>-0.009069</td>\n",
       "      <td>0.000292</td>\n",
       "      <td>0.000054</td>\n",
       "      <td>0.0</td>\n",
       "      <td>0.0</td>\n",
       "      <td>0.0</td>\n",
       "      <td>0</td>\n",
       "      <td>6</td>\n",
       "    </tr>\n",
       "    <tr>\n",
       "      <th>1</th>\n",
       "      <td>1</td>\n",
       "      <td>0</td>\n",
       "      <td>0</td>\n",
       "      <td>0.0</td>\n",
       "      <td>0.0</td>\n",
       "      <td>0.0</td>\n",
       "      <td>0.0</td>\n",
       "      <td>0.0</td>\n",
       "      <td>0.0</td>\n",
       "      <td>0.0</td>\n",
       "      <td>...</td>\n",
       "      <td>0.00000</td>\n",
       "      <td>0.000000</td>\n",
       "      <td>0.000000</td>\n",
       "      <td>0.000000</td>\n",
       "      <td>0.000000</td>\n",
       "      <td>0.0</td>\n",
       "      <td>0.0</td>\n",
       "      <td>0.0</td>\n",
       "      <td>0</td>\n",
       "      <td>1</td>\n",
       "    </tr>\n",
       "    <tr>\n",
       "      <th>2</th>\n",
       "      <td>2</td>\n",
       "      <td>0</td>\n",
       "      <td>0</td>\n",
       "      <td>0.0</td>\n",
       "      <td>0.0</td>\n",
       "      <td>0.0</td>\n",
       "      <td>0.0</td>\n",
       "      <td>0.0</td>\n",
       "      <td>0.0</td>\n",
       "      <td>0.0</td>\n",
       "      <td>...</td>\n",
       "      <td>0.00000</td>\n",
       "      <td>0.000000</td>\n",
       "      <td>0.000000</td>\n",
       "      <td>0.000000</td>\n",
       "      <td>0.000000</td>\n",
       "      <td>0.0</td>\n",
       "      <td>0.0</td>\n",
       "      <td>0.0</td>\n",
       "      <td>0</td>\n",
       "      <td>7</td>\n",
       "    </tr>\n",
       "    <tr>\n",
       "      <th>3</th>\n",
       "      <td>3</td>\n",
       "      <td>0</td>\n",
       "      <td>0</td>\n",
       "      <td>0.0</td>\n",
       "      <td>0.0</td>\n",
       "      <td>0.0</td>\n",
       "      <td>0.0</td>\n",
       "      <td>0.0</td>\n",
       "      <td>0.0</td>\n",
       "      <td>0.0</td>\n",
       "      <td>...</td>\n",
       "      <td>0.00000</td>\n",
       "      <td>0.000000</td>\n",
       "      <td>0.000000</td>\n",
       "      <td>0.000000</td>\n",
       "      <td>0.000000</td>\n",
       "      <td>0.0</td>\n",
       "      <td>0.0</td>\n",
       "      <td>0.0</td>\n",
       "      <td>0</td>\n",
       "      <td>9</td>\n",
       "    </tr>\n",
       "    <tr>\n",
       "      <th>4</th>\n",
       "      <td>4</td>\n",
       "      <td>0</td>\n",
       "      <td>0</td>\n",
       "      <td>0.0</td>\n",
       "      <td>0.0</td>\n",
       "      <td>0.0</td>\n",
       "      <td>0.0</td>\n",
       "      <td>0.0</td>\n",
       "      <td>0.0</td>\n",
       "      <td>0.0</td>\n",
       "      <td>...</td>\n",
       "      <td>0.00000</td>\n",
       "      <td>0.000000</td>\n",
       "      <td>0.000000</td>\n",
       "      <td>0.000000</td>\n",
       "      <td>0.000000</td>\n",
       "      <td>0.0</td>\n",
       "      <td>0.0</td>\n",
       "      <td>0.0</td>\n",
       "      <td>0</td>\n",
       "      <td>6</td>\n",
       "    </tr>\n",
       "  </tbody>\n",
       "</table>\n",
       "<p>5 rows × 402 columns</p>\n",
       "</div>"
      ],
      "text/plain": [
       "<div>\n",
       "<style scoped>\n",
       "    .dataframe tbody tr th:only-of-type {\n",
       "        vertical-align: middle;\n",
       "    }\n",
       "\n",
       "    .dataframe tbody tr th {\n",
       "        vertical-align: top;\n",
       "    }\n",
       "\n",
       "    .dataframe thead th {\n",
       "        text-align: right;\n",
       "    }\n",
       "</style>\n",
       "<table border=\"1\" class=\"dataframe\">\n",
       "  <thead>\n",
       "    <tr style=\"text-align: right;\">\n",
       "      <th></th>\n",
       "      <th>Unnamed: 0</th>\n",
       "      <th>0</th>\n",
       "      <th>1</th>\n",
       "      <th>2</th>\n",
       "      <th>3</th>\n",
       "      <th>4</th>\n",
       "      <th>5</th>\n",
       "      <th>6</th>\n",
       "      <th>7</th>\n",
       "      <th>8</th>\n",
       "      <th>...</th>\n",
       "      <th>391</th>\n",
       "      <th>392</th>\n",
       "      <th>393</th>\n",
       "      <th>394</th>\n",
       "      <th>395</th>\n",
       "      <th>396</th>\n",
       "      <th>397</th>\n",
       "      <th>398</th>\n",
       "      <th>399</th>\n",
       "      <th>y</th>\n",
       "    </tr>\n",
       "  </thead>\n",
       "  <tbody>\n",
       "    <tr>\n",
       "      <th>0</th>\n",
       "      <td>0</td>\n",
       "      <td>0</td>\n",
       "      <td>0</td>\n",
       "      <td>0.0</td>\n",
       "      <td>0.0</td>\n",
       "      <td>0.0</td>\n",
       "      <td>0.0</td>\n",
       "      <td>0.0</td>\n",
       "      <td>0.0</td>\n",
       "      <td>0.0</td>\n",
       "      <td>...</td>\n",
       "      <td>-0.01014</td>\n",
       "      <td>-0.040465</td>\n",
       "      <td>-0.009069</td>\n",
       "      <td>0.000292</td>\n",
       "      <td>0.000054</td>\n",
       "      <td>0.0</td>\n",
       "      <td>0.0</td>\n",
       "      <td>0.0</td>\n",
       "      <td>0</td>\n",
       "      <td>6</td>\n",
       "    </tr>\n",
       "    <tr>\n",
       "      <th>1</th>\n",
       "      <td>1</td>\n",
       "      <td>0</td>\n",
       "      <td>0</td>\n",
       "      <td>0.0</td>\n",
       "      <td>0.0</td>\n",
       "      <td>0.0</td>\n",
       "      <td>0.0</td>\n",
       "      <td>0.0</td>\n",
       "      <td>0.0</td>\n",
       "      <td>0.0</td>\n",
       "      <td>...</td>\n",
       "      <td>0.00000</td>\n",
       "      <td>0.000000</td>\n",
       "      <td>0.000000</td>\n",
       "      <td>0.000000</td>\n",
       "      <td>0.000000</td>\n",
       "      <td>0.0</td>\n",
       "      <td>0.0</td>\n",
       "      <td>0.0</td>\n",
       "      <td>0</td>\n",
       "      <td>1</td>\n",
       "    </tr>\n",
       "    <tr>\n",
       "      <th>2</th>\n",
       "      <td>2</td>\n",
       "      <td>0</td>\n",
       "      <td>0</td>\n",
       "      <td>0.0</td>\n",
       "      <td>0.0</td>\n",
       "      <td>0.0</td>\n",
       "      <td>0.0</td>\n",
       "      <td>0.0</td>\n",
       "      <td>0.0</td>\n",
       "      <td>0.0</td>\n",
       "      <td>...</td>\n",
       "      <td>0.00000</td>\n",
       "      <td>0.000000</td>\n",
       "      <td>0.000000</td>\n",
       "      <td>0.000000</td>\n",
       "      <td>0.000000</td>\n",
       "      <td>0.0</td>\n",
       "      <td>0.0</td>\n",
       "      <td>0.0</td>\n",
       "      <td>0</td>\n",
       "      <td>7</td>\n",
       "    </tr>\n",
       "    <tr>\n",
       "      <th>3</th>\n",
       "      <td>3</td>\n",
       "      <td>0</td>\n",
       "      <td>0</td>\n",
       "      <td>0.0</td>\n",
       "      <td>0.0</td>\n",
       "      <td>0.0</td>\n",
       "      <td>0.0</td>\n",
       "      <td>0.0</td>\n",
       "      <td>0.0</td>\n",
       "      <td>0.0</td>\n",
       "      <td>...</td>\n",
       "      <td>0.00000</td>\n",
       "      <td>0.000000</td>\n",
       "      <td>0.000000</td>\n",
       "      <td>0.000000</td>\n",
       "      <td>0.000000</td>\n",
       "      <td>0.0</td>\n",
       "      <td>0.0</td>\n",
       "      <td>0.0</td>\n",
       "      <td>0</td>\n",
       "      <td>9</td>\n",
       "    </tr>\n",
       "    <tr>\n",
       "      <th>4</th>\n",
       "      <td>4</td>\n",
       "      <td>0</td>\n",
       "      <td>0</td>\n",
       "      <td>0.0</td>\n",
       "      <td>0.0</td>\n",
       "      <td>0.0</td>\n",
       "      <td>0.0</td>\n",
       "      <td>0.0</td>\n",
       "      <td>0.0</td>\n",
       "      <td>0.0</td>\n",
       "      <td>...</td>\n",
       "      <td>0.00000</td>\n",
       "      <td>0.000000</td>\n",
       "      <td>0.000000</td>\n",
       "      <td>0.000000</td>\n",
       "      <td>0.000000</td>\n",
       "      <td>0.0</td>\n",
       "      <td>0.0</td>\n",
       "      <td>0.0</td>\n",
       "      <td>0</td>\n",
       "      <td>6</td>\n",
       "    </tr>\n",
       "  </tbody>\n",
       "</table>\n",
       "<p>5 rows × 402 columns</p>\n",
       "</div>"
      ]
     },
     "execution_count": 60,
     "metadata": {},
     "output_type": "execute_result"
    }
   ],
   "source": [
    "train_set.head()"
   ]
  },
  {
   "cell_type": "markdown",
   "metadata": {},
   "source": [
    "Need to get rid of the first column"
   ]
  },
  {
   "cell_type": "code",
   "execution_count": 61,
   "metadata": {},
   "outputs": [
    {
     "data": {
      "text/plain": [
       "((3500, 400), (3500,), (1500, 400), (1500,))"
      ]
     },
     "execution_count": 61,
     "metadata": {},
     "output_type": "execute_result"
    }
   ],
   "source": [
    "X_train_all = train_set.iloc[:, 1:-1].values.astype('float64')\n",
    "y_train_all = train_set['y'].values.astype('int64')\n",
    "X_test = test_set.iloc[:, 1:-1].values.astype('float64')\n",
    "y_test = test_set['y'].values.astype('int64')\n",
    "\n",
    "X_train_all.shape, y_train_all.shape, X_test.shape, y_test.shape"
   ]
  },
  {
   "cell_type": "markdown",
   "metadata": {},
   "source": [
    "Normalize the data: zero center (shift) and scale"
   ]
  },
  {
   "cell_type": "code",
   "execution_count": 62,
   "metadata": {},
   "outputs": [
    {
     "name": "stdout",
     "output_type": "stream",
     "text": [
      "train set:\n mean:  1.1236448279764284e-18 \nvar:  0.04447411104133302\ntest set:\n mean:  -3.7673567968946963e-19 \nvar:  0.04539199551931808\n"
     ]
    }
   ],
   "source": [
    "def Normalization(X):\n",
    "    mean = np.mean(X, axis=0)\n",
    "    max = np.max(X, axis=0)\n",
    "    min = np.min(X, axis=0)     \n",
    "    X = (X - mean) / (max - min + 1e-16)\n",
    "    mean = np.mean(X, axis=0).sum()/X.shape[1]\n",
    "    var = np.var(X, axis=0).sum()/X.shape[1]\n",
    "    return X, mean, var\n",
    "\n",
    "\n",
    "X_train_all, mean_1, var_1 = Normalization(X_train_all)\n",
    "X_test, mean_2, var_2 = Normalization(X_test)\n",
    "print'train set:\\n mean: ', mean_1, '\\nvar: ', var_1\n",
    "print'test set:\\n mean: ', mean_2, '\\nvar: ', var_2"
   ]
  },
  {
   "cell_type": "markdown",
   "metadata": {},
   "source": [
    "The data has been normalized, it's zero centered and has a reasonable var."
   ]
  },
  {
   "cell_type": "code",
   "execution_count": 43,
   "metadata": {},
   "outputs": [
    {
     "data": {
      "text/plain": [
       "<matplotlib.axes._subplots.AxesSubplot at 0x7f24bec01850>"
      ]
     },
     "execution_count": 43,
     "metadata": {},
     "output_type": "execute_result"
    },
    {
     "data": {
      "image/png": "[encoded data removed]",
      "text/plain": [
       "<matplotlib.figure.Figure at 0x7f24bef0c650>"
      ]
     },
     "metadata": {},
     "output_type": "display_data"
    }
   ],
   "source": [
    "sns.countplot(y_train_all.ravel())"
   ]
  },
  {
   "cell_type": "code",
   "execution_count": 44,
   "metadata": {},
   "outputs": [
    {
     "name": "stdout",
     "output_type": "stream",
     "text": [
      "('label: ', 3)\n"
     ]
    },
    {
     "data": {
      "image/png": "[encoded data removed]",
      "text/plain": [
       "<matplotlib.figure.Figure at 0x7f24beb7d910>"
      ]
     },
     "metadata": {},
     "output_type": "display_data"
    }
   ],
   "source": [
    "some_digit = X_train_all[5]\n",
    "some_digit_image = some_digit.reshape(20, 20)\n",
    "plt.imshow(some_digit_image, cmap = matplotlib.cm.binary,\n",
    "           interpolation=\"nearest\")\n",
    "print('label: ', y_train_all[5])"
   ]
  },
  {
   "cell_type": "markdown",
   "metadata": {},
   "source": [
    "Split train set into training and validation"
   ]
  },
  {
   "cell_type": "code",
   "execution_count": 45,
   "metadata": {},
   "outputs": [
    {
     "data": {
      "text/plain": [
       "((2800, 400), (700, 400), (2800,), (700,))"
      ]
     },
     "execution_count": 45,
     "metadata": {},
     "output_type": "execute_result"
    }
   ],
   "source": [
    "def split_train_val(X, y, ratio_train, state):\n",
    "    # shuffle the sequence\n",
    "    np.random.seed(state)\n",
    "    num = len(y)\n",
    "    shuffle_index = np.random.permutation(num)\n",
    "    train_index = shuffle_index[:int(num * ratio_train)]\n",
    "    val_index = shuffle_index[int(num * ratio_train):]\n",
    "    X_train, y_train = X[train_index], y[train_index]\n",
    "    X_val, y_val = X[val_index], y[val_index]\n",
    "    return X_train, X_val, y_train, y_val\n",
    "\n",
    "\n",
    "X_train, X_val, y_train, y_val = split_train_val(X_train_all, y_train_all, 0.8, state)\n",
    "X_train.shape, X_val.shape, y_train.shape, y_val.shape"
   ]
  },
  {
   "cell_type": "markdown",
   "metadata": {},
   "source": [
    "3.Initialize parameters (It is done when the class object created)"
   ]
  },
  {
   "cell_type": "code",
   "execution_count": 56,
   "metadata": {},
   "outputs": [
    {
     "name": "stdout",
     "output_type": "stream",
     "text": [
      "W4 :  (40, 10)\nb4 :  (10,)\nW3 :  (100, 40)\nb1 :  (200,)\nW2 :  (200, 100)\nb2 :  (100,)\nW1 :  (400, 200)\nb3 :  (40,)\n"
     ]
    }
   ],
   "source": [
    "net = NeuralNet_Tu(size_tuple=(400, 200, 100, 40, 10))\n",
    "for name_W, name_b in zip(net.param_W, net.param_b):\n",
    "    print name_W, ': ', net.param_W[name_W].shape\n",
    "    print name_b, ': ', net.param_b[name_b].shape"
   ]
  },
  {
   "cell_type": "markdown",
   "metadata": {},
   "source": [
    "Question 4,5,6 are all in the following codes"
   ]
  },
  {
   "cell_type": "markdown",
   "metadata": {},
   "source": [
    "Create a baseline for optimization:\n",
    "1. Net Size: (400, 25, 10)\n",
    "2. Activation: ReLu\n",
    "3. Regularization: 0\n",
    "4. Mini-Batch Size: Full Bacth\n",
    "5. Learning Rate: 1"
   ]
  },
  {
   "cell_type": "code",
   "execution_count": 64,
   "metadata": {},
   "outputs": [
    {
     "name": "stdout",
     "output_type": "stream",
     "text": [
      "iteration 1 / 3500: loss 7.350597 train_acc  0.135714 val_acc 0.121429\n"
     ]
    },
    {
     "name": "stdout",
     "output_type": "stream",
     "text": [
      "iteration 350 / 3500: loss 0.524572 train_acc  0.936071 val_acc 0.901429\n"
     ]
    },
    {
     "name": "stdout",
     "output_type": "stream",
     "text": [
      "iteration 700 / 3500: loss 0.359757 train_acc  0.956786 val_acc 0.912857\n"
     ]
    },
    {
     "name": "stdout",
     "output_type": "stream",
     "text": [
      "iteration 1050 / 3500: loss 0.272483 train_acc  0.970357 val_acc 0.912857\n"
     ]
    },
    {
     "name": "stdout",
     "output_type": "stream",
     "text": [
      "iteration 1400 / 3500: loss 0.214042 train_acc  0.980000 val_acc 0.911429\n"
     ]
    },
    {
     "name": "stdout",
     "output_type": "stream",
     "text": [
      "iteration 1750 / 3500: loss 0.171982 train_acc  0.987500 val_acc 0.912857\n"
     ]
    },
    {
     "name": "stdout",
     "output_type": "stream",
     "text": [
      "iteration 2100 / 3500: loss 0.140496 train_acc  0.993214 val_acc 0.912857\n"
     ]
    },
    {
     "name": "stdout",
     "output_type": "stream",
     "text": [
      "iteration 2450 / 3500: loss 0.116697 train_acc  0.995000 val_acc 0.914286\n"
     ]
    },
    {
     "name": "stdout",
     "output_type": "stream",
     "text": [
      "iteration 2800 / 3500: loss 0.098490 train_acc  0.996786 val_acc 0.915714\n"
     ]
    },
    {
     "name": "stdout",
     "output_type": "stream",
     "text": [
      "iteration 3150 / 3500: loss 0.084330 train_acc  0.998214 val_acc 0.917143\n"
     ]
    },
    {
     "name": "stdout",
     "output_type": "stream",
     "text": [
      "iteration 3500 / 3500: loss 0.073125 train_acc  0.998571 val_acc 0.915714\n"
     ]
    },
    {
     "data": {
      "text/plain": [
       "<__main__.NeuralNet_Tu at 0x7f24bef2a190>"
      ]
     },
     "execution_count": 64,
     "metadata": {},
     "output_type": "execute_result"
    }
   ],
   "source": [
    "net_base = NeuralNet_Tu(size_tuple=(400, 25, 10))\n",
    "net_base.train(X_train, y_train, X_val, y_val, num_iters=3500, learning_rate=1, verbose=True, \n",
    "               printstep=350, activation='relu', reg=0, batch_size=X_train.shape[0])"
   ]
  },
  {
   "cell_type": "markdown",
   "metadata": {},
   "source": [
    "",
    "\n",
    "Baseline validation accuracy 0.92"
   ]
  },
  {
   "cell_type": "code",
   "execution_count": 65,
   "metadata": {},
   "outputs": [
    {
     "data": {
      "image/png": "[encoded data removed]",
      "text/plain": [
       "<matplotlib.figure.Figure at 0x7f24bef2a5d0>"
      ]
     },
     "metadata": {},
     "output_type": "display_data"
    }
   ],
   "source": [
    "net_base.plot_loss_acc()"
   ]
  },
  {
   "cell_type": "markdown",
   "metadata": {},
   "source": [
    "Optimization 1: Batch size"
   ]
  },
  {
   "cell_type": "code",
   "execution_count": 67,
   "metadata": {},
   "outputs": [
    {
     "name": "stdout",
     "output_type": "stream",
     "text": [
      "('batch size: ', 32)\n"
     ]
    },
    {
     "name": "stdout",
     "output_type": "stream",
     "text": [
      "('train loss diff is smaller than ', 0.0001, ', training stopped,', ' training time: ', 5.049428, 's')\n('batch size: ', 64)\n"
     ]
    },
    {
     "name": "stdout",
     "output_type": "stream",
     "text": [
      "('train loss diff is smaller than ', 0.0001, ', training stopped,', ' training time: ', 4.439716, 's')\n('batch size: ', 128)\n"
     ]
    },
    {
     "name": "stdout",
     "output_type": "stream",
     "text": [
      "('train loss diff is smaller than ', 0.0001, ', training stopped,', ' training time: ', 5.359524, 's')\n('batch size: ', 256)\n"
     ]
    },
    {
     "name": "stdout",
     "output_type": "stream",
     "text": [
      "('train loss diff is smaller than ', 0.0001, ', training stopped,', ' training time: ', 7.541541, 's')\n('batch size: ', 512)\n"
     ]
    },
    {
     "name": "stdout",
     "output_type": "stream",
     "text": [
      "('train loss diff is smaller than ', 0.0001, ', training stopped,', ' training time: ', 8.503144, 's')\n('batch size: ', 1024)\n"
     ]
    },
    {
     "name": "stdout",
     "output_type": "stream",
     "text": [
      "('train loss diff is smaller than ', 0.0001, ', training stopped,', ' training time: ', 13.326813, 's')\n"
     ]
    }
   ],
   "source": [
    "batch_size = [32, 64, 128, 256, 512, 1024]\n",
    "train_time = []\n",
    "train_acc = []\n",
    "val_acc = []\n",
    "for i in range(len(batch_size)):\n",
    "    print('batch size: ', batch_size[i])\n",
    "    net_batch = NeuralNet_Tu(size_tuple=(400, 25, 10))\n",
    "    net_batch.train(X_train, y_train, X_val, y_val, num_iters=5000, learning_rate=1, verbose=False, \n",
    "                   printstep=50, activation='relu', reg=0, batch_size=batch_size[i], early_stop=1e-4)\n",
    "    train_time.append(net_batch.train_time)\n",
    "    train_acc.append(net_batch.train_acc_history[-1])\n",
    "    val_acc.append(net_batch.val_acc_history[-1])"
   ]
  },
  {
   "cell_type": "code",
   "execution_count": 68,
   "metadata": {
    "collapsed": false
   },
   "outputs": [
    {
     "data": {
      "text/plain": [
       "Text(0.5,1,u'train_acc & val_acc vs. epoch')"
      ]
     },
     "execution_count": 68,
     "metadata": {},
     "output_type": "execute_result"
    },
    {
     "data": {
      "image/png": "[encoded data removed]",
      "text/plain": [
       "<matplotlib.figure.Figure at 0x7f24c7a3bd10>"
      ]
     },
     "metadata": {},
     "output_type": "display_data"
    }
   ],
   "source": [
    "plt.figure(figsize=(18, 6))\n",
    "\n",
    "# plot loss vs. epoch\n",
    "plt.subplot(121)\n",
    "plt.plot(batch_size, train_time, 'r-', label='train time')\n",
    "plt.xlabel('bacth size')\n",
    "plt.ylabel('train time')\n",
    "plt.legend(loc='upper right')\n",
    "plt.title('train time vs. batch size')\n",
    "\n",
    "# plot train_acc & val_acc vs. epoch\n",
    "plt.subplot(122)\n",
    "plt.plot(batch_size, train_acc, 'b-', label='train_acc')\n",
    "plt.plot(batch_size, val_acc, 'g-', label='val_acc')\n",
    "plt.xlabel('batch size')\n",
    "plt.ylabel('train & val accuracy')\n",
    "plt.legend(loc='lower right')\n",
    "plt.title('train_acc & val_acc vs. epoch')"
   ]
  },
  {
   "cell_type": "markdown",
   "metadata": {},
   "source": [
    "batch size choose 64 because of training speed and validation accuracy"
   ]
  },
  {
   "cell_type": "markdown",
   "metadata": {},
   "source": [
    "optimization 2:neural network structure & size\n"
   ]
  },
  {
   "cell_type": "markdown",
   "metadata": {},
   "source": [
    "I'm applying the geometric pyramid rule, choosing structrues with 1, 2, 3 hidden layers:\n",
    "1. 1 hidden layer: (400, 65, 10)\n",
    "2. 2 hidden layer: (400, 120, 40, 10)\n",
    "3. 3 hidden layer: (400, 160, 65, 25, 10)\n",
    "4. Note: # of hidden layers >= 2 is already enough to represent arbitrary decision boundary to arbitrary accuracy with rational activation functions"
   ]
  },
  {
   "cell_type": "code",
   "execution_count": 71,
   "metadata": {},
   "outputs": [
    {
     "name": "stdout",
     "output_type": "stream",
     "text": [
      "('train loss diff is smaller than ', 1e-05, ', training stopped,', ' training time: ', 14.915546, 's')\n('net archi: ', (400, 65, 10), ' val_acc: ', 0.9242857142857143)\n"
     ]
    },
    {
     "name": "stdout",
     "output_type": "stream",
     "text": [
      "('train loss diff is smaller than ', 1e-05, ', training stopped,', ' training time: ', 21.984258, 's')\n('net archi: ', (400, 120, 40, 10), ' val_acc: ', 0.9328571428571428)\n"
     ]
    },
    {
     "name": "stdout",
     "output_type": "stream",
     "text": [
      "('train loss diff is smaller than ', 1e-05, ', training stopped,', ' training time: ', 23.517441, 's')\n('net archi: ', (400, 160, 65, 25, 10), ' val_acc: ', 0.9357142857142857)\n"
     ]
    }
   ],
   "source": [
    "size = [(400, 65, 10), (400, 120, 40, 10), (400, 160, 65, 25, 10)]\n",
    "for i in range(len(size)):  \n",
    "    net_archi = NeuralNet_Tu(size_tuple=size[i])\n",
    "    net_archi.train(X_train, y_train, X_val, y_val, num_iters=1000, learning_rate=1, verbose=False, \n",
    "                   printstep=100, activation='relu', reg=0, batch_size=64, early_stop=1e-5)\n",
    "    print('net archi: ', size[i], ' val_acc: ', net_archi.val_acc_history[-1])"
   ]
  },
  {
   "cell_type": "markdown",
   "metadata": {},
   "source": [
    "1. After more specific verifications(doesn't show here), due to the val_acc, I choose the net architechure 2 hidden layer(400, 120, 40, 10)\n",
    "2. Please wait when running this code, it takes time. Besdies, I turned the verbose off, but it will print the result."
   ]
  },
  {
   "cell_type": "markdown",
   "metadata": {},
   "source": [
    "optimization 3: Activation Functions\n",
    "1. Sigmoid\n",
    "2. ReLu\n",
    "3. Leaky ReLu"
   ]
  },
  {
   "cell_type": "code",
   "execution_count": 72,
   "metadata": {},
   "outputs": [
    {
     "name": "stdout",
     "output_type": "stream",
     "text": [
      "\nWarning: early_stop criteria does not meet after all iterations!\n('activation: ', 'sigmoid', ' val_acc: ', 0.9271428571428572)\n"
     ]
    },
    {
     "name": "stdout",
     "output_type": "stream",
     "text": [
      "\nWarning: early_stop criteria does not meet after all iterations!\n('activation: ', 'relu', ' val_acc: ', 0.9314285714285714)\n"
     ]
    },
    {
     "name": "stdout",
     "output_type": "stream",
     "text": [
      "('train loss diff is smaller than ', 1e-05, ', training stopped,', ' training time: ', 0.723159, 's')\n('activation: ', 'leaky_relu', ' val_acc: ', 0.9342857142857143)\n"
     ]
    }
   ],
   "source": [
    "activation = ['sigmoid', 'relu', 'leaky_relu']\n",
    "for i in range(len(activation)):  \n",
    "    net_act = NeuralNet_Tu(size_tuple=(400, 120, 40, 10))\n",
    "    net_act.train(X_train, y_train, X_val, y_val, num_iters=400, learning_rate=1, verbose=False, \n",
    "                   printstep=100, activation=activation[i], reg=0, batch_size=64, early_stop=1e-5)\n",
    "    print('activation: ', activation[i], ' val_acc: ', net_act.val_acc_history[-1])"
   ]
  },
  {
   "cell_type": "markdown",
   "metadata": {},
   "source": [
    "After more test(dosen't show here), due to the val_acc, I will choose leaky_relu as the activation function. "
   ]
  },
  {
   "cell_type": "markdown",
   "metadata": {},
   "source": [
    "optimization 4: L2 Regularization\n",
    "1. 10 values in range(1e-5, 1e1)"
   ]
  },
  {
   "cell_type": "code",
   "execution_count": 74,
   "metadata": {},
   "outputs": [
    {
     "name": "stdout",
     "output_type": "stream",
     "text": [
      "('train loss diff is smaller than ', 1e-08, ', training stopped,', ' training time: ', 0.985052, 's')\n('L2 lamda: ', 1e-05, ' val_acc: ', 0.9414285714285714)\n"
     ]
    },
    {
     "name": "stdout",
     "output_type": "stream",
     "text": [
      "('train loss diff is smaller than ', 1e-08, ', training stopped,', ' training time: ', 0.915581, 's')\n('L2 lamda: ', 4.641588833612782e-05, ' val_acc: ', 0.9285714285714286)\n"
     ]
    },
    {
     "name": "stdout",
     "output_type": "stream",
     "text": [
      "('train loss diff is smaller than ', 1e-08, ', training stopped,', ' training time: ', 0.677386, 's')\n('L2 lamda: ', 0.00021544346900318823, ' val_acc: ', 0.9371428571428572)\n"
     ]
    },
    {
     "name": "stdout",
     "output_type": "stream",
     "text": [
      "('train loss diff is smaller than ', 1e-08, ', training stopped,', ' training time: ', 0.392912, 's')\n('L2 lamda: ', 0.001, ' val_acc: ', 0.9271428571428572)\n"
     ]
    },
    {
     "name": "stdout",
     "output_type": "stream",
     "text": [
      "('train loss diff is smaller than ', 1e-08, ', training stopped,', ' training time: ', 0.623699, 's')\n('L2 lamda: ', 0.004641588833612777, ' val_acc: ', 0.9428571428571428)\n"
     ]
    },
    {
     "name": "stdout",
     "output_type": "stream",
     "text": [
      "('train loss diff is smaller than ', 1e-08, ', training stopped,', ' training time: ', 0.619919, 's')\n('L2 lamda: ', 0.021544346900318822, ' val_acc: ', 0.9314285714285714)\n"
     ]
    },
    {
     "name": "stdout",
     "output_type": "stream",
     "text": [
      "('train loss diff is smaller than ', 1e-08, ', training stopped,', ' training time: ', 0.873095, 's')\n('L2 lamda: ', 0.1, ' val_acc: ', 0.95)\n"
     ]
    },
    {
     "name": "stdout",
     "output_type": "stream",
     "text": [
      "('train loss diff is smaller than ', 1e-08, ', training stopped,', ' training time: ', 0.554236, 's')\n('L2 lamda: ', 0.46415888336127725, ' val_acc: ', 0.9214285714285714)\n"
     ]
    },
    {
     "name": "stdout",
     "output_type": "stream",
     "text": [
      "('train loss diff is smaller than ', 1e-08, ', training stopped,', ' training time: ', 0.955814, 's')\n('L2 lamda: ', 2.154434690031882, ' val_acc: ', 0.7914285714285715)\n"
     ]
    },
    {
     "name": "stdout",
     "output_type": "stream",
     "text": [
      "('train loss diff is smaller than ', 1e-08, ', training stopped,', ' training time: ', 0.230441, 's')\n('L2 lamda: ', 10.0, ' val_acc: ', 0.07142857142857142)\n"
     ]
    }
   ],
   "source": [
    "reg = np.logspace(-5, 1, 10)\n",
    "val_acc = []\n",
    "for i in range(len(reg)):  \n",
    "    net_reg = NeuralNet_Tu(size_tuple=(400, 120, 40, 10))\n",
    "    net_reg.train(X_train, y_train, X_val, y_val, num_iters=100, learning_rate=1, verbose=False, \n",
    "                   printstep=10, activation='leaky_relu', reg=reg[i], batch_size=64, early_stop=1e-8)\n",
    "    val_acc.append(net_reg.val_acc_history[-1])\n",
    "    print('L2 lamda: ', reg[i], ' val_acc: ', net_reg.val_acc_history[-1])"
   ]
  },
  {
   "cell_type": "code",
   "execution_count": 75,
   "metadata": {},
   "outputs": [
    {
     "data": {
      "text/plain": [
       "Text(0.5,1,u'Lamda vs. Val_acc')"
      ]
     },
     "execution_count": 75,
     "metadata": {},
     "output_type": "execute_result"
    },
    {
     "data": {
      "image/png": "[encoded data removed]",
      "text/plain": [
       "<matplotlib.figure.Figure at 0x7f24c878c950>"
      ]
     },
     "metadata": {},
     "output_type": "display_data"
    }
   ],
   "source": [
    "plt.semilogx(reg, val_acc, 'r-')\n",
    "plt.xlabel('L2 Lamda')\n",
    "plt.ylabel('val_acc')\n",
    "plt.title('Lamda vs. Val_acc')"
   ]
  },
  {
   "cell_type": "markdown",
   "metadata": {},
   "source": [
    "Based on the val_acc, shrink the range to test 2: (1e-2, 3e-1)"
   ]
  },
  {
   "cell_type": "code",
   "execution_count": 76,
   "metadata": {},
   "outputs": [
    {
     "name": "stdout",
     "output_type": "stream",
     "text": [
      "('train loss diff is smaller than ', 1e-08, ', training stopped,', ' training time: ', 0.731484, 's')\n('L2 lamda: ', 0.01, ' val_acc: ', 0.93)\n"
     ]
    },
    {
     "name": "stdout",
     "output_type": "stream",
     "text": [
      "('train loss diff is smaller than ', 1e-08, ', training stopped,', ' training time: ', 0.799783, 's')\n('L2 lamda: ', 0.011993539462092343, ' val_acc: ', 0.9457142857142857)\n"
     ]
    },
    {
     "name": "stdout",
     "output_type": "stream",
     "text": [
      "('train loss diff is smaller than ', 1e-08, ', training stopped,', ' training time: ', 0.62794, 's')\n('L2 lamda: ', 0.01438449888287663, ' val_acc: ', 0.9357142857142857)\n"
     ]
    },
    {
     "name": "stdout",
     "output_type": "stream",
     "text": [
      "('train loss diff is smaller than ', 1e-08, ', training stopped,', ' training time: ', 0.687736, 's')\n('L2 lamda: ', 0.017252105499420408, ' val_acc: ', 0.9357142857142857)\n"
     ]
    },
    {
     "name": "stdout",
     "output_type": "stream",
     "text": [
      "('train loss diff is smaller than ', 1e-08, ', training stopped,', ' training time: ', 0.391275, 's')\n('L2 lamda: ', 0.0206913808111479, ' val_acc: ', 0.9357142857142857)\n"
     ]
    },
    {
     "name": "stdout",
     "output_type": "stream",
     "text": [
      "('train loss diff is smaller than ', 1e-08, ', training stopped,', ' training time: ', 0.64898, 's')\n('L2 lamda: ', 0.024816289228368264, ' val_acc: ', 0.9542857142857143)\n"
     ]
    },
    {
     "name": "stdout",
     "output_type": "stream",
     "text": [
      "('train loss diff is smaller than ', 1e-08, ', training stopped,', ' training time: ', 0.521617, 's')\n('L2 lamda: ', 0.029763514416313176, ' val_acc: ', 0.95)\n"
     ]
    },
    {
     "name": "stdout",
     "output_type": "stream",
     "text": [
      "('train loss diff is smaller than ', 1e-08, ', training stopped,', ' training time: ', 0.777291, 's')\n('L2 lamda: ', 0.035696988468260644, ' val_acc: ', 0.9557142857142857)\n"
     ]
    },
    {
     "name": "stdout",
     "output_type": "stream",
     "text": [
      "('train loss diff is smaller than ', 1e-08, ', training stopped,', ' training time: ', 0.523763, 's')\n('L2 lamda: ', 0.04281332398719394, ' val_acc: ', 0.9428571428571428)\n"
     ]
    },
    {
     "name": "stdout",
     "output_type": "stream",
     "text": [
      "('train loss diff is smaller than ', 1e-08, ', training stopped,', ' training time: ', 0.825701, 's')\n('L2 lamda: ', 0.05134832907437552, ' val_acc: ', 0.9471428571428572)\n"
     ]
    },
    {
     "name": "stdout",
     "output_type": "stream",
     "text": [
      "('train loss diff is smaller than ', 1e-08, ', training stopped,', ' training time: ', 0.746532, 's')\n('L2 lamda: ', 0.06158482110660264, ' val_acc: ', 0.9457142857142857)\n"
     ]
    },
    {
     "name": "stdout",
     "output_type": "stream",
     "text": [
      "('train loss diff is smaller than ', 1e-08, ', training stopped,', ' training time: ', 0.583779, 's')\n('L2 lamda: ', 0.07386199822079359, ' val_acc: ', 0.9457142857142857)\n"
     ]
    },
    {
     "name": "stdout",
     "output_type": "stream",
     "text": [
      "('train loss diff is smaller than ', 1e-08, ', training stopped,', ' training time: ', 1.080489, 's')\n('L2 lamda: ', 0.08858667904100823, ' val_acc: ', 0.9542857142857143)\n"
     ]
    },
    {
     "name": "stdout",
     "output_type": "stream",
     "text": [
      "('train loss diff is smaller than ', 1e-08, ', training stopped,', ' training time: ', 1.051526, 's')\n('L2 lamda: ', 0.10624678308940409, ' val_acc: ', 0.9557142857142857)\n"
     ]
    },
    {
     "name": "stdout",
     "output_type": "stream",
     "text": [
      "('train loss diff is smaller than ', 1e-08, ', training stopped,', ' training time: ', 1.220912, 's')\n('L2 lamda: ', 0.12742749857031335, ' val_acc: ', 0.9557142857142857)\n"
     ]
    },
    {
     "name": "stdout",
     "output_type": "stream",
     "text": [
      "('train loss diff is smaller than ', 1e-08, ', training stopped,', ' training time: ', 0.796156, 's')\n('L2 lamda: ', 0.15283067326587688, ' val_acc: ', 0.9485714285714286)\n"
     ]
    },
    {
     "name": "stdout",
     "output_type": "stream",
     "text": [
      "('train loss diff is smaller than ', 1e-08, ', training stopped,', ' training time: ', 0.873634, 's')\n('L2 lamda: ', 0.18329807108324356, ' val_acc: ', 0.9471428571428572)\n"
     ]
    },
    {
     "name": "stdout",
     "output_type": "stream",
     "text": [
      "('train loss diff is smaller than ', 1e-08, ', training stopped,', ' training time: ', 0.863838, 's')\n('L2 lamda: ', 0.2198392648862289, ' val_acc: ', 0.9471428571428572)\n"
     ]
    },
    {
     "name": "stdout",
     "output_type": "stream",
     "text": [
      "('train loss diff is smaller than ', 1e-08, ', training stopped,', ' training time: ', 0.612936, 's')\n('L2 lamda: ', 0.26366508987303583, ' val_acc: ', 0.9371428571428572)\n"
     ]
    },
    {
     "name": "stdout",
     "output_type": "stream",
     "text": [
      "('train loss diff is smaller than ', 1e-08, ', training stopped,', ' training time: ', 0.721014, 's')\n('L2 lamda: ', 0.31622776601683794, ' val_acc: ', 0.9328571428571428)\n"
     ]
    }
   ],
   "source": [
    "reg = np.logspace(-2, -0.5, 20)\n",
    "val_acc = []\n",
    "for i in range(len(reg)):  \n",
    "    net_reg = NeuralNet_Tu(size_tuple=(400, 120, 40, 10))\n",
    "    net_reg.train(X_train, y_train, X_val, y_val, num_iters=100, learning_rate=1, verbose=False, \n",
    "                   printstep=10, activation='leaky_relu', reg=reg[i], batch_size=64, early_stop=1e-8)\n",
    "    val_acc.append(net_reg.val_acc_history[-1])\n",
    "    print('L2 lamda: ', reg[i], ' val_acc: ', net_reg.val_acc_history[-1])"
   ]
  },
  {
   "cell_type": "code",
   "execution_count": 77,
   "metadata": {},
   "outputs": [
    {
     "data": {
      "text/plain": [
       "Text(0.5,1,u'Lamda vs. Val_acc')"
      ]
     },
     "execution_count": 77,
     "metadata": {},
     "output_type": "execute_result"
    },
    {
     "data": {
      "image/png": "[encoded data removed]",
      "text/plain": [
       "<matplotlib.figure.Figure at 0x7f24c7c8be50>"
      ]
     },
     "metadata": {},
     "output_type": "display_data"
    }
   ],
   "source": [
    "plt.semilogx(reg, val_acc, 'r-')\n",
    "plt.xlabel('L2 Lamda')\n",
    "plt.ylabel('val_acc')\n",
    "plt.title('Lamda vs. Val_acc')"
   ]
  },
  {
   "cell_type": "markdown",
   "metadata": {},
   "source": [
    "Based on the val_acc, I will choose L2 Lamda 0.1"
   ]
  },
  {
   "cell_type": "markdown",
   "metadata": {},
   "source": [
    "Model 1:\n",
    "1. L2: 0.1\n",
    "2. activation: leaky_relu\n",
    "3. batch_size: 64\n",
    "4. learning_rate: 0.3\n",
    "5. net_architecture: (400, 120, 40, 10)"
   ]
  },
  {
   "cell_type": "code",
   "execution_count": 78,
   "metadata": {},
   "outputs": [
    {
     "name": "stdout",
     "output_type": "stream",
     "text": [
      "iteration 1 / 600: loss 1.943989 train_acc  0.879286 val_acc 0.834286\n"
     ]
    },
    {
     "name": "stdout",
     "output_type": "stream",
     "text": [
      "iteration 60 / 600: loss 1.578736 train_acc  0.997143 val_acc 0.955714\n"
     ]
    },
    {
     "name": "stdout",
     "output_type": "stream",
     "text": [
      "iteration 120 / 600: loss 1.549140 train_acc  0.997500 val_acc 0.955714\n"
     ]
    },
    {
     "name": "stdout",
     "output_type": "stream",
     "text": [
      "iteration 180 / 600: loss 1.541817 train_acc  0.998929 val_acc 0.957143\n"
     ]
    },
    {
     "name": "stdout",
     "output_type": "stream",
     "text": [
      "iteration 240 / 600: loss 1.539290 train_acc  0.999286 val_acc 0.955714\n"
     ]
    },
    {
     "name": "stdout",
     "output_type": "stream",
     "text": [
      "iteration 300 / 600: loss 1.538453 train_acc  0.999286 val_acc 0.954286\n"
     ]
    },
    {
     "name": "stdout",
     "output_type": "stream",
     "text": [
      "iteration 360 / 600: loss 1.537878 train_acc  0.999286 val_acc 0.955714\n"
     ]
    },
    {
     "name": "stdout",
     "output_type": "stream",
     "text": [
      "iteration 420 / 600: loss 1.538131 train_acc  0.999286 val_acc 0.955714\n"
     ]
    },
    {
     "name": "stdout",
     "output_type": "stream",
     "text": [
      "iteration 480 / 600: loss 1.538685 train_acc  0.999286 val_acc 0.957143\n"
     ]
    },
    {
     "name": "stdout",
     "output_type": "stream",
     "text": [
      "iteration 540 / 600: loss 1.538518 train_acc  0.999286 val_acc 0.957143\n"
     ]
    },
    {
     "name": "stdout",
     "output_type": "stream",
     "text": [
      "iteration 600 / 600: loss 1.538084 train_acc  0.999286 val_acc 0.958571\n"
     ]
    },
    {
     "data": {
      "text/plain": [
       "<__main__.NeuralNet_Tu at 0x7f24c7c854d0>"
      ]
     },
     "execution_count": 78,
     "metadata": {},
     "output_type": "execute_result"
    }
   ],
   "source": [
    "net_final_test = NeuralNet_Tu((400, 120, 40, 10))\n",
    "net_final_test.train(X_train, y_train, X_val, y_val, num_iters=600, learning_rate=0.3, verbose=True, \n",
    "                printstep=60,activation='leaky_relu', reg=0.1, batch_size=64, early_stop=None)"
   ]
  },
  {
   "cell_type": "code",
   "execution_count": 79,
   "metadata": {},
   "outputs": [
    {
     "data": {
      "image/png": "[encoded data removed]",
      "text/plain": [
       "<matplotlib.figure.Figure at 0x7f24beb02610>"
      ]
     },
     "metadata": {},
     "output_type": "display_data"
    }
   ],
   "source": [
    "net_final_test.plot_loss_acc()"
   ]
  },
  {
   "cell_type": "markdown",
   "metadata": {},
   "source": [
    "I will make it stop at epoch 400, train with full train set, then test"
   ]
  },
  {
   "cell_type": "code",
   "execution_count": 80,
   "metadata": {},
   "outputs": [
    {
     "name": "stdout",
     "output_type": "stream",
     "text": [
      "iteration 1 / 400: loss 1.996002 train_acc  0.904571\n"
     ]
    },
    {
     "name": "stdout",
     "output_type": "stream",
     "text": [
      "iteration 100 / 400: loss 1.562192 train_acc  0.998571\n"
     ]
    },
    {
     "name": "stdout",
     "output_type": "stream",
     "text": [
      "iteration 200 / 400: loss 1.555646 train_acc  0.999143\n"
     ]
    },
    {
     "name": "stdout",
     "output_type": "stream",
     "text": [
      "iteration 300 / 400: loss 1.555504 train_acc  0.999429\n"
     ]
    },
    {
     "name": "stdout",
     "output_type": "stream",
     "text": [
      "iteration 400 / 400: loss 1.554111 train_acc  0.999714\n('Final Test Accuracy: ', 0.956)\n"
     ]
    }
   ],
   "source": [
    "net_final = NeuralNet_Tu((400, 120, 40, 10))\n",
    "net_final.train(X_train_all, y_train_all, num_iters=400, learning_rate=0.3, verbose=True, \n",
    "                printstep=100, activation='leaky_relu', reg=0.1, batch_size=64, early_stop=None)\n",
    "test_pred = net_final.predict(X_test)\n",
    "test_acc = np.mean(test_pred == y_test)\n",
    "print('Final Test Accuracy: ', test_acc)"
   ]
  },
  {
   "cell_type": "markdown",
   "metadata": {},
   "source": [
    "Final test accuracy: 0.956, generally in range(0.950, 0.957). It improves a lot from the baseline validation accuracy 0.92\n"
   ]
  },
  {
   "cell_type": "code",
   "execution_count": null,
   "metadata": {},
   "outputs": [],
   "source": []
  }
 ],
 "metadata": {
  "kernelspec": {
   "display_name": "Python 2",
   "language": "python",
   "name": "python2"
  },
  "language_info": {
   "codemirror_mode": {
    "name": "ipython",
    "version": 2
   },
   "file_extension": ".py",
   "mimetype": "text/x-python",
   "name": "python",
   "nbconvert_exporter": "python",
   "pygments_lexer": "ipython2",
   "version": "2.7.6"
  }
 },
 "nbformat": 4,
 "nbformat_minor": 0
}
