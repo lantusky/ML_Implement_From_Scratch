{
 "cells": [
  {
   "cell_type": "markdown",
   "metadata": {},
   "source": [
    "CMPE 258 Assignment #3\n",
    "1. Author: Tu Lan 011495497 tu.lan@sjsu.edu\n",
    "2. Date: 03/02/2018\n",
    "3. Tips: Before running the code, please change the Directories to yours, especially the directory of datasets"
   ]
  },
  {
   "cell_type": "code",
   "execution_count": 157,
   "metadata": {
    "collapsed": true
   },
   "outputs": [],
   "source": [
    "# basic libraries\n",
    "import os               # a system library, not related to algorithm          \n",
    "import matplotlib.pyplot as plt\n",
    "import matplotlib\n",
    "import pandas as pd\n",
    "import numpy as np\n",
    "\n",
    "# state control\n",
    "state = np.random.seed(1)\n",
    "\n",
    "# To plot pretty figures\n",
    "import seaborn as sns  # just a plot library. Not related to algorithms\n",
    "%matplotlib inline\n",
    "plt.style.use('seaborn')\n",
    "sns.set(style=\"ticks\", color_codes=True)\n",
    "\n",
    "# Directories\n",
    "PROJECT_ROOT_DIR = '/home/tulan/PycharmProjects/Google/Machine_Learning/CMPE258/HW3'\n",
    "DATA_DIR = '/home/tulan/PycharmProjects/Google/Machine_Learning/CMPE258/data'\n",
    "\n",
    "# Where to save the figures\n",
    "IMAGE_FOLD = 'images'\n",
    "IMAGE_DIR = os.path.join(PROJECT_ROOT_DIR, IMAGE_FOLD)\n",
    "\n",
    "def save_fig(fig_id, tight_layout=True):\n",
    "    if not os.path.exists(IMAGE_DIR):\n",
    "        os.makedirs(IMAGE_DIR)\n",
    "    path = os.path.join(IMAGE_DIR, fig_id + \".png\")\n",
    "    print(\"Saving figure\", fig_id)\n",
    "    if tight_layout:\n",
    "        plt.tight_layout()\n",
    "    plt.savefig(path, format='png', dpi=300)"
   ]
  },
  {
   "cell_type": "markdown",
   "metadata": {},
   "source": [
    "1.Define functions\n"
   ]
  },
  {
   "cell_type": "markdown",
   "metadata": {},
   "source": [
    "1.1 One-hot Encoding"
   ]
  },
  {
   "cell_type": "code",
   "execution_count": 2,
   "metadata": {},
   "outputs": [],
   "source": [
    "def to_onehot(y, n_class):\n",
    "    num = len(y)\n",
    "    y_onehot = np.zeros((num, n_class), dtype=np.uint8)\n",
    "    for i in range(num):\n",
    "        y_onehot[i][y[i]] = 1\n",
    "    return y_onehot"
   ]
  },
  {
   "cell_type": "code",
   "execution_count": 3,
   "metadata": {},
   "outputs": [
    {
     "data": {
      "text/plain": [
       "array([[0, 0, 0, 0, 1, 0, 0, 0, 0, 0]], dtype=uint8)"
      ]
     },
     "execution_count": 3,
     "metadata": {},
     "output_type": "execute_result"
    }
   ],
   "source": [
    "a = [4]\n",
    "to_onehot(a, 10)"
   ]
  },
  {
   "cell_type": "markdown",
   "metadata": {},
   "source": [
    "1.2 Sigmiod"
   ]
  },
  {
   "cell_type": "code",
   "execution_count": 4,
   "metadata": {},
   "outputs": [],
   "source": [
    "def sigmoid(x):\n",
    "    return 1 / (1 + np.exp(-x))"
   ]
  },
  {
   "cell_type": "code",
   "execution_count": 5,
   "metadata": {},
   "outputs": [
    {
     "name": "stdout",
     "output_type": "stream",
     "text": [
      "[[ 0.26894142  0.11920292]\n [ 0.52497919  0.59868766]]\n"
     ]
    }
   ],
   "source": [
    "a = [[-1, -2], [0.1, 0.4]]\n",
    "a = np.asarray(a)\n",
    "print(sigmoid(a))"
   ]
  },
  {
   "cell_type": "code",
   "execution_count": 71,
   "metadata": {},
   "outputs": [],
   "source": [
    "def sigmoid_deri(x):\n",
    "    return x * (1 - x)"
   ]
  },
  {
   "cell_type": "code",
   "execution_count": 72,
   "metadata": {},
   "outputs": [
    {
     "name": "stdout",
     "output_type": "stream",
     "text": [
      "[[-2.   -6.  ]\n [ 0.09  0.24]]\n"
     ]
    }
   ],
   "source": [
    "a = [[-1, -2], [0.1, 0.4]]\n",
    "a = np.asarray(a)\n",
    "print(sigmoid_deri(a))"
   ]
  },
  {
   "cell_type": "code",
   "execution_count": 6,
   "metadata": {},
   "outputs": [],
   "source": [
    "def softmax(out):\n",
    "    numerator = np.exp(out)\n",
    "    denominator = np.sum(numerator, axis=1).reshape(-1, 1)\n",
    "    scores = numerator / denominator\n",
    "    return scores"
   ]
  },
  {
   "cell_type": "code",
   "execution_count": 7,
   "metadata": {},
   "outputs": [
    {
     "name": "stdout",
     "output_type": "stream",
     "text": [
      "[[ 0.12416539  0.0456779   0.83015671]\n [ 0.22916797  0.3093444   0.46148762]]\n"
     ]
    }
   ],
   "source": [
    "a = [[-1, -2 , 0.9], [0.1, 0.4, 0.8]]\n",
    "a = np.asarray(a)\n",
    "print(softmax(a))"
   ]
  },
  {
   "cell_type": "markdown",
   "metadata": {},
   "source": [
    "1.3 - 1.6 I combine the functions in the class NeuralNet: \n",
    "1. parameter initialization in function '__init__'\n",
    "2. forward propagation and backward propagation in function 'loss'\n",
    "3. gradient descent in function 'train'"
   ]
  },
  {
   "cell_type": "code",
   "execution_count": 152,
   "metadata": {},
   "outputs": [],
   "source": [
    "class NeuralNet(object):\n",
    "    \"\"\"\n",
    "    - A 3-layer fully-connected neural network.\n",
    "    - Architecture: input - Hidden Layer 1 - Sigmiod - Output Layer - Sigmoid - softmax\n",
    "    \"\"\"\n",
    "    \n",
    "    def __init__(self, input_size, h1_size, output_size):\n",
    "        \"\"\"\n",
    "        - Input size: (N, D) N:number of samples,full batch D: dimension\n",
    "        \"\"\"\n",
    "        # Parameter Initialization\n",
    "        self.W1 = 0.01 * np.random.randn(input_size, h1_size)\n",
    "        self.b1 = np.zeros(h1_size)\n",
    "        self.W2 = 0.01 * np.random.randn(h1_size, output_size)\n",
    "        self.b2 = np.zeros(output_size)\n",
    "        self.grads = {}  # a dictionary\n",
    "\n",
    "    def loss(self, X, y=None):\n",
    "        \n",
    "        N, D = X.shape\n",
    "        y_onehot = to_onehot(y, 10)\n",
    "        \n",
    "        # Forward Propagation\n",
    "        \n",
    "        A1 = sigmoid(X.dot(self.W1) + self.b1)           # (N, h1_size)                      \n",
    "        A2 = sigmoid(A1.dot(self.W2) + self.b2)          # (N, output_size)\n",
    "        \n",
    "        # If y is not given then jump out\n",
    "        if y is None:\n",
    "          return A2\n",
    "        \n",
    "        # Compute the loss: cross-entrophy loss \n",
    "        loss = 0.0     \n",
    "        scores = softmax(A2)   # size: (N, output_size), each sample has 10 scores for each category\n",
    "        for i in range(N):\n",
    "            loss -= np.log(scores[i][y[i]])\n",
    "        loss /= N              # mean loss \n",
    "        \n",
    "        # Backward Propagation   \n",
    "        delta_3 = A2 - y_onehot  # N, output_size\n",
    "        delta_2 = delta_3.dot(self.W2.T) * sigmoid_deri(A1)         # (N, h1_size)\n",
    "        \n",
    "        dW2 = A1.T.dot(delta_3) / N\n",
    "        dW1 = X.T.dot(delta_2) / N\n",
    "        db2 = np.sum(delta_3, axis=0) / N\n",
    "        db1 = np.sum(delta_2, axis=0) / N\n",
    "        \n",
    "        self.grads['W2'] = dW2\n",
    "        self.grads['b2'] = db2\n",
    "        self.grads['W1'] = dW1\n",
    "        self.grads['b1'] = db1\n",
    "        \n",
    "        return loss, self.grads\n",
    "\n",
    "    def train(self, X, y, X_val=None, y_val=None, learning_rate=1e-3, num_iters=100, verbose=False, printstep = 10):\n",
    "        self.loss_history = []\n",
    "        self.train_acc_history = []\n",
    "        self.val_acc_history = []\n",
    "        \n",
    "        for it in range(num_iters):     \n",
    "            # Compute loss and gradients\n",
    "            loss, grads = self.loss(X, y)\n",
    "            \n",
    "            # update parameters (gradient descent)\n",
    "            self.W1 -= learning_rate * grads['W1']\n",
    "            self.b1 -= learning_rate * grads['b1']\n",
    "            self.W2 -= learning_rate * grads['W2']\n",
    "            self.b2 -= learning_rate * grads['b2']\n",
    "\n",
    "            # control verbose  \n",
    "            if (verbose==True) and (X_val is not None) and ((it+1) % printstep == 0):\n",
    "                val_acc = (self.predict(X_val) == y_val).mean()\n",
    "                train_acc = (self.predict(X) == y).mean()\n",
    "                print('iteration %d / %d: loss %f train_acc % f val_acc %f' % \n",
    "                      (it+1, num_iters, loss, train_acc, val_acc))  \n",
    "                self.loss_history.append(loss)\n",
    "                self.train_acc_history.append(train_acc)\n",
    "                self.val_acc_history.append(val_acc)\n",
    "                \n",
    "            if (verbose==True) and (X_val is None) and ((it+1) % printstep == 0):\n",
    "                train_acc = (self.predict(X) == y).mean()\n",
    "                print('iteration %d / %d: loss %f train_acc % f' % \n",
    "                      (it+1, num_iters, loss, train_acc,))  \n",
    "                self.loss_history.append(loss)\n",
    "                self.train_acc_history.append(train_acc)\n",
    "        return self\n",
    "\n",
    "    def predict(self, X):\n",
    "        X1 = sigmoid(X.dot(self.W1) + self.b1)\n",
    "        X2 = X1.dot(self.W2) + self.b2\n",
    "        scores = softmax(X2)\n",
    "        y_pred = np.argmax(scores, axis=1)\n",
    "        return y_pred\n"
   ]
  },
  {
   "cell_type": "markdown",
   "metadata": {},
   "source": [
    "\n",
    "2.Read data and split data (The data has been normalized)"
   ]
  },
  {
   "cell_type": "code",
   "execution_count": 29,
   "metadata": {},
   "outputs": [
    {
     "data": {
      "text/plain": [
       "((3500, 401), (1500, 401))"
      ]
     },
     "execution_count": 29,
     "metadata": {},
     "output_type": "execute_result"
    }
   ],
   "source": [
    "train_set = pd.read_csv(DATA_DIR + '/ex3_train.csv')\n",
    "test_set = pd.read_csv(DATA_DIR + '/ex3_test.csv')\n",
    "train_set.shape, test_set.shape"
   ]
  },
  {
   "cell_type": "code",
   "execution_count": 30,
   "metadata": {},
   "outputs": [
    {
     "name": "stdout",
     "output_type": "stream",
     "text": [
      "<class 'pandas.core.frame.DataFrame'>\nRangeIndex: 3500 entries, 0 to 3499\nColumns: 401 entries, 0 to y\ndtypes: float64(394), int64(7)\nmemory usage: 10.7 MB\n<class 'pandas.core.frame.DataFrame'>\nRangeIndex: 1500 entries, 0 to 1499\nColumns: 401 entries, 0 to y\ndtypes: float64(389), int64(12)\nmemory usage: 4.6 MB\n"
     ]
    },
    {
     "data": {
      "text/plain": [
       "(None, None)"
      ]
     },
     "execution_count": 30,
     "metadata": {},
     "output_type": "execute_result"
    }
   ],
   "source": [
    "train_set.info(), test_set.info()"
   ]
  },
  {
   "cell_type": "code",
   "execution_count": 31,
   "metadata": {},
   "outputs": [
    {
     "data": {
      "text/html": [
       "<div>\n",
       "<style>\n",
       "    .dataframe thead tr:only-child th {\n",
       "        text-align: right;\n",
       "    }\n",
       "\n",
       "    .dataframe thead th {\n",
       "        text-align: left;\n",
       "    }\n",
       "\n",
       "    .dataframe tbody tr th {\n",
       "        vertical-align: top;\n",
       "    }\n",
       "</style>\n",
       "<table border=\"1\" class=\"dataframe\">\n",
       "  <thead>\n",
       "    <tr style=\"text-align: right;\">\n",
       "      <th></th>\n",
       "      <th>0</th>\n",
       "      <th>1</th>\n",
       "      <th>2</th>\n",
       "      <th>3</th>\n",
       "      <th>4</th>\n",
       "      <th>5</th>\n",
       "      <th>6</th>\n",
       "      <th>7</th>\n",
       "      <th>8</th>\n",
       "      <th>9</th>\n",
       "      <th>...</th>\n",
       "      <th>391</th>\n",
       "      <th>392</th>\n",
       "      <th>393</th>\n",
       "      <th>394</th>\n",
       "      <th>395</th>\n",
       "      <th>396</th>\n",
       "      <th>397</th>\n",
       "      <th>398</th>\n",
       "      <th>399</th>\n",
       "      <th>y</th>\n",
       "    </tr>\n",
       "  </thead>\n",
       "  <tbody>\n",
       "    <tr>\n",
       "      <th>0</th>\n",
       "      <td>0</td>\n",
       "      <td>0</td>\n",
       "      <td>0.0</td>\n",
       "      <td>0.0</td>\n",
       "      <td>0.0</td>\n",
       "      <td>0.0</td>\n",
       "      <td>0.0</td>\n",
       "      <td>0.0</td>\n",
       "      <td>0.0</td>\n",
       "      <td>0.0</td>\n",
       "      <td>...</td>\n",
       "      <td>0.0</td>\n",
       "      <td>0.0</td>\n",
       "      <td>0.0</td>\n",
       "      <td>0.0</td>\n",
       "      <td>0.0</td>\n",
       "      <td>0.0</td>\n",
       "      <td>0.0</td>\n",
       "      <td>0.0</td>\n",
       "      <td>0</td>\n",
       "      <td>5</td>\n",
       "    </tr>\n",
       "    <tr>\n",
       "      <th>1</th>\n",
       "      <td>0</td>\n",
       "      <td>0</td>\n",
       "      <td>0.0</td>\n",
       "      <td>0.0</td>\n",
       "      <td>0.0</td>\n",
       "      <td>0.0</td>\n",
       "      <td>0.0</td>\n",
       "      <td>0.0</td>\n",
       "      <td>0.0</td>\n",
       "      <td>0.0</td>\n",
       "      <td>...</td>\n",
       "      <td>0.0</td>\n",
       "      <td>0.0</td>\n",
       "      <td>0.0</td>\n",
       "      <td>0.0</td>\n",
       "      <td>0.0</td>\n",
       "      <td>0.0</td>\n",
       "      <td>0.0</td>\n",
       "      <td>0.0</td>\n",
       "      <td>0</td>\n",
       "      <td>9</td>\n",
       "    </tr>\n",
       "    <tr>\n",
       "      <th>2</th>\n",
       "      <td>0</td>\n",
       "      <td>0</td>\n",
       "      <td>0.0</td>\n",
       "      <td>0.0</td>\n",
       "      <td>0.0</td>\n",
       "      <td>0.0</td>\n",
       "      <td>0.0</td>\n",
       "      <td>0.0</td>\n",
       "      <td>0.0</td>\n",
       "      <td>0.0</td>\n",
       "      <td>...</td>\n",
       "      <td>0.0</td>\n",
       "      <td>0.0</td>\n",
       "      <td>0.0</td>\n",
       "      <td>0.0</td>\n",
       "      <td>0.0</td>\n",
       "      <td>0.0</td>\n",
       "      <td>0.0</td>\n",
       "      <td>0.0</td>\n",
       "      <td>0</td>\n",
       "      <td>7</td>\n",
       "    </tr>\n",
       "    <tr>\n",
       "      <th>3</th>\n",
       "      <td>0</td>\n",
       "      <td>0</td>\n",
       "      <td>0.0</td>\n",
       "      <td>0.0</td>\n",
       "      <td>0.0</td>\n",
       "      <td>0.0</td>\n",
       "      <td>0.0</td>\n",
       "      <td>0.0</td>\n",
       "      <td>0.0</td>\n",
       "      <td>0.0</td>\n",
       "      <td>...</td>\n",
       "      <td>0.0</td>\n",
       "      <td>0.0</td>\n",
       "      <td>0.0</td>\n",
       "      <td>0.0</td>\n",
       "      <td>0.0</td>\n",
       "      <td>0.0</td>\n",
       "      <td>0.0</td>\n",
       "      <td>0.0</td>\n",
       "      <td>0</td>\n",
       "      <td>6</td>\n",
       "    </tr>\n",
       "    <tr>\n",
       "      <th>4</th>\n",
       "      <td>0</td>\n",
       "      <td>0</td>\n",
       "      <td>0.0</td>\n",
       "      <td>0.0</td>\n",
       "      <td>0.0</td>\n",
       "      <td>0.0</td>\n",
       "      <td>0.0</td>\n",
       "      <td>0.0</td>\n",
       "      <td>0.0</td>\n",
       "      <td>0.0</td>\n",
       "      <td>...</td>\n",
       "      <td>0.0</td>\n",
       "      <td>0.0</td>\n",
       "      <td>0.0</td>\n",
       "      <td>0.0</td>\n",
       "      <td>0.0</td>\n",
       "      <td>0.0</td>\n",
       "      <td>0.0</td>\n",
       "      <td>0.0</td>\n",
       "      <td>0</td>\n",
       "      <td>5</td>\n",
       "    </tr>\n",
       "  </tbody>\n",
       "</table>\n",
       "<p>5 rows × 401 columns</p>\n",
       "</div>"
      ],
      "text/plain": [
       "<div>\n",
       "<style>\n",
       "    .dataframe thead tr:only-child th {\n",
       "        text-align: right;\n",
       "    }\n",
       "\n",
       "    .dataframe thead th {\n",
       "        text-align: left;\n",
       "    }\n",
       "\n",
       "    .dataframe tbody tr th {\n",
       "        vertical-align: top;\n",
       "    }\n",
       "</style>\n",
       "<table border=\"1\" class=\"dataframe\">\n",
       "  <thead>\n",
       "    <tr style=\"text-align: right;\">\n",
       "      <th></th>\n",
       "      <th>0</th>\n",
       "      <th>1</th>\n",
       "      <th>2</th>\n",
       "      <th>3</th>\n",
       "      <th>4</th>\n",
       "      <th>5</th>\n",
       "      <th>6</th>\n",
       "      <th>7</th>\n",
       "      <th>8</th>\n",
       "      <th>9</th>\n",
       "      <th>...</th>\n",
       "      <th>391</th>\n",
       "      <th>392</th>\n",
       "      <th>393</th>\n",
       "      <th>394</th>\n",
       "      <th>395</th>\n",
       "      <th>396</th>\n",
       "      <th>397</th>\n",
       "      <th>398</th>\n",
       "      <th>399</th>\n",
       "      <th>y</th>\n",
       "    </tr>\n",
       "  </thead>\n",
       "  <tbody>\n",
       "    <tr>\n",
       "      <th>0</th>\n",
       "      <td>0</td>\n",
       "      <td>0</td>\n",
       "      <td>0.0</td>\n",
       "      <td>0.0</td>\n",
       "      <td>0.0</td>\n",
       "      <td>0.0</td>\n",
       "      <td>0.0</td>\n",
       "      <td>0.0</td>\n",
       "      <td>0.0</td>\n",
       "      <td>0.0</td>\n",
       "      <td>...</td>\n",
       "      <td>0.0</td>\n",
       "      <td>0.0</td>\n",
       "      <td>0.0</td>\n",
       "      <td>0.0</td>\n",
       "      <td>0.0</td>\n",
       "      <td>0.0</td>\n",
       "      <td>0.0</td>\n",
       "      <td>0.0</td>\n",
       "      <td>0</td>\n",
       "      <td>5</td>\n",
       "    </tr>\n",
       "    <tr>\n",
       "      <th>1</th>\n",
       "      <td>0</td>\n",
       "      <td>0</td>\n",
       "      <td>0.0</td>\n",
       "      <td>0.0</td>\n",
       "      <td>0.0</td>\n",
       "      <td>0.0</td>\n",
       "      <td>0.0</td>\n",
       "      <td>0.0</td>\n",
       "      <td>0.0</td>\n",
       "      <td>0.0</td>\n",
       "      <td>...</td>\n",
       "      <td>0.0</td>\n",
       "      <td>0.0</td>\n",
       "      <td>0.0</td>\n",
       "      <td>0.0</td>\n",
       "      <td>0.0</td>\n",
       "      <td>0.0</td>\n",
       "      <td>0.0</td>\n",
       "      <td>0.0</td>\n",
       "      <td>0</td>\n",
       "      <td>9</td>\n",
       "    </tr>\n",
       "    <tr>\n",
       "      <th>2</th>\n",
       "      <td>0</td>\n",
       "      <td>0</td>\n",
       "      <td>0.0</td>\n",
       "      <td>0.0</td>\n",
       "      <td>0.0</td>\n",
       "      <td>0.0</td>\n",
       "      <td>0.0</td>\n",
       "      <td>0.0</td>\n",
       "      <td>0.0</td>\n",
       "      <td>0.0</td>\n",
       "      <td>...</td>\n",
       "      <td>0.0</td>\n",
       "      <td>0.0</td>\n",
       "      <td>0.0</td>\n",
       "      <td>0.0</td>\n",
       "      <td>0.0</td>\n",
       "      <td>0.0</td>\n",
       "      <td>0.0</td>\n",
       "      <td>0.0</td>\n",
       "      <td>0</td>\n",
       "      <td>7</td>\n",
       "    </tr>\n",
       "    <tr>\n",
       "      <th>3</th>\n",
       "      <td>0</td>\n",
       "      <td>0</td>\n",
       "      <td>0.0</td>\n",
       "      <td>0.0</td>\n",
       "      <td>0.0</td>\n",
       "      <td>0.0</td>\n",
       "      <td>0.0</td>\n",
       "      <td>0.0</td>\n",
       "      <td>0.0</td>\n",
       "      <td>0.0</td>\n",
       "      <td>...</td>\n",
       "      <td>0.0</td>\n",
       "      <td>0.0</td>\n",
       "      <td>0.0</td>\n",
       "      <td>0.0</td>\n",
       "      <td>0.0</td>\n",
       "      <td>0.0</td>\n",
       "      <td>0.0</td>\n",
       "      <td>0.0</td>\n",
       "      <td>0</td>\n",
       "      <td>6</td>\n",
       "    </tr>\n",
       "    <tr>\n",
       "      <th>4</th>\n",
       "      <td>0</td>\n",
       "      <td>0</td>\n",
       "      <td>0.0</td>\n",
       "      <td>0.0</td>\n",
       "      <td>0.0</td>\n",
       "      <td>0.0</td>\n",
       "      <td>0.0</td>\n",
       "      <td>0.0</td>\n",
       "      <td>0.0</td>\n",
       "      <td>0.0</td>\n",
       "      <td>...</td>\n",
       "      <td>0.0</td>\n",
       "      <td>0.0</td>\n",
       "      <td>0.0</td>\n",
       "      <td>0.0</td>\n",
       "      <td>0.0</td>\n",
       "      <td>0.0</td>\n",
       "      <td>0.0</td>\n",
       "      <td>0.0</td>\n",
       "      <td>0</td>\n",
       "      <td>5</td>\n",
       "    </tr>\n",
       "  </tbody>\n",
       "</table>\n",
       "<p>5 rows × 401 columns</p>\n",
       "</div>"
      ]
     },
     "execution_count": 31,
     "metadata": {},
     "output_type": "execute_result"
    }
   ],
   "source": [
    "train_set.head()"
   ]
  },
  {
   "cell_type": "code",
   "execution_count": 32,
   "metadata": {},
   "outputs": [
    {
     "data": {
      "text/plain": [
       "((3500, 400), (3500,), (1500, 400), (1500,))"
      ]
     },
     "execution_count": 32,
     "metadata": {},
     "output_type": "execute_result"
    }
   ],
   "source": [
    "X_train_all = train_set.iloc[:, :-1].values.astype('float64')\n",
    "y_train_all = train_set['y'].values.astype('int64')\n",
    "X_test = test_set.iloc[:, :-1].values.astype('float64')\n",
    "y_test = test_set['y'].values.astype('int64')\n",
    "\n",
    "X_train_all.shape, y_train_all.shape, X_test.shape, y_test.shape"
   ]
  },
  {
   "cell_type": "markdown",
   "metadata": {},
   "source": [
    "Visualize and analyze the data"
   ]
  },
  {
   "cell_type": "code",
   "execution_count": 33,
   "metadata": {},
   "outputs": [
    {
     "name": "stdout",
     "output_type": "stream",
     "text": [
      "Saving figure train set digit count\n"
     ]
    },
    {
     "data": {
      "image/png": "[encoded data removed]",
      "text/plain": [
       "<matplotlib.figure.Figure at 0x7f80819a6470>"
      ]
     },
     "metadata": {},
     "output_type": "display_data"
    }
   ],
   "source": [
    "sns.countplot(y_train_all.ravel())\n",
    "save_fig('train set digit count')"
   ]
  },
  {
   "cell_type": "markdown",
   "metadata": {},
   "source": [
    "Every catogory has approximately 350 samples"
   ]
  },
  {
   "cell_type": "code",
   "execution_count": null,
   "metadata": {},
   "outputs": [],
   "source": [
    "\n",
    "some_digit = X_train_all[10]\n",
    "some_digit_image = some_digit.reshape(20, 20)\n",
    "plt.imshow(some_digit_image, cmap = matplotlib.cm.binary,\n",
    "           interpolation=\"nearest\")\n",
    "y_train_all[10]"
   ]
  },
  {
   "cell_type": "markdown",
   "metadata": {},
   "source": [
    "Split train and validation set"
   ]
  },
  {
   "cell_type": "code",
   "execution_count": 35,
   "metadata": {},
   "outputs": [
    {
     "data": {
      "text/plain": [
       "((2800, 400), (700, 400), (2800,), (700,))"
      ]
     },
     "execution_count": 35,
     "metadata": {},
     "output_type": "execute_result"
    }
   ],
   "source": [
    "def split_train_val(X, y, ratio_train, state):\n",
    "    # shuffle the sequence\n",
    "    np.random.seed(state)\n",
    "    num = len(y)\n",
    "    shuffle_index = np.random.permutation(num)\n",
    "    train_index = shuffle_index[:int(num * ratio_train)]\n",
    "    val_index = shuffle_index[int(num * ratio_train):]\n",
    "    X_train, y_train = X[train_index], y[train_index]\n",
    "    X_val, y_val = X[val_index], y[val_index]\n",
    "    return X_train, X_val, y_train, y_val\n",
    "\n",
    "\n",
    "X_train, X_val, y_train, y_val = split_train_val(X_train_all, y_train_all, 0.8, state)\n",
    "X_train.shape, X_val.shape, y_train.shape, y_val.shape"
   ]
  },
  {
   "cell_type": "markdown",
   "metadata": {},
   "source": [
    "we have 2800 samples for training, and 700 samples for validation"
   ]
  },
  {
   "cell_type": "markdown",
   "metadata": {},
   "source": [
    "3.Initialize parameters: It will be done inside the neural network initialization"
   ]
  },
  {
   "cell_type": "markdown",
   "metadata": {},
   "source": [
    "4.(20pts) Neural Network model with 1 hidden layer\n",
    "Please build neural network model using input layer (400 neurons), 1 hidden layer (25 neurons), and output layer (10\n",
    "neurons) using training data set.\n"
   ]
  },
  {
   "cell_type": "code",
   "execution_count": 91,
   "metadata": {},
   "outputs": [
    {
     "name": "stdout",
     "output_type": "stream",
     "text": [
      "W1 size:  (400, 25) \nW2 size:  (25, 10) \nb1 size:  (25,) \nb2 size:  (10,)\n"
     ]
    }
   ],
   "source": [
    "net = NeuralNet(input_size=400, h1_size=25, output_size=10)\n",
    "print('W1 size: ', net.W1.shape, '\\nW2 size: ', net.W2.shape, \n",
    "      '\\nb1 size: ', net.b1.shape, '\\nb2 size: ', net.b2.shape)"
   ]
  },
  {
   "cell_type": "code",
   "execution_count": 92,
   "metadata": {},
   "outputs": [
    {
     "name": "stdout",
     "output_type": "stream",
     "text": [
      "iteration 0 / 1000: loss 2.314120 train_acc  0.097857 val_acc 0.107143\n"
     ]
    },
    {
     "name": "stdout",
     "output_type": "stream",
     "text": [
      "iteration 50 / 1000: loss 2.251024 train_acc  0.536786 val_acc 0.531429\n"
     ]
    },
    {
     "name": "stdout",
     "output_type": "stream",
     "text": [
      "iteration 100 / 1000: loss 1.992272 train_acc  0.793929 val_acc 0.778571\n"
     ]
    },
    {
     "name": "stdout",
     "output_type": "stream",
     "text": [
      "iteration 150 / 1000: loss 1.829667 train_acc  0.867500 val_acc 0.860000\n"
     ]
    },
    {
     "name": "stdout",
     "output_type": "stream",
     "text": [
      "iteration 200 / 1000: loss 1.744012 train_acc  0.896429 val_acc 0.878571\n"
     ]
    },
    {
     "name": "stdout",
     "output_type": "stream",
     "text": [
      "iteration 250 / 1000: loss 1.695646 train_acc  0.910000 val_acc 0.880000\n"
     ]
    },
    {
     "name": "stdout",
     "output_type": "stream",
     "text": [
      "iteration 300 / 1000: loss 1.663884 train_acc  0.920357 val_acc 0.887143\n"
     ]
    },
    {
     "name": "stdout",
     "output_type": "stream",
     "text": [
      "iteration 350 / 1000: loss 1.641275 train_acc  0.928929 val_acc 0.895714\n"
     ]
    },
    {
     "name": "stdout",
     "output_type": "stream",
     "text": [
      "iteration 400 / 1000: loss 1.624293 train_acc  0.935714 val_acc 0.898571\n"
     ]
    },
    {
     "name": "stdout",
     "output_type": "stream",
     "text": [
      "iteration 450 / 1000: loss 1.611003 train_acc  0.938929 val_acc 0.904286\n"
     ]
    },
    {
     "name": "stdout",
     "output_type": "stream",
     "text": [
      "iteration 500 / 1000: loss 1.600266 train_acc  0.945714 val_acc 0.910000\n"
     ]
    },
    {
     "name": "stdout",
     "output_type": "stream",
     "text": [
      "iteration 550 / 1000: loss 1.591367 train_acc  0.950357 val_acc 0.911429\n"
     ]
    },
    {
     "name": "stdout",
     "output_type": "stream",
     "text": [
      "iteration 600 / 1000: loss 1.583834 train_acc  0.952500 val_acc 0.914286\n"
     ]
    },
    {
     "name": "stdout",
     "output_type": "stream",
     "text": [
      "iteration 650 / 1000: loss 1.577341 train_acc  0.958214 val_acc 0.915714\n"
     ]
    },
    {
     "name": "stdout",
     "output_type": "stream",
     "text": [
      "iteration 700 / 1000: loss 1.571662 train_acc  0.960000 val_acc 0.914286\n"
     ]
    },
    {
     "name": "stdout",
     "output_type": "stream",
     "text": [
      "iteration 750 / 1000: loss 1.566632 train_acc  0.962143 val_acc 0.912857\n"
     ]
    },
    {
     "name": "stdout",
     "output_type": "stream",
     "text": [
      "iteration 800 / 1000: loss 1.562130 train_acc  0.963214 val_acc 0.912857\n"
     ]
    },
    {
     "name": "stdout",
     "output_type": "stream",
     "text": [
      "iteration 850 / 1000: loss 1.558060 train_acc  0.964286 val_acc 0.915714\n"
     ]
    },
    {
     "name": "stdout",
     "output_type": "stream",
     "text": [
      "iteration 900 / 1000: loss 1.554346 train_acc  0.966786 val_acc 0.917143\n"
     ]
    },
    {
     "name": "stdout",
     "output_type": "stream",
     "text": [
      "iteration 950 / 1000: loss 1.550932 train_acc  0.968929 val_acc 0.918571\n"
     ]
    },
    {
     "data": {
      "text/plain": [
       "<__main__.NeuralNet at 0x7f8081b61c18>"
      ]
     },
     "execution_count": 92,
     "metadata": {},
     "output_type": "execute_result"
    }
   ],
   "source": [
    "net.train(X_train, y_train, X_val, y_val, num_iters=1000, learning_rate=1, verbose=True)"
   ]
  },
  {
   "cell_type": "markdown",
   "metadata": {},
   "source": [
    "5.(10pts) Predictions\n"
   ]
  },
  {
   "cell_type": "code",
   "execution_count": 104,
   "metadata": {},
   "outputs": [
    {
     "name": "stdout",
     "output_type": "stream",
     "text": [
      "train accuracy: 0.960857\ntest accuracy: 0.916667\n"
     ]
    }
   ],
   "source": [
    "y_pred_train = net.predict(X_train_all)\n",
    "train_acc = (y_pred_train == y_train_all).mean()\n",
    "y_pred_test = net.predict(X_test)\n",
    "test_acc = (y_pred_test == y_test).mean()\n",
    "print('train accuracy: %f\\ntest accuracy: %f' % (train_acc, test_acc))"
   ]
  },
  {
   "cell_type": "markdown",
   "metadata": {},
   "source": [
    "6.(20pts) Optimization\n"
   ]
  },
  {
   "cell_type": "markdown",
   "metadata": {},
   "source": [
    "Tuning Learning Rate (choose different number of iterations to ensure it fully converges.)"
   ]
  },
  {
   "cell_type": "code",
   "execution_count": 134,
   "metadata": {},
   "outputs": [
    {
     "name": "stdout",
     "output_type": "stream",
     "text": [
      "iteration 500 / 5000: loss 1.596790 train_acc  0.948214 val_acc 0.901429\n"
     ]
    },
    {
     "name": "stdout",
     "output_type": "stream",
     "text": [
      "iteration 1000 / 5000: loss 1.543554 train_acc  0.973571 val_acc 0.910000\n"
     ]
    },
    {
     "name": "stdout",
     "output_type": "stream",
     "text": [
      "iteration 1500 / 5000: loss 1.519354 train_acc  0.986071 val_acc 0.912857\n"
     ]
    },
    {
     "name": "stdout",
     "output_type": "stream",
     "text": [
      "iteration 2000 / 5000: loss 1.504614 train_acc  0.992143 val_acc 0.915714\n"
     ]
    },
    {
     "name": "stdout",
     "output_type": "stream",
     "text": [
      "iteration 2500 / 5000: loss 1.495056 train_acc  0.996429 val_acc 0.917143\n"
     ]
    },
    {
     "name": "stdout",
     "output_type": "stream",
     "text": [
      "iteration 3000 / 5000: loss 1.488530 train_acc  0.997857 val_acc 0.918571\n"
     ]
    },
    {
     "name": "stdout",
     "output_type": "stream",
     "text": [
      "iteration 3500 / 5000: loss 1.483895 train_acc  0.997857 val_acc 0.921429\n"
     ]
    },
    {
     "name": "stdout",
     "output_type": "stream",
     "text": [
      "iteration 4000 / 5000: loss 1.480478 train_acc  0.998571 val_acc 0.922857\n"
     ]
    },
    {
     "name": "stdout",
     "output_type": "stream",
     "text": [
      "iteration 4500 / 5000: loss 1.477868 train_acc  0.998571 val_acc 0.922857\n"
     ]
    },
    {
     "name": "stdout",
     "output_type": "stream",
     "text": [
      "iteration 5000 / 5000: loss 1.475817 train_acc  0.998929 val_acc 0.921429\n"
     ]
    },
    {
     "data": {
      "text/plain": [
       "<__main__.NeuralNet at 0x7f80817ee198>"
      ]
     },
     "execution_count": 134,
     "metadata": {},
     "output_type": "execute_result"
    }
   ],
   "source": [
    "# learning rate 1, num_iter = 5000\n",
    "net1 = NeuralNet(input_size=400, h1_size=25, output_size=10)\n",
    "net1.train(X_train, y_train, X_val, y_val, num_iters=5000, printstep=500, learning_rate=1, verbose=True)"
   ]
  },
  {
   "cell_type": "code",
   "execution_count": 136,
   "metadata": {},
   "outputs": [
    {
     "data": {
      "text/plain": [
       "<matplotlib.legend.Legend at 0x7f80816ceda0>"
      ]
     },
     "execution_count": 136,
     "metadata": {},
     "output_type": "execute_result"
    },
    {
     "data": {
      "image/png": "[encoded data removed]",
      "text/plain": [
       "<matplotlib.figure.Figure at 0x7f8081755828>"
      ]
     },
     "metadata": {},
     "output_type": "display_data"
    }
   ],
   "source": [
    "plt.plot(np.arange(1, len(net1.loss_history) + 1) * 500, net1.loss_history, 'r-', \n",
    "         label='learning rate 1')\n",
    "plt.xlabel('epochs')\n",
    "plt.ylabel('cost')\n",
    "plt.title('Training process')\n",
    "plt.legend(loc='upper right')"
   ]
  },
  {
   "cell_type": "code",
   "execution_count": 138,
   "metadata": {},
   "outputs": [
    {
     "name": "stdout",
     "output_type": "stream",
     "text": [
      "iteration 400 / 4000: loss 1.582195 train_acc  0.952143 val_acc 0.897143\n"
     ]
    },
    {
     "name": "stdout",
     "output_type": "stream",
     "text": [
      "iteration 800 / 4000: loss 1.532027 train_acc  0.976429 val_acc 0.910000\n"
     ]
    },
    {
     "name": "stdout",
     "output_type": "stream",
     "text": [
      "iteration 1200 / 4000: loss 1.509536 train_acc  0.990000 val_acc 0.912857\n"
     ]
    },
    {
     "name": "stdout",
     "output_type": "stream",
     "text": [
      "iteration 1600 / 4000: loss 1.495955 train_acc  0.995357 val_acc 0.910000\n"
     ]
    },
    {
     "name": "stdout",
     "output_type": "stream",
     "text": [
      "iteration 2000 / 4000: loss 1.487274 train_acc  0.998571 val_acc 0.912857\n"
     ]
    },
    {
     "name": "stdout",
     "output_type": "stream",
     "text": [
      "iteration 2400 / 4000: loss 1.481566 train_acc  0.998929 val_acc 0.917143\n"
     ]
    },
    {
     "name": "stdout",
     "output_type": "stream",
     "text": [
      "iteration 2800 / 4000: loss 1.477760 train_acc  0.998929 val_acc 0.921429\n"
     ]
    },
    {
     "name": "stdout",
     "output_type": "stream",
     "text": [
      "iteration 3200 / 4000: loss 1.475063 train_acc  0.999286 val_acc 0.922857\n"
     ]
    },
    {
     "name": "stdout",
     "output_type": "stream",
     "text": [
      "iteration 3600 / 4000: loss 1.473070 train_acc  0.999286 val_acc 0.920000\n"
     ]
    },
    {
     "name": "stdout",
     "output_type": "stream",
     "text": [
      "iteration 4000 / 4000: loss 1.471544 train_acc  0.999286 val_acc 0.918571\n"
     ]
    },
    {
     "data": {
      "text/plain": [
       "<__main__.NeuralNet at 0x7f8081730198>"
      ]
     },
     "execution_count": 138,
     "metadata": {},
     "output_type": "execute_result"
    }
   ],
   "source": [
    "# learning rate 2, num_iter = 4000\n",
    "net2 = NeuralNet(input_size=400, h1_size=25, output_size=10)\n",
    "net2.train(X_train, y_train, X_val, y_val, num_iters=4000, printstep=400, learning_rate=2, verbose=True)"
   ]
  },
  {
   "cell_type": "code",
   "execution_count": 140,
   "metadata": {},
   "outputs": [
    {
     "data": {
      "text/plain": [
       "<matplotlib.legend.Legend at 0x7f808162f400>"
      ]
     },
     "execution_count": 140,
     "metadata": {},
     "output_type": "execute_result"
    },
    {
     "data": {
      "image/png": "[encoded data removed]",
      "text/plain": [
       "<matplotlib.figure.Figure at 0x7f80816f8a90>"
      ]
     },
     "metadata": {},
     "output_type": "display_data"
    }
   ],
   "source": [
    "plt.plot(np.arange(1, len(net2.loss_history) + 1) * 500, net2.loss_history, 'r-', \n",
    "         label='learning rate 2')\n",
    "plt.xlabel('epochs')\n",
    "plt.ylabel('cost')\n",
    "plt.title('Training process')\n",
    "plt.legend(loc='upper right')"
   ]
  },
  {
   "cell_type": "code",
   "execution_count": 133,
   "metadata": {},
   "outputs": [
    {
     "name": "stdout",
     "output_type": "stream",
     "text": [
      "iteration 800 / 8000: loss 1.694742 train_acc  0.912143 val_acc 0.878571\n"
     ]
    },
    {
     "name": "stdout",
     "output_type": "stream",
     "text": [
      "iteration 1600 / 8000: loss 1.600240 train_acc  0.943571 val_acc 0.902857\n"
     ]
    },
    {
     "name": "stdout",
     "output_type": "stream",
     "text": [
      "iteration 2400 / 8000: loss 1.567811 train_acc  0.960714 val_acc 0.912857\n"
     ]
    },
    {
     "name": "stdout",
     "output_type": "stream",
     "text": [
      "iteration 3200 / 8000: loss 1.548999 train_acc  0.970357 val_acc 0.912857\n"
     ]
    },
    {
     "name": "stdout",
     "output_type": "stream",
     "text": [
      "iteration 4000 / 8000: loss 1.535874 train_acc  0.976429 val_acc 0.917143\n"
     ]
    },
    {
     "name": "stdout",
     "output_type": "stream",
     "text": [
      "iteration 4800 / 8000: loss 1.525798 train_acc  0.981071 val_acc 0.920000\n"
     ]
    },
    {
     "name": "stdout",
     "output_type": "stream",
     "text": [
      "iteration 5600 / 8000: loss 1.517630 train_acc  0.987857 val_acc 0.921429\n"
     ]
    },
    {
     "name": "stdout",
     "output_type": "stream",
     "text": [
      "iteration 6400 / 8000: loss 1.510850 train_acc  0.990714 val_acc 0.921429\n"
     ]
    },
    {
     "name": "stdout",
     "output_type": "stream",
     "text": [
      "iteration 7200 / 8000: loss 1.505195 train_acc  0.992857 val_acc 0.921429\n"
     ]
    },
    {
     "name": "stdout",
     "output_type": "stream",
     "text": [
      "iteration 8000 / 8000: loss 1.500446 train_acc  0.993929 val_acc 0.922857\n"
     ]
    },
    {
     "data": {
      "text/plain": [
       "<__main__.NeuralNet at 0x7f80817ee1d0>"
      ]
     },
     "execution_count": 133,
     "metadata": {},
     "output_type": "execute_result"
    }
   ],
   "source": [
    "# learning rate 0.3, num_iter = 8000\n",
    "net3 = NeuralNet(input_size=400, h1_size=25, output_size=10)\n",
    "net3.train(X_train, y_train, X_val, y_val, num_iters=8000, printstep=800, learning_rate=0.3, verbose=True)"
   ]
  },
  {
   "cell_type": "code",
   "execution_count": 158,
   "metadata": {},
   "outputs": [
    {
     "data": {
      "text/plain": [
       "<matplotlib.legend.Legend at 0x7f80814b24a8>"
      ]
     },
     "execution_count": 158,
     "metadata": {},
     "output_type": "execute_result"
    },
    {
     "data": {
      "image/png": "[encoded data removed]",
      "text/plain": [
       "<matplotlib.figure.Figure at 0x7f8081979b00>"
      ]
     },
     "metadata": {},
     "output_type": "display_data"
    }
   ],
   "source": [
    "plt.plot(np.arange(1, len(net3.loss_history) + 1) * 500, net3.loss_history, 'r-', \n",
    "         label='learning rate 0.3')\n",
    "plt.xlabel('epochs')\n",
    "plt.ylabel('cost')\n",
    "plt.title('Training process')\n",
    "plt.legend(loc='upper right')"
   ]
  },
  {
   "cell_type": "code",
   "execution_count": 142,
   "metadata": {},
   "outputs": [
    {
     "name": "stdout",
     "output_type": "stream",
     "text": [
      "iteration 1200 / 12000: loss 1.896655 train_acc  0.833571 val_acc 0.824286\n"
     ]
    },
    {
     "name": "stdout",
     "output_type": "stream",
     "text": [
      "iteration 2400 / 12000: loss 1.700186 train_acc  0.912857 val_acc 0.882857\n"
     ]
    },
    {
     "name": "stdout",
     "output_type": "stream",
     "text": [
      "iteration 3600 / 12000: loss 1.632485 train_acc  0.932500 val_acc 0.891429\n"
     ]
    },
    {
     "name": "stdout",
     "output_type": "stream",
     "text": [
      "iteration 4800 / 12000: loss 1.600670 train_acc  0.943571 val_acc 0.902857\n"
     ]
    },
    {
     "name": "stdout",
     "output_type": "stream",
     "text": [
      "iteration 6000 / 12000: loss 1.581438 train_acc  0.952143 val_acc 0.911429\n"
     ]
    },
    {
     "name": "stdout",
     "output_type": "stream",
     "text": [
      "iteration 7200 / 12000: loss 1.567934 train_acc  0.960714 val_acc 0.910000\n"
     ]
    },
    {
     "name": "stdout",
     "output_type": "stream",
     "text": [
      "iteration 8400 / 12000: loss 1.557564 train_acc  0.965357 val_acc 0.911429\n"
     ]
    },
    {
     "name": "stdout",
     "output_type": "stream",
     "text": [
      "iteration 9600 / 12000: loss 1.549119 train_acc  0.970357 val_acc 0.914286\n"
     ]
    },
    {
     "name": "stdout",
     "output_type": "stream",
     "text": [
      "iteration 10800 / 12000: loss 1.541978 train_acc  0.972857 val_acc 0.914286\n"
     ]
    },
    {
     "name": "stdout",
     "output_type": "stream",
     "text": [
      "iteration 12000 / 12000: loss 1.535819 train_acc  0.977500 val_acc 0.912857\n"
     ]
    },
    {
     "data": {
      "text/plain": [
       "<__main__.NeuralNet at 0x7f8081806eb8>"
      ]
     },
     "execution_count": 142,
     "metadata": {},
     "output_type": "execute_result"
    }
   ],
   "source": [
    "# learning rate 0.1, num_iter = 12000\n",
    "net4 = NeuralNet(input_size=400, h1_size=25, output_size=10)\n",
    "net4.train(X_train, y_train, X_val, y_val, num_iters=12000, printstep=1200, learning_rate=0.1, verbose=True)"
   ]
  },
  {
   "cell_type": "code",
   "execution_count": 159,
   "metadata": {},
   "outputs": [
    {
     "data": {
      "text/plain": [
       "<matplotlib.legend.Legend at 0x7f8081414cc0>"
      ]
     },
     "execution_count": 159,
     "metadata": {},
     "output_type": "execute_result"
    },
    {
     "data": {
      "image/png": "[encoded data removed]",
      "text/plain": [
       "<matplotlib.figure.Figure at 0x7f808153d6d8>"
      ]
     },
     "metadata": {},
     "output_type": "display_data"
    }
   ],
   "source": [
    "plt.plot(np.arange(1, len(net4.loss_history) + 1) * 500, net4.loss_history, 'r-', \n",
    "         label='learning rate 0.1')\n",
    "plt.xlabel('epochs')\n",
    "plt.ylabel('cost')\n",
    "plt.title('Training process')\n",
    "plt.legend(loc='upper right')"
   ]
  },
  {
   "cell_type": "markdown",
   "metadata": {},
   "source": [
    "summarize in 1 figure"
   ]
  },
  {
   "cell_type": "code",
   "execution_count": 145,
   "metadata": {},
   "outputs": [
    {
     "data": {
      "text/plain": [
       "<matplotlib.legend.Legend at 0x7f8081c5cb00>"
      ]
     },
     "execution_count": 145,
     "metadata": {},
     "output_type": "execute_result"
    },
    {
     "data": {
      "image/png": "[encoded data removed]",
      "text/plain": [
       "<matplotlib.figure.Figure at 0x7f80814c0e80>"
      ]
     },
     "metadata": {},
     "output_type": "display_data"
    }
   ],
   "source": [
    "learning_rate = [0.1, 0.3, 1, 2]\n",
    "train_acc = [net4.train_acc_history[-1], net3.train_acc_history[-1], \n",
    "             net1.train_acc_history[-1], net2.train_acc_history[-1]]\n",
    "val_acc = [net4.val_acc_history[-1], net3.val_acc_history[-1], \n",
    "             net1.val_acc_history[-1], net2.val_acc_history[-1]]\n",
    "plt.plot(learning_rate, train_acc, 'r-', label='train_acc')\n",
    "plt.plot(learning_rate, val_acc, 'b-', label='val_acc')\n",
    "plt.xlabel('learning rate')\n",
    "plt.ylabel('accuracy')\n",
    "plt.title('model comparison')\n",
    "plt.legend(loc='lower right')"
   ]
  },
  {
   "cell_type": "markdown",
   "metadata": {},
   "source": [
    "I will choose learning rate 0.3, and traing it deeper.\n"
   ]
  },
  {
   "cell_type": "code",
   "execution_count": 154,
   "metadata": {},
   "outputs": [
    {
     "name": "stdout",
     "output_type": "stream",
     "text": [
      "iteration 1500 / 15000: loss 1.611025 train_acc  0.935143\n"
     ]
    },
    {
     "name": "stdout",
     "output_type": "stream",
     "text": [
      "iteration 3000 / 15000: loss 1.558990 train_acc  0.959714\n"
     ]
    },
    {
     "name": "stdout",
     "output_type": "stream",
     "text": [
      "iteration 4500 / 15000: loss 1.536172 train_acc  0.974000\n"
     ]
    },
    {
     "name": "stdout",
     "output_type": "stream",
     "text": [
      "iteration 6000 / 15000: loss 1.521429 train_acc  0.981429\n"
     ]
    },
    {
     "name": "stdout",
     "output_type": "stream",
     "text": [
      "iteration 7500 / 15000: loss 1.510873 train_acc  0.987143\n"
     ]
    },
    {
     "name": "stdout",
     "output_type": "stream",
     "text": [
      "iteration 9000 / 15000: loss 1.502974 train_acc  0.990571\n"
     ]
    },
    {
     "name": "stdout",
     "output_type": "stream",
     "text": [
      "iteration 10500 / 15000: loss 1.496870 train_acc  0.995143\n"
     ]
    },
    {
     "name": "stdout",
     "output_type": "stream",
     "text": [
      "iteration 12000 / 15000: loss 1.491991 train_acc  0.996857\n"
     ]
    },
    {
     "name": "stdout",
     "output_type": "stream",
     "text": [
      "iteration 13500 / 15000: loss 1.487998 train_acc  0.998000\n"
     ]
    },
    {
     "name": "stdout",
     "output_type": "stream",
     "text": [
      "iteration 15000 / 15000: loss 1.484722 train_acc  0.998286\n"
     ]
    },
    {
     "data": {
      "text/plain": [
       "<__main__.NeuralNet at 0x7f80815720f0>"
      ]
     },
     "execution_count": 154,
     "metadata": {},
     "output_type": "execute_result"
    }
   ],
   "source": [
    "# learning rate 0.3, num_iter = 15000\n",
    "# Using all the training set to train the network, so there's no validation process here\n",
    "net_final = NeuralNet(input_size=400, h1_size=25, output_size=10)\n",
    "net_final.train(X_train_all, y_train_all, num_iters=15000, printstep=1500, learning_rate=0.3, verbose=True)"
   ]
  },
  {
   "cell_type": "code",
   "execution_count": 160,
   "metadata": {},
   "outputs": [
    {
     "data": {
      "text/plain": [
       "<matplotlib.legend.Legend at 0x7f80813fad30>"
      ]
     },
     "execution_count": 160,
     "metadata": {},
     "output_type": "execute_result"
    },
    {
     "data": {
      "image/png": "[encoded data removed]",
      "text/plain": [
       "<matplotlib.figure.Figure at 0x7f80814273c8>"
      ]
     },
     "metadata": {},
     "output_type": "display_data"
    }
   ],
   "source": [
    "plt.plot(np.arange(1, len(net_final.loss_history) + 1) * 500, net_final.loss_history, 'r-', \n",
    "         label='learning rate 0.3')\n",
    "plt.xlabel('epochs')\n",
    "plt.ylabel('cost')\n",
    "plt.title('Training process')\n",
    "plt.legend(loc='upper right')"
   ]
  },
  {
   "cell_type": "code",
   "execution_count": 156,
   "metadata": {},
   "outputs": [
    {
     "name": "stdout",
     "output_type": "stream",
     "text": [
      "Final Test Accuracy:  0.928\n"
     ]
    }
   ],
   "source": [
    "test_pred = net_final.predict(X_test)\n",
    "test_acc = (test_pred == y_test).mean()\n",
    "print('Final Test Accuracy: ', test_acc)"
   ]
  },
  {
   "cell_type": "markdown",
   "metadata": {},
   "source": [
    "1. The final test accuracy is 0.928. It seems ok cause we didn't use the full data set which is about 70000 images. We only use 3500 training set here. I've built a CNN model trained with the full data set before. It achieves 99.7% test accuracy.\n",
    "2. Besides, This assignment don't ask to use regularization. If L2 applied, the result might be better. "
   ]
  },
  {
   "cell_type": "code",
   "execution_count": null,
   "metadata": {},
   "outputs": [],
   "source": []
  }
 ],
 "metadata": {
  "kernelspec": {
   "display_name": "Python 2",
   "language": "python",
   "name": "python2"
  },
  "language_info": {
   "codemirror_mode": {
    "name": "ipython",
    "version": 2
   },
   "file_extension": ".py",
   "mimetype": "text/x-python",
   "name": "python",
   "nbconvert_exporter": "python",
   "pygments_lexer": "ipython2",
   "version": "2.7.6"
  }
 },
 "nbformat": 4,
 "nbformat_minor": 0
}
