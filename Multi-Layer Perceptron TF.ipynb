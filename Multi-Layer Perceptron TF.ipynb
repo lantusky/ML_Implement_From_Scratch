{
 "cells": [
  {
   "cell_type": "markdown",
   "metadata": {
    "collapsed": true
   },
   "source": [
    "CMPE 258 Assignment #4\n",
    "1. Author: Tu Lan 011495497 tu.lan@sjsu.edu\n",
    "2. Date: 03/17/2018\n",
    "3. Tips: Before running the code, please change the Directories to yours, especially the directory of datasets"
   ]
  },
  {
   "cell_type": "code",
   "execution_count": 125,
   "metadata": {},
   "outputs": [],
   "source": [
    "# basic libraries\n",
    "import os               # a system library, not related to algorithm          \n",
    "import matplotlib.pyplot as plt\n",
    "import matplotlib\n",
    "import pandas as pd\n",
    "import numpy as np\n",
    "import tensorflow as tf\n",
    "\n",
    "# state control\n",
    "state = 1\n",
    "np.random.seed(state)\n",
    "\n",
    "# To plot pretty figures\n",
    "import seaborn as sns  # just a plot library. Not related to algorithms\n",
    "plt.style.use('seaborn')\n",
    "sns.set(style=\"ticks\", color_codes=True)\n",
    "\n",
    "# Directories\n",
    "PROJECT_ROOT_DIR = '/home/tulan/PycharmProjects/Google/Machine_Learning/CMPE258/HW4'\n",
    "DATA_DIR = '/home/tulan/PycharmProjects/Google/Machine_Learning/CMPE258/data'\n",
    "\n",
    "# Where to save the figures\n",
    "IMAGE_FOLD = 'images'\n",
    "IMAGE_DIR = os.path.join(PROJECT_ROOT_DIR, IMAGE_FOLD)\n",
    "\n",
    "def save_fig(fig_id, tight_layout=True):\n",
    "    if not os.path.exists(IMAGE_DIR):\n",
    "        os.makedirs(IMAGE_DIR)\n",
    "    path = os.path.join(IMAGE_DIR, fig_id + \".png\")\n",
    "    print(\"Saving figure\", fig_id)\n",
    "    if tight_layout:\n",
    "        plt.tight_layout()\n",
    "    plt.savefig(path, format='png', dpi=300)"
   ]
  },
  {
   "cell_type": "code",
   "execution_count": 2,
   "metadata": {},
   "outputs": [
    {
     "name": "stdout",
     "output_type": "stream",
     "text": [
      "Hello, TensorFlow!\n"
     ]
    }
   ],
   "source": [
    "# test tensorflow\n",
    "hello = tf.constant('Hello, TensorFlow!')\n",
    "with tf.Session() as sess:\n",
    "    print sess.run(hello)\n",
    "sess.close()"
   ]
  },
  {
   "cell_type": "markdown",
   "metadata": {},
   "source": [
    "1. (40pts) Define functions: All the functions are in class MLP_TF_TU, except onehot\n"
   ]
  },
  {
   "cell_type": "code",
   "execution_count": 130,
   "metadata": {},
   "outputs": [],
   "source": [
    "def to_onehot(y, n_class):\n",
    "    num = len(y)\n",
    "    y_onehot = np.zeros((num, n_class), dtype=np.uint8)\n",
    "    for i in range(num):\n",
    "        y_onehot[i][y[i]] = 1\n",
    "    return y_onehot"
   ]
  },
  {
   "cell_type": "code",
   "execution_count": 226,
   "metadata": {},
   "outputs": [],
   "source": [
    "class MLP_TF_TU(object):\n",
    "    \n",
    "    def xavier_init(self, size_1, size_2):\n",
    "        rand = tf.random_uniform([size_1, size_2], minval=0, maxval=1)\n",
    "        param = pow(2.0 / (self.n_input + self.n_classes), 0.5)\n",
    "        return tf.Variable(tf.multiply(param, rand), dtype=tf.float32)\n",
    "    \n",
    "    def __init__(self, size=(), lr=1e-3, epoch=10, batch=64, printstep=1, lamda=1e-3, drop=0.1, act='relu'):\n",
    "        \n",
    "        # Network Parameter Settings\n",
    "        self.n_input = size[0]           # Input size (20 * 20)\n",
    "        self.n_hidden_1 = size[1]        # 1st hidden layer number of neurons\n",
    "        self.n_hidden_2 = size[2]        # 2nd hidden layer number of neurons\n",
    "        self.n_classes = size[3]         # Output size \n",
    "     \n",
    "        # Training Parameters\n",
    "        self.learning_rate = lr\n",
    "        self.epoch = epoch\n",
    "        self.batch_size = batch\n",
    "        self.print_step = printstep\n",
    "        self.lamda = lamda      \n",
    "        self.num_iter_per_epoch = int(np.ceil(X_train.shape[0] / batch))     # round up\n",
    "        \n",
    "        self.X = tf.placeholder(tf.float32, [None, self.n_input], name='X')\n",
    "        self.Y = tf.placeholder(tf.float32, [None, self.n_classes], name='Y')\n",
    "        self.keep_prob = tf.placeholder(tf.float32)\n",
    "        self.keep_prob_val = 1.0 - drop\n",
    "        \n",
    "        # History record\n",
    "        self.hasVal = False\n",
    "        self.loss_history = []\n",
    "        self.train_acc_history = []\n",
    "        self.val_acc_history = [] \n",
    "        self.test_acc = 0.0\n",
    "        \n",
    "        # Weight & bias Initialization\n",
    "        self.weights = {\n",
    "            'W1': self.xavier_init(self.n_input, self.n_hidden_1),\n",
    "            'W2': self.xavier_init(self.n_hidden_1, self.n_hidden_2),\n",
    "            'W3': self.xavier_init(self.n_hidden_2, self.n_classes)\n",
    "        }\n",
    "        \n",
    "        self.biases = {\n",
    "            'b1': tf.Variable(tf.zeros([self.n_hidden_1]), dtype=tf.float32),\n",
    "            'b2': tf.Variable(tf.zeros([self.n_hidden_2]), dtype=tf.float32),\n",
    "            'b3': tf.Variable(tf.zeros([self.n_classes]), dtype=tf.float32)\n",
    "        }\n",
    "        \n",
    "        # activation\n",
    "        activation_dict = {'sigmoid': tf.nn.sigmoid, 'relu': tf.nn.relu, 'elu': tf.nn.elu}\n",
    "        self.act = activation_dict[act.lower()]\n",
    "        \n",
    "    #############################################################\n",
    "    #                       Define The DataFlow                 #\n",
    "    #############################################################\n",
    "\n",
    "    def dataFlow(self):\n",
    "        \n",
    "        # Create model\n",
    "        def forward_prop(x):\n",
    "            # Hidden Layer 1\n",
    "            Z1 = tf.add(tf.matmul(x, self.weights['W1']), self.biases['b1'])\n",
    "            N1 = tf.nn.batch_normalization(x=Z1, mean=0, variance=1e-2, variance_epsilon=1e-16, \n",
    "                                           offset=None, scale=None)\n",
    "            A1 = self.act(N1)\n",
    "            D1 = tf.nn.dropout(A1, keep_prob=self.keep_prob, seed=state)\n",
    "            \n",
    "            # Hidden Layer 2\n",
    "            Z2 = tf.add(tf.matmul(D1, self.weights['W2']), self.biases['b2'])\n",
    "            N2 = tf.nn.batch_normalization(x=Z2, mean=0, variance=1e-2, variance_epsilon=1e-16, \n",
    "                                           offset=None, scale=None)\n",
    "            A2 = self.act(N2)\n",
    "            D2 = tf.nn.dropout(A2, keep_prob=self.keep_prob, seed=state)\n",
    "            # Output Layer\n",
    "            Z_out = tf.add(tf.matmul(D2, self.weights['W3']), self.biases['b3'])\n",
    "            return Z_out\n",
    "        \n",
    "        # Construct model\n",
    "        self.logits = forward_prop(self.X)\n",
    "        \n",
    "        # Define loss and optimizer\n",
    "        loss_data = tf.reduce_mean(tf.nn.softmax_cross_entropy_with_logits(logits=self.logits, labels=self.Y))\n",
    "        loss_reg = tf.nn.l2_loss(self.weights['W1']) + tf.nn.l2_loss(self.weights['W2']) + \\\n",
    "                   tf.nn.l2_loss(self.weights['W3'])\n",
    "        self.loss_op = tf.reduce_mean(loss_data + self.lamda * loss_reg)\n",
    "        \n",
    "        optimizer = tf.train.AdamOptimizer(learning_rate=self.learning_rate, beta1=0.9, \n",
    "                                           beta2=0.999, epsilon=1e-08)\n",
    "        self.train_op = optimizer.minimize(self.loss_op)\n",
    "        \n",
    "        score = tf.nn.softmax(self.logits)  # Apply softmax to logits\n",
    "        pred = tf.equal(tf.argmax(score, 1), tf.argmax(self.Y, 1))\n",
    "        \n",
    "        self.train_acc = tf.reduce_mean(tf.cast(pred, tf.float32))\n",
    "        self.val_acc = tf.reduce_mean(tf.cast(pred, tf.float32))\n",
    "        self.test_acc = tf.reduce_mean(tf.cast(pred, tf.float32))\n",
    "\n",
    "    #############################################################\n",
    "    #                       Training Process                    #\n",
    "    #############################################################\n",
    "        \n",
    "    def train(self, X_train, y_train, X_val=None, y_val=None, X_test=None, y_test=None, verbose=True):\n",
    "        \n",
    "        if X_val is not None:\n",
    "            self.hasVal = True\n",
    "            \n",
    "        self.dataFlow()\n",
    "        \n",
    "        # Initializing the variables\n",
    "        init = tf.global_variables_initializer()   \n",
    "        \n",
    "        with tf.Session() as sess:\n",
    "            sess.run(init)\n",
    "        \n",
    "            # Training cycle\n",
    "            for epoch in range(self.epoch):\n",
    "                \n",
    "                start_index = 0\n",
    "                # Loop over all batches\n",
    "                for i in range(self.num_iter_per_epoch):\n",
    "                    if i == self.num_iter_per_epoch - 1:\n",
    "                        X_bacth = X_train[start_index:]\n",
    "                        y_batch = y_train[start_index:]\n",
    "                    else:    \n",
    "                        X_bacth = X_train[start_index:start_index + self.batch_size]\n",
    "                        y_batch = y_train[start_index:start_index + self.batch_size]\n",
    "                    start_index += self.batch_size\n",
    "                    # Run optimization op (backprop) and cost op (to get loss value)\n",
    "                    _, train_loss, train_acc = sess.run([self.train_op, self.loss_op, self.train_acc], \n",
    "                        feed_dict={self.X: X_bacth, self.Y: y_batch, self.keep_prob: self.keep_prob_val})\n",
    "                    if self.hasVal:\n",
    "                        val_acc = sess.run(self.val_acc, feed_dict={self.X: X_val, self.Y: y_val, \n",
    "                                                                self.keep_prob: self.keep_prob_val})\n",
    "                self.loss_history.append(train_loss)\n",
    "                self.train_acc_history.append(train_acc)\n",
    "                if self.hasVal:\n",
    "                    self.val_acc_history.append(val_acc)\n",
    "                \n",
    "                # control verbose\n",
    "                if (epoch + 1) % self.print_step == 0 and self.hasVal and verbose:\n",
    "                    print ('iteration %d / %d:   loss %.6f   train_acc %.6f   val_acc %.6f' % \n",
    "                           (epoch+1, self.epoch, train_loss, train_acc, val_acc))\n",
    "                elif (epoch + 1) % self.print_step == 0 and X_test is not None and verbose:\n",
    "                    print ('iteration %d / %d:   loss %.6f   train_acc %.6f' % \n",
    "                           (epoch+1, self.epoch, train_loss, train_acc))    \n",
    "                    \n",
    "            if X_test is not None:\n",
    "                self.test_acc = sess.run(self.val_acc, feed_dict={self.X: X_test, self.Y: y_test, \n",
    "                                                        self.keep_prob: self.keep_prob_val})\n",
    "                if verbose:\n",
    "                    print 'Final Test Accuracy: %.6f' % self.test_acc\n",
    "                \n",
    "        sess.close()\n",
    "        \n",
    "    #############################################################\n",
    "    #                Plot Loss, train_acc & val_acc             #\n",
    "    #############################################################\n",
    "    \n",
    "    def plot_loss_acc(self):\n",
    "        plt.figure(figsize=(18, 6))\n",
    "        \n",
    "        # plot loss vs. epoch\n",
    "        plt.subplot(121)\n",
    "        plt.plot(np.arange(1, len(self.loss_history) + 1), self.loss_history, 'r-', \n",
    "         label='learning rate ' + str(self.learning_rate))\n",
    "        plt.xlabel('epoch')\n",
    "        plt.ylabel('train loss')\n",
    "        plt.legend(loc='upper right')\n",
    "        plt.title('train loss vs. epoch')\n",
    "        \n",
    "        # plot train_acc & val_acc vs. epoch\n",
    "        plt.subplot(122)\n",
    "        plt.plot(np.arange(1, len(self.loss_history) + 1), self.train_acc_history, 'b-', \n",
    "                 label='train_acc')\n",
    "        if self.hasVal:\n",
    "            plt.plot(np.arange(1, len(self.loss_history) + 1), self.val_acc_history, 'g-', \n",
    "                     label='val_acc')\n",
    "        plt.xlabel('epoch')\n",
    "        plt.ylabel('train & val accuracy')\n",
    "        plt.legend(loc='lower right')\n",
    "        plt.title('train_acc & val_acc vs. epoch')\n",
    "                                       "
   ]
  },
  {
   "cell_type": "markdown",
   "metadata": {},
   "source": [
    "2.Load Data, split Train & Validation, normalization, and visulization\n"
   ]
  },
  {
   "cell_type": "code",
   "execution_count": 110,
   "metadata": {},
   "outputs": [
    {
     "data": {
      "text/plain": [
       "((3500, 402), (1500, 402))"
      ]
     },
     "execution_count": 110,
     "metadata": {},
     "output_type": "execute_result"
    }
   ],
   "source": [
    "train_set = pd.read_csv(DATA_DIR + '/ex4_train.csv')\n",
    "test_set = pd.read_csv(DATA_DIR + '/ex4_test.csv')\n",
    "train_set.shape, test_set.shape"
   ]
  },
  {
   "cell_type": "code",
   "execution_count": 53,
   "metadata": {},
   "outputs": [
    {
     "name": "stdout",
     "output_type": "stream",
     "text": [
      "<class 'pandas.core.frame.DataFrame'>\nRangeIndex: 3500 entries, 0 to 3499\nColumns: 402 entries, Unnamed: 0 to y\ndtypes: float64(395), int64(7)\nmemory usage: 10.7 MB\n<class 'pandas.core.frame.DataFrame'>\nRangeIndex: 1500 entries, 0 to 1499\nColumns: 402 entries, Unnamed: 0 to y\ndtypes: float64(395), int64(7)\nmemory usage: 4.6 MB\n"
     ]
    },
    {
     "data": {
      "text/plain": [
       "(None, None)"
      ]
     },
     "execution_count": 53,
     "metadata": {},
     "output_type": "execute_result"
    }
   ],
   "source": [
    "train_set.info(), test_set.info()"
   ]
  },
  {
   "cell_type": "code",
   "execution_count": 111,
   "metadata": {},
   "outputs": [
    {
     "data": {
      "text/html": [
       "<div>\n",
       "<style scoped>\n",
       "    .dataframe tbody tr th:only-of-type {\n",
       "        vertical-align: middle;\n",
       "    }\n",
       "\n",
       "    .dataframe tbody tr th {\n",
       "        vertical-align: top;\n",
       "    }\n",
       "\n",
       "    .dataframe thead th {\n",
       "        text-align: right;\n",
       "    }\n",
       "</style>\n",
       "<table border=\"1\" class=\"dataframe\">\n",
       "  <thead>\n",
       "    <tr style=\"text-align: right;\">\n",
       "      <th></th>\n",
       "      <th>Unnamed: 0</th>\n",
       "      <th>0</th>\n",
       "      <th>1</th>\n",
       "      <th>2</th>\n",
       "      <th>3</th>\n",
       "      <th>4</th>\n",
       "      <th>5</th>\n",
       "      <th>6</th>\n",
       "      <th>7</th>\n",
       "      <th>8</th>\n",
       "      <th>...</th>\n",
       "      <th>391</th>\n",
       "      <th>392</th>\n",
       "      <th>393</th>\n",
       "      <th>394</th>\n",
       "      <th>395</th>\n",
       "      <th>396</th>\n",
       "      <th>397</th>\n",
       "      <th>398</th>\n",
       "      <th>399</th>\n",
       "      <th>y</th>\n",
       "    </tr>\n",
       "  </thead>\n",
       "  <tbody>\n",
       "    <tr>\n",
       "      <th>0</th>\n",
       "      <td>2240</td>\n",
       "      <td>0</td>\n",
       "      <td>0</td>\n",
       "      <td>0.0</td>\n",
       "      <td>0.0</td>\n",
       "      <td>0.0</td>\n",
       "      <td>0.0</td>\n",
       "      <td>0.0</td>\n",
       "      <td>0.0</td>\n",
       "      <td>0.0</td>\n",
       "      <td>...</td>\n",
       "      <td>0.0</td>\n",
       "      <td>0.0</td>\n",
       "      <td>0.0</td>\n",
       "      <td>0.0</td>\n",
       "      <td>0.0</td>\n",
       "      <td>0.0</td>\n",
       "      <td>0.0</td>\n",
       "      <td>0.0</td>\n",
       "      <td>0</td>\n",
       "      <td>4</td>\n",
       "    </tr>\n",
       "    <tr>\n",
       "      <th>1</th>\n",
       "      <td>4253</td>\n",
       "      <td>0</td>\n",
       "      <td>0</td>\n",
       "      <td>0.0</td>\n",
       "      <td>0.0</td>\n",
       "      <td>0.0</td>\n",
       "      <td>0.0</td>\n",
       "      <td>0.0</td>\n",
       "      <td>0.0</td>\n",
       "      <td>0.0</td>\n",
       "      <td>...</td>\n",
       "      <td>0.0</td>\n",
       "      <td>0.0</td>\n",
       "      <td>0.0</td>\n",
       "      <td>0.0</td>\n",
       "      <td>0.0</td>\n",
       "      <td>0.0</td>\n",
       "      <td>0.0</td>\n",
       "      <td>0.0</td>\n",
       "      <td>0</td>\n",
       "      <td>8</td>\n",
       "    </tr>\n",
       "    <tr>\n",
       "      <th>2</th>\n",
       "      <td>4263</td>\n",
       "      <td>0</td>\n",
       "      <td>0</td>\n",
       "      <td>0.0</td>\n",
       "      <td>0.0</td>\n",
       "      <td>0.0</td>\n",
       "      <td>0.0</td>\n",
       "      <td>0.0</td>\n",
       "      <td>0.0</td>\n",
       "      <td>0.0</td>\n",
       "      <td>...</td>\n",
       "      <td>0.0</td>\n",
       "      <td>0.0</td>\n",
       "      <td>0.0</td>\n",
       "      <td>0.0</td>\n",
       "      <td>0.0</td>\n",
       "      <td>0.0</td>\n",
       "      <td>0.0</td>\n",
       "      <td>0.0</td>\n",
       "      <td>0</td>\n",
       "      <td>8</td>\n",
       "    </tr>\n",
       "    <tr>\n",
       "      <th>3</th>\n",
       "      <td>57</td>\n",
       "      <td>0</td>\n",
       "      <td>0</td>\n",
       "      <td>0.0</td>\n",
       "      <td>0.0</td>\n",
       "      <td>0.0</td>\n",
       "      <td>0.0</td>\n",
       "      <td>0.0</td>\n",
       "      <td>0.0</td>\n",
       "      <td>0.0</td>\n",
       "      <td>...</td>\n",
       "      <td>0.0</td>\n",
       "      <td>0.0</td>\n",
       "      <td>0.0</td>\n",
       "      <td>0.0</td>\n",
       "      <td>0.0</td>\n",
       "      <td>0.0</td>\n",
       "      <td>0.0</td>\n",
       "      <td>0.0</td>\n",
       "      <td>0</td>\n",
       "      <td>0</td>\n",
       "    </tr>\n",
       "    <tr>\n",
       "      <th>4</th>\n",
       "      <td>4788</td>\n",
       "      <td>0</td>\n",
       "      <td>0</td>\n",
       "      <td>0.0</td>\n",
       "      <td>0.0</td>\n",
       "      <td>0.0</td>\n",
       "      <td>0.0</td>\n",
       "      <td>0.0</td>\n",
       "      <td>0.0</td>\n",
       "      <td>0.0</td>\n",
       "      <td>...</td>\n",
       "      <td>0.0</td>\n",
       "      <td>0.0</td>\n",
       "      <td>0.0</td>\n",
       "      <td>0.0</td>\n",
       "      <td>0.0</td>\n",
       "      <td>0.0</td>\n",
       "      <td>0.0</td>\n",
       "      <td>0.0</td>\n",
       "      <td>0</td>\n",
       "      <td>9</td>\n",
       "    </tr>\n",
       "  </tbody>\n",
       "</table>\n",
       "<p>5 rows × 402 columns</p>\n",
       "</div>"
      ],
      "text/plain": [
       "<div>\n",
       "<style scoped>\n",
       "    .dataframe tbody tr th:only-of-type {\n",
       "        vertical-align: middle;\n",
       "    }\n",
       "\n",
       "    .dataframe tbody tr th {\n",
       "        vertical-align: top;\n",
       "    }\n",
       "\n",
       "    .dataframe thead th {\n",
       "        text-align: right;\n",
       "    }\n",
       "</style>\n",
       "<table border=\"1\" class=\"dataframe\">\n",
       "  <thead>\n",
       "    <tr style=\"text-align: right;\">\n",
       "      <th></th>\n",
       "      <th>Unnamed: 0</th>\n",
       "      <th>0</th>\n",
       "      <th>1</th>\n",
       "      <th>2</th>\n",
       "      <th>3</th>\n",
       "      <th>4</th>\n",
       "      <th>5</th>\n",
       "      <th>6</th>\n",
       "      <th>7</th>\n",
       "      <th>8</th>\n",
       "      <th>...</th>\n",
       "      <th>391</th>\n",
       "      <th>392</th>\n",
       "      <th>393</th>\n",
       "      <th>394</th>\n",
       "      <th>395</th>\n",
       "      <th>396</th>\n",
       "      <th>397</th>\n",
       "      <th>398</th>\n",
       "      <th>399</th>\n",
       "      <th>y</th>\n",
       "    </tr>\n",
       "  </thead>\n",
       "  <tbody>\n",
       "    <tr>\n",
       "      <th>0</th>\n",
       "      <td>2240</td>\n",
       "      <td>0</td>\n",
       "      <td>0</td>\n",
       "      <td>0.0</td>\n",
       "      <td>0.0</td>\n",
       "      <td>0.0</td>\n",
       "      <td>0.0</td>\n",
       "      <td>0.0</td>\n",
       "      <td>0.0</td>\n",
       "      <td>0.0</td>\n",
       "      <td>...</td>\n",
       "      <td>0.0</td>\n",
       "      <td>0.0</td>\n",
       "      <td>0.0</td>\n",
       "      <td>0.0</td>\n",
       "      <td>0.0</td>\n",
       "      <td>0.0</td>\n",
       "      <td>0.0</td>\n",
       "      <td>0.0</td>\n",
       "      <td>0</td>\n",
       "      <td>4</td>\n",
       "    </tr>\n",
       "    <tr>\n",
       "      <th>1</th>\n",
       "      <td>4253</td>\n",
       "      <td>0</td>\n",
       "      <td>0</td>\n",
       "      <td>0.0</td>\n",
       "      <td>0.0</td>\n",
       "      <td>0.0</td>\n",
       "      <td>0.0</td>\n",
       "      <td>0.0</td>\n",
       "      <td>0.0</td>\n",
       "      <td>0.0</td>\n",
       "      <td>...</td>\n",
       "      <td>0.0</td>\n",
       "      <td>0.0</td>\n",
       "      <td>0.0</td>\n",
       "      <td>0.0</td>\n",
       "      <td>0.0</td>\n",
       "      <td>0.0</td>\n",
       "      <td>0.0</td>\n",
       "      <td>0.0</td>\n",
       "      <td>0</td>\n",
       "      <td>8</td>\n",
       "    </tr>\n",
       "    <tr>\n",
       "      <th>2</th>\n",
       "      <td>4263</td>\n",
       "      <td>0</td>\n",
       "      <td>0</td>\n",
       "      <td>0.0</td>\n",
       "      <td>0.0</td>\n",
       "      <td>0.0</td>\n",
       "      <td>0.0</td>\n",
       "      <td>0.0</td>\n",
       "      <td>0.0</td>\n",
       "      <td>0.0</td>\n",
       "      <td>...</td>\n",
       "      <td>0.0</td>\n",
       "      <td>0.0</td>\n",
       "      <td>0.0</td>\n",
       "      <td>0.0</td>\n",
       "      <td>0.0</td>\n",
       "      <td>0.0</td>\n",
       "      <td>0.0</td>\n",
       "      <td>0.0</td>\n",
       "      <td>0</td>\n",
       "      <td>8</td>\n",
       "    </tr>\n",
       "    <tr>\n",
       "      <th>3</th>\n",
       "      <td>57</td>\n",
       "      <td>0</td>\n",
       "      <td>0</td>\n",
       "      <td>0.0</td>\n",
       "      <td>0.0</td>\n",
       "      <td>0.0</td>\n",
       "      <td>0.0</td>\n",
       "      <td>0.0</td>\n",
       "      <td>0.0</td>\n",
       "      <td>0.0</td>\n",
       "      <td>...</td>\n",
       "      <td>0.0</td>\n",
       "      <td>0.0</td>\n",
       "      <td>0.0</td>\n",
       "      <td>0.0</td>\n",
       "      <td>0.0</td>\n",
       "      <td>0.0</td>\n",
       "      <td>0.0</td>\n",
       "      <td>0.0</td>\n",
       "      <td>0</td>\n",
       "      <td>0</td>\n",
       "    </tr>\n",
       "    <tr>\n",
       "      <th>4</th>\n",
       "      <td>4788</td>\n",
       "      <td>0</td>\n",
       "      <td>0</td>\n",
       "      <td>0.0</td>\n",
       "      <td>0.0</td>\n",
       "      <td>0.0</td>\n",
       "      <td>0.0</td>\n",
       "      <td>0.0</td>\n",
       "      <td>0.0</td>\n",
       "      <td>0.0</td>\n",
       "      <td>...</td>\n",
       "      <td>0.0</td>\n",
       "      <td>0.0</td>\n",
       "      <td>0.0</td>\n",
       "      <td>0.0</td>\n",
       "      <td>0.0</td>\n",
       "      <td>0.0</td>\n",
       "      <td>0.0</td>\n",
       "      <td>0.0</td>\n",
       "      <td>0</td>\n",
       "      <td>9</td>\n",
       "    </tr>\n",
       "  </tbody>\n",
       "</table>\n",
       "<p>5 rows × 402 columns</p>\n",
       "</div>"
      ]
     },
     "execution_count": 111,
     "metadata": {},
     "output_type": "execute_result"
    }
   ],
   "source": [
    "train_set.head()"
   ]
  },
  {
   "cell_type": "code",
   "execution_count": 112,
   "metadata": {},
   "outputs": [
    {
     "data": {
      "text/plain": [
       "((3500, 400), (3500,), (1500, 400), (1500,))"
      ]
     },
     "execution_count": 112,
     "metadata": {},
     "output_type": "execute_result"
    }
   ],
   "source": [
    "# get rid of first column\n",
    "X_train_all = train_set.iloc[:, 1:-1].values.astype('float32')\n",
    "y_train_all = train_set['y'].values.astype('int32')\n",
    "X_test = test_set.iloc[:, 1:-1].values.astype('float32')\n",
    "y_test = test_set['y'].values.astype('int32')\n",
    "\n",
    "X_train_all.shape, y_train_all.shape, X_test.shape, y_test.shape"
   ]
  },
  {
   "cell_type": "markdown",
   "metadata": {},
   "source": [
    "Normalize the data: zero center (shift) and scale"
   ]
  },
  {
   "cell_type": "code",
   "execution_count": 113,
   "metadata": {},
   "outputs": [
    {
     "name": "stdout",
     "output_type": "stream",
     "text": [
      "train set:\nmean:  -1.5394494567999573e-10 \nvar:  0.04434843063354492\ntest set: \nmean:  1.5081218052159785e-10 \nvar:  0.045647101402282717\n"
     ]
    }
   ],
   "source": [
    "def Normalization(X):\n",
    "    mean = np.mean(X, axis=0)\n",
    "    max = np.max(X, axis=0)\n",
    "    min = np.min(X, axis=0)     \n",
    "    X = (X - mean) / (max - min + 1e-16)\n",
    "    mean = np.mean(X, axis=0).sum()/X.shape[1]\n",
    "    var = np.var(X, axis=0).sum()/X.shape[1]\n",
    "    return X, mean, var\n",
    "\n",
    "\n",
    "X_train_all, mean_1, var_1 = Normalization(X_train_all)\n",
    "X_test, mean_2, var_2 = Normalization(X_test)\n",
    "print 'train set:' '\\nmean: ', mean_1, '\\nvar: ', var_1\n",
    "print 'test set:', '\\nmean: ', mean_2, '\\nvar: ', var_2"
   ]
  },
  {
   "cell_type": "code",
   "execution_count": 115,
   "metadata": {},
   "outputs": [
    {
     "data": {
      "text/plain": [
       "<matplotlib.axes._subplots.AxesSubplot at 0x7f15c305b3d0>"
      ]
     },
     "execution_count": 115,
     "metadata": {},
     "output_type": "execute_result"
    },
    {
     "data": {
      "image/png": "[encoded data removed]",
      "text/plain": [
       "<matplotlib.figure.Figure at 0x7f15c3041510>"
      ]
     },
     "metadata": {},
     "output_type": "display_data"
    }
   ],
   "source": [
    "sns.countplot(y_train_all.ravel())"
   ]
  },
  {
   "cell_type": "code",
   "execution_count": 116,
   "metadata": {},
   "outputs": [
    {
     "name": "stdout",
     "output_type": "stream",
     "text": [
      "('label: ', 8)\n"
     ]
    },
    {
     "data": {
      "image/png": "[encoded data removed]",
      "text/plain": [
       "<matplotlib.figure.Figure at 0x7f15c3032490>"
      ]
     },
     "metadata": {},
     "output_type": "display_data"
    }
   ],
   "source": [
    "some_digit = X_train_all[1]\n",
    "some_digit_image = some_digit.reshape(20, 20)\n",
    "plt.imshow(some_digit_image, cmap = matplotlib.cm.binary,\n",
    "           interpolation=\"nearest\")\n",
    "print('label: ', y_train_all[1])"
   ]
  },
  {
   "cell_type": "code",
   "execution_count": 117,
   "metadata": {},
   "outputs": [
    {
     "data": {
      "text/plain": [
       "((3500, 10), (1500, 10))"
      ]
     },
     "execution_count": 117,
     "metadata": {},
     "output_type": "execute_result"
    }
   ],
   "source": [
    "y_train_all = to_onehot(y_train_all, 10)\n",
    "y_test = to_onehot(y_test, 10)\n",
    "y_train_all = y_train_all.astype('float32')\n",
    "y_test = y_test.astype('float32')\n",
    "y_train_all.shape, y_test.shape"
   ]
  },
  {
   "cell_type": "code",
   "execution_count": 118,
   "metadata": {},
   "outputs": [
    {
     "data": {
      "text/plain": [
       "((2800, 400), (700, 400), (2800, 10), (700, 10))"
      ]
     },
     "execution_count": 118,
     "metadata": {},
     "output_type": "execute_result"
    }
   ],
   "source": [
    "def split_train_val(X, y, ratio_train, state):\n",
    "    # shuffle the sequence\n",
    "    np.random.seed(state)\n",
    "    num = len(y)\n",
    "    shuffle_index = np.random.permutation(num)\n",
    "    train_index = shuffle_index[:int(num * ratio_train)]\n",
    "    val_index = shuffle_index[int(num * ratio_train):]\n",
    "    X_train, y_train = X[train_index], y[train_index]\n",
    "    X_val, y_val = X[val_index], y[val_index]\n",
    "    return X_train, X_val, y_train, y_val\n",
    "\n",
    "\n",
    "X_train, X_val, y_train, y_val = split_train_val(X_train_all, y_train_all, 0.8, state)\n",
    "X_train.shape, X_val.shape, y_train.shape, y_val.shape"
   ]
  },
  {
   "cell_type": "markdown",
   "metadata": {},
   "source": [
    "The following codes contains all required for question 3 - 6"
   ]
  },
  {
   "cell_type": "markdown",
   "metadata": {},
   "source": [
    "Create a baseline for optimization:\n",
    "1. Net Size: (400, 120, 40, 10)\n",
    "2. Activation: ReLu\n",
    "3. Regularization: 0\n",
    "4. Mini-Batch Size: 64\n",
    "5. Learning Rate: 1e-3\n",
    "6. drop out 0.0"
   ]
  },
  {
   "cell_type": "code",
   "execution_count": 146,
   "metadata": {},
   "outputs": [
    {
     "name": "stdout",
     "output_type": "stream",
     "text": [
      "iteration 10 / 50:   loss 0.133214   train_acc 0.955357   val_acc 0.937143\n"
     ]
    },
    {
     "name": "stdout",
     "output_type": "stream",
     "text": [
      "iteration 20 / 50:   loss 0.077215   train_acc 0.991071   val_acc 0.921429\n"
     ]
    },
    {
     "name": "stdout",
     "output_type": "stream",
     "text": [
      "iteration 30 / 50:   loss 0.006989   train_acc 1.000000   val_acc 0.935714\n"
     ]
    },
    {
     "name": "stdout",
     "output_type": "stream",
     "text": [
      "iteration 40 / 50:   loss 0.002967   train_acc 1.000000   val_acc 0.940000\n"
     ]
    },
    {
     "name": "stdout",
     "output_type": "stream",
     "text": [
      "iteration 50 / 50:   loss 0.001648   train_acc 1.000000   val_acc 0.940000\n"
     ]
    }
   ],
   "source": [
    "mlp_base = MLP_TF_TU(size=(400, 120, 40, 10), lr=1e-3, epoch=50, batch=64, printstep=10, \n",
    "                lamda=0, drop=0, act='relu')\n",
    "mlp_base.train(X_train, y_train, X_val, y_val)"
   ]
  },
  {
   "cell_type": "code",
   "execution_count": 147,
   "metadata": {},
   "outputs": [
    {
     "data": {
      "image/png": "[encoded data removed]",
      "text/plain": [
       "<matplotlib.figure.Figure at 0x7f15bb3dc510>"
      ]
     },
     "metadata": {},
     "output_type": "display_data"
    }
   ],
   "source": [
    "mlp_base.plot_loss_acc()"
   ]
  },
  {
   "cell_type": "markdown",
   "metadata": {},
   "source": [
    "Baseline validation accuracy: 0.94"
   ]
  },
  {
   "cell_type": "markdown",
   "metadata": {},
   "source": [
    "optimization 1: 2-hidden MLP Hidden layer neuron numbers\n",
    "1. (400, 120, 40, 10)\n",
    "2. (400, 120, 120, 10)\n",
    "3. (400, 40, 40, 10)\n",
    "4. (400, 256, 32, 10)"
   ]
  },
  {
   "cell_type": "code",
   "execution_count": 141,
   "metadata": {},
   "outputs": [
    {
     "name": "stdout",
     "output_type": "stream",
     "text": [
      "net archi:  (400, 120, 40, 10)  val_acc:  0.9414285\n"
     ]
    },
    {
     "name": "stdout",
     "output_type": "stream",
     "text": [
      "net archi:  (400, 120, 120, 10)  val_acc:  0.9342857\n"
     ]
    },
    {
     "name": "stdout",
     "output_type": "stream",
     "text": [
      "net archi:  (400, 40, 40, 10)  val_acc:  0.9357143\n"
     ]
    },
    {
     "name": "stdout",
     "output_type": "stream",
     "text": [
      "net archi:  (400, 256, 32, 10)  val_acc:  0.93999994\n"
     ]
    }
   ],
   "source": [
    "size = [(400, 120, 40, 10), (400, 120, 120, 10), (400, 40, 40, 10), (400, 256, 32, 10)]\n",
    "for i in range(len(size)): \n",
    "    mlp_archi = MLP_TF_TU(size=size[i], lr=1e-3, epoch=100, batch=64, printstep=10, \n",
    "                lamda=0, drop=0, act='relu')\n",
    "    mlp_archi.train(X_train, y_train, X_val, y_val, verbose=False)\n",
    "    print 'net archi: ', size[i], ' val_acc: ', mlp_archi.val_acc_history[-1]"
   ]
  },
  {
   "cell_type": "markdown",
   "metadata": {},
   "source": [
    "I will still choose (400, 120, 40, 10)"
   ]
  },
  {
   "cell_type": "markdown",
   "metadata": {},
   "source": [
    "optimization 2: Activation Functions\n",
    "1. ReLu\n",
    "2. Elu"
   ]
  },
  {
   "cell_type": "code",
   "execution_count": 159,
   "metadata": {},
   "outputs": [
    {
     "name": "stdout",
     "output_type": "stream",
     "text": [
      "activation:  relu  mean val_acc:  0.9347618619600931\n"
     ]
    },
    {
     "name": "stdout",
     "output_type": "stream",
     "text": [
      "activation:  elu  mean val_acc:  0.942380944887797\n"
     ]
    }
   ],
   "source": [
    "# it takes some time\n",
    "activation = ['relu', 'elu']\n",
    "lr = [3e-3, 1e-3, 3e-4]\n",
    "epoch = [50, 100, 150]\n",
    "\n",
    "for i in range(len(activation)): \n",
    "    val_acc = 0.0\n",
    "    for j in range(len(lr)):\n",
    "        mlp_act = MLP_TF_TU(size=(400, 120, 40, 10), lr=lr[j], epoch=epoch[j], batch=64, printstep=10, \n",
    "                    lamda=0, drop=0, act=activation[i])\n",
    "        mlp_act.train(X_train, y_train, X_val, y_val, verbose=False)\n",
    "        val_acc += mlp_act.val_acc_history[-1]\n",
    "    mean_val_acc = val_acc / len(lr)\n",
    "    print 'activation: ', activation[i], ' mean val_acc: ', mean_val_acc"
   ]
  },
  {
   "cell_type": "markdown",
   "metadata": {},
   "source": [
    "I will choose Elu as Activation Function"
   ]
  },
  {
   "cell_type": "markdown",
   "metadata": {},
   "source": [
    "optimization 3: L2 Regularization\n",
    "1. 10 values in range(1e-5, 1e-1)"
   ]
  },
  {
   "cell_type": "code",
   "execution_count": 209,
   "metadata": {},
   "outputs": [
    {
     "name": "stdout",
     "output_type": "stream",
     "text": [
      "L2 lamda:  1e-05  val_acc:  0.9399999\n"
     ]
    },
    {
     "name": "stdout",
     "output_type": "stream",
     "text": [
      "L2 lamda:  2.782559402207126e-05  val_acc:  0.9471428\n"
     ]
    },
    {
     "name": "stdout",
     "output_type": "stream",
     "text": [
      "L2 lamda:  7.742636826811278e-05  val_acc:  0.9514286\n"
     ]
    },
    {
     "name": "stdout",
     "output_type": "stream",
     "text": [
      "L2 lamda:  0.00021544346900318823  val_acc:  0.93999994\n"
     ]
    },
    {
     "name": "stdout",
     "output_type": "stream",
     "text": [
      "L2 lamda:  0.0005994842503189409  val_acc:  0.93999994\n"
     ]
    },
    {
     "name": "stdout",
     "output_type": "stream",
     "text": [
      "L2 lamda:  0.0016681005372000592  val_acc:  0.94571424\n"
     ]
    },
    {
     "name": "stdout",
     "output_type": "stream",
     "text": [
      "L2 lamda:  0.004641588833612777  val_acc:  0.9199999\n"
     ]
    },
    {
     "name": "stdout",
     "output_type": "stream",
     "text": [
      "L2 lamda:  0.012915496650148827  val_acc:  0.94285715\n"
     ]
    },
    {
     "name": "stdout",
     "output_type": "stream",
     "text": [
      "L2 lamda:  0.03593813663804626  val_acc:  0.9514285\n"
     ]
    },
    {
     "name": "stdout",
     "output_type": "stream",
     "text": [
      "L2 lamda:  0.1  val_acc:  0.94142854\n"
     ]
    }
   ],
   "source": [
    "reg = np.logspace(-5, -1, 10)\n",
    "val_acc = []\n",
    "for i in range(len(reg)): \n",
    "    mlp_reg = MLP_TF_TU(size=(400, 120, 40, 10), lr=1e-3, epoch=50, batch=64, printstep=10, \n",
    "                lamda=reg[i], drop=0, act='elu')\n",
    "    mlp_reg.train(X_train, y_train, X_val, y_val, verbose=False)\n",
    "    val_acc.append(mlp_reg.val_acc_history[-1])\n",
    "    print 'L2 lamda: ', reg[i], ' val_acc: ', mlp_reg.val_acc_history[-1]"
   ]
  },
  {
   "cell_type": "code",
   "execution_count": 210,
   "metadata": {},
   "outputs": [
    {
     "data": {
      "text/plain": [
       "Text(0.5,1,u'Lamda vs. Val_acc')"
      ]
     },
     "execution_count": 210,
     "metadata": {},
     "output_type": "execute_result"
    },
    {
     "data": {
      "image/png": "[encoded data removed]",
      "text/plain": [
       "<matplotlib.figure.Figure at 0x7f15b272af10>"
      ]
     },
     "metadata": {},
     "output_type": "display_data"
    }
   ],
   "source": [
    "plt.semilogx(reg, val_acc, 'r-')\n",
    "plt.xlabel('L2 Lamda')\n",
    "plt.ylabel('val_acc')\n",
    "plt.title('Lamda vs. Val_acc')"
   ]
  },
  {
   "cell_type": "markdown",
   "metadata": {},
   "source": [
    "After more specific test in range(1e-2, 1e-1), according to the validation acc, I will choose L2 lamda 1e-2"
   ]
  },
  {
   "cell_type": "markdown",
   "metadata": {},
   "source": [
    "I changed batch size to 256 since when batch size is small, for bigger L2 Lamda values, the training will be noisy and unstable"
   ]
  },
  {
   "cell_type": "markdown",
   "metadata": {},
   "source": [
    "Final Model Without Dropout\n",
    "1. Net Size: (400, 120, 40, 10)\n",
    "2. Activation: Elu\n",
    "3. Regularization: 1e-2\n",
    "4. Mini-Batch Size: 256\n",
    "5. Learning Rate: 1e-3\n",
    "6. drop out 0.0"
   ]
  },
  {
   "cell_type": "code",
   "execution_count": 222,
   "metadata": {},
   "outputs": [
    {
     "name": "stdout",
     "output_type": "stream",
     "text": [
      "iteration 100 / 1000:   loss 0.181713   train_acc 0.985786\n"
     ]
    },
    {
     "name": "stdout",
     "output_type": "stream",
     "text": [
      "iteration 200 / 1000:   loss 0.121603   train_acc 0.995819\n"
     ]
    },
    {
     "name": "stdout",
     "output_type": "stream",
     "text": [
      "iteration 300 / 1000:   loss 0.126017   train_acc 0.988294\n"
     ]
    },
    {
     "name": "stdout",
     "output_type": "stream",
     "text": [
      "iteration 400 / 1000:   loss 0.129865   train_acc 0.979097\n"
     ]
    },
    {
     "name": "stdout",
     "output_type": "stream",
     "text": [
      "iteration 500 / 1000:   loss 0.073233   train_acc 0.999164\n"
     ]
    },
    {
     "name": "stdout",
     "output_type": "stream",
     "text": [
      "iteration 600 / 1000:   loss 0.083661   train_acc 0.989967\n"
     ]
    },
    {
     "name": "stdout",
     "output_type": "stream",
     "text": [
      "iteration 700 / 1000:   loss 0.071477   train_acc 1.000000\n"
     ]
    },
    {
     "name": "stdout",
     "output_type": "stream",
     "text": [
      "iteration 800 / 1000:   loss 0.059380   train_acc 1.000000\n"
     ]
    },
    {
     "name": "stdout",
     "output_type": "stream",
     "text": [
      "iteration 900 / 1000:   loss 0.057627   train_acc 1.000000\n"
     ]
    },
    {
     "name": "stdout",
     "output_type": "stream",
     "text": [
      "iteration 1000 / 1000:   loss 0.057493   train_acc 1.000000\n"
     ]
    },
    {
     "name": "stdout",
     "output_type": "stream",
     "text": [
      "Final Test Accuracy: 0.952000\n"
     ]
    }
   ],
   "source": [
    "mlp_final_nodrop = MLP_TF_TU(size=(400, 120, 40, 10), lr=1e-3, epoch=1000, batch=256, printstep=100, \n",
    "                lamda=1e-2, drop=0, act='elu')\n",
    "mlp_final_nodrop.train(X_train_all, y_train_all, X_test=X_test, y_test=y_test)"
   ]
  },
  {
   "cell_type": "markdown",
   "metadata": {},
   "source": [
    "The Final Model Without dropout got test accuracy: 0.952"
   ]
  },
  {
   "cell_type": "markdown",
   "metadata": {},
   "source": [
    "Optimization 4: Dropout, \n",
    "1. Test 7 values: (0, 0.1, 0.2, 0.3, 0.4, 0.5, 0.6)\n",
    "2. use a large training epoch to make sure the training fully converged, because when drop out is big, it needs more epochs to train"
   ]
  },
  {
   "cell_type": "code",
   "execution_count": 227,
   "metadata": {},
   "outputs": [
    {
     "name": "stdout",
     "output_type": "stream",
     "text": [
      "Final Test Accuracy: 0.952667\n"
     ]
    },
    {
     "name": "stdout",
     "output_type": "stream",
     "text": [
      "Drop out:  0   Test Accuracy:  0.95266664\n"
     ]
    },
    {
     "name": "stdout",
     "output_type": "stream",
     "text": [
      "Final Test Accuracy: 0.938000\n"
     ]
    },
    {
     "name": "stdout",
     "output_type": "stream",
     "text": [
      "Drop out:  0.1   Test Accuracy:  0.938\n"
     ]
    },
    {
     "name": "stdout",
     "output_type": "stream",
     "text": [
      "Final Test Accuracy: 0.940000\n"
     ]
    },
    {
     "name": "stdout",
     "output_type": "stream",
     "text": [
      "Drop out:  0.2   Test Accuracy:  0.94\n"
     ]
    },
    {
     "name": "stdout",
     "output_type": "stream",
     "text": [
      "Final Test Accuracy: 0.930667\n"
     ]
    },
    {
     "name": "stdout",
     "output_type": "stream",
     "text": [
      "Drop out:  0.3   Test Accuracy:  0.9306667\n"
     ]
    },
    {
     "name": "stdout",
     "output_type": "stream",
     "text": [
      "Final Test Accuracy: 0.927333\n"
     ]
    },
    {
     "name": "stdout",
     "output_type": "stream",
     "text": [
      "Drop out:  0.4   Test Accuracy:  0.92733335\n"
     ]
    },
    {
     "name": "stdout",
     "output_type": "stream",
     "text": [
      "Final Test Accuracy: 0.904667\n"
     ]
    },
    {
     "name": "stdout",
     "output_type": "stream",
     "text": [
      "Drop out:  0.5   Test Accuracy:  0.9046667\n"
     ]
    },
    {
     "name": "stdout",
     "output_type": "stream",
     "text": [
      "Final Test Accuracy: 0.887333\n"
     ]
    },
    {
     "name": "stdout",
     "output_type": "stream",
     "text": [
      "Drop out:  0.6   Test Accuracy:  0.88733333\n"
     ]
    }
   ],
   "source": [
    "drop = [0, 0.1, 0.2, 0.3, 0.4, 0.5, 0.6]\n",
    "test_acc = []\n",
    "for i in range(len(drop)):\n",
    "    mlp_drop = MLP_TF_TU(size=(400, 120, 40, 10), lr=1e-3, epoch=1500, batch=256, printstep=150, \n",
    "                    lamda=1e-2, drop=drop[i], act='elu')\n",
    "    mlp_drop.train(X_train_all, y_train_all, X_test=X_test, y_test=y_test, verbose=False)\n",
    "    test_acc.append(mlp_drop.test_acc)\n",
    "    print 'Drop out: ', drop[i], '  Test Accuracy: ', mlp_drop.test_acc"
   ]
  },
  {
   "cell_type": "code",
   "execution_count": 228,
   "metadata": {},
   "outputs": [
    {
     "data": {
      "text/plain": [
       "Text(0.5,1,u'Drop Out vs. Test_acc')"
      ]
     },
     "execution_count": 228,
     "metadata": {},
     "output_type": "execute_result"
    },
    {
     "data": {
      "image/png": "[encoded data removed]",
      "text/plain": [
       "<matplotlib.figure.Figure at 0x7f159dfefdd0>"
      ]
     },
     "metadata": {},
     "output_type": "display_data"
    }
   ],
   "source": [
    "plt.plot(drop, test_acc, 'r-')\n",
    "plt.xlabel('Drop Out')\n",
    "plt.ylabel('Test_acc')\n",
    "plt.title('Drop Out vs. Test_acc')"
   ]
  },
  {
   "cell_type": "markdown",
   "metadata": {},
   "source": [
    "Discussion:\n",
    "1. The highest test accuracy is 0.952 when there is no drop out(drop out = 0)\n",
    "2. The test accuracy decreases when drop out percentage increases as the figure shows\n",
    "3. The reasons are: first, the neural net is not deep, there are not too many parameters. Second, The input image do not have many features, only 400. Third, the drop out will increase the training speed for sure, but it will lose hidden layer features where drop out applied to. \n",
    "4. So based on the result, I think drop out is better to be applied to deeper neural networks and when the input has huge number of features. Besides, it is more suitable for CNN rather than MLP"
   ]
  },
  {
   "cell_type": "code",
   "execution_count": null,
   "metadata": {},
   "outputs": [],
   "source": [
    ""
   ]
  }
 ],
 "metadata": {
  "kernelspec": {
   "display_name": "Python 2",
   "language": "python",
   "name": "python2"
  },
  "language_info": {
   "codemirror_mode": {
    "name": "ipython",
    "version": 2
   },
   "file_extension": ".py",
   "mimetype": "text/x-python",
   "name": "python",
   "nbconvert_exporter": "python",
   "pygments_lexer": "ipython2",
   "version": "2.7.6"
  }
 },
 "nbformat": 4,
 "nbformat_minor": 0
}
