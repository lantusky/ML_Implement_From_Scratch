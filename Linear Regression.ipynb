{
 "cells": [
  {
   "cell_type": "markdown",
   "metadata": {},
   "source": [
    "CMPE 258 Assignment #1 \n",
    "1. Author: Tu Lan 011495497 tu.lan@sjsu.edu\n",
    "2. Date: 02/03/2018\n",
    "3. Tips: Before running the code, please change the Directories to yours, especially the directory of datasets"
   ]
  },
  {
   "cell_type": "code",
   "execution_count": 1,
   "metadata": {
    "collapsed": true
   },
   "outputs": [],
   "source": [
    "# To support both python 2 and python 3\n",
    "from __future__ import division, print_function, unicode_literals\n",
    "\n",
    "# basic libraries\n",
    "import os\n",
    "import matplotlib.pyplot as plt\n",
    "import pandas as pd\n",
    "import numpy as np\n",
    "import seaborn as sns\n",
    "\n",
    "# To plot pretty figures\n",
    "%matplotlib inline\n",
    "plt.rcParams['axes.labelsize'] = 14\n",
    "plt.rcParams['xtick.labelsize'] = 12\n",
    "plt.rcParams['ytick.labelsize'] = 12\n",
    "plt.style.use('seaborn')\n",
    "\n",
    "# Directories\n",
    "PROJECT_ROOT_DIR = '/home/tulan/PycharmProjects/Google/Machine_Learning/CMPE258/HW1'\n",
    "DATA_DIR = '/home/tulan/PycharmProjects/Google/Machine_Learning/CMPE258/data'\n",
    "\n",
    "# Where to save the figures\n",
    "IMAGE_FOLD = 'images'\n",
    "IMAGE_DIR = os.path.join(PROJECT_ROOT_DIR, IMAGE_FOLD)\n",
    "\n",
    "def save_fig(fig_id, tight_layout=True):\n",
    "    if not os.path.exists(IMAGE_DIR):\n",
    "        os.makedirs(IMAGE_DIR)\n",
    "    path = os.path.join(IMAGE_DIR, fig_id + \".png\")\n",
    "    print(\"Saving figure\", fig_id)\n",
    "    if tight_layout:\n",
    "        plt.tight_layout()\n",
    "    plt.savefig(path, format='png', dpi=300)"
   ]
  },
  {
   "cell_type": "markdown",
   "metadata": {},
   "source": [
    "Qestion 1.  Linear regression with one variable from scratch\n"
   ]
  },
  {
   "cell_type": "code",
   "execution_count": 2,
   "metadata": {},
   "outputs": [
    {
     "data": {
      "text/html": [
       "<div>\n",
       "<style>\n",
       "    .dataframe thead tr:only-child th {\n",
       "        text-align: right;\n",
       "    }\n",
       "\n",
       "    .dataframe thead th {\n",
       "        text-align: left;\n",
       "    }\n",
       "\n",
       "    .dataframe tbody tr th {\n",
       "        vertical-align: top;\n",
       "    }\n",
       "</style>\n",
       "<table border=\"1\" class=\"dataframe\">\n",
       "  <thead>\n",
       "    <tr style=\"text-align: right;\">\n",
       "      <th></th>\n",
       "      <th>0</th>\n",
       "      <th>1</th>\n",
       "    </tr>\n",
       "  </thead>\n",
       "  <tbody>\n",
       "    <tr>\n",
       "      <th>0</th>\n",
       "      <td>6.1101</td>\n",
       "      <td>17.5920</td>\n",
       "    </tr>\n",
       "    <tr>\n",
       "      <th>1</th>\n",
       "      <td>5.5277</td>\n",
       "      <td>9.1302</td>\n",
       "    </tr>\n",
       "    <tr>\n",
       "      <th>2</th>\n",
       "      <td>8.5186</td>\n",
       "      <td>13.6620</td>\n",
       "    </tr>\n",
       "    <tr>\n",
       "      <th>3</th>\n",
       "      <td>7.0032</td>\n",
       "      <td>11.8540</td>\n",
       "    </tr>\n",
       "    <tr>\n",
       "      <th>4</th>\n",
       "      <td>5.8598</td>\n",
       "      <td>6.8233</td>\n",
       "    </tr>\n",
       "  </tbody>\n",
       "</table>\n",
       "</div>"
      ],
      "text/plain": [
       "<div>\n",
       "<style>\n",
       "    .dataframe thead tr:only-child th {\n",
       "        text-align: right;\n",
       "    }\n",
       "\n",
       "    .dataframe thead th {\n",
       "        text-align: left;\n",
       "    }\n",
       "\n",
       "    .dataframe tbody tr th {\n",
       "        vertical-align: top;\n",
       "    }\n",
       "</style>\n",
       "<table border=\"1\" class=\"dataframe\">\n",
       "  <thead>\n",
       "    <tr style=\"text-align: right;\">\n",
       "      <th></th>\n",
       "      <th>0</th>\n",
       "      <th>1</th>\n",
       "    </tr>\n",
       "  </thead>\n",
       "  <tbody>\n",
       "    <tr>\n",
       "      <th>0</th>\n",
       "      <td>6.1101</td>\n",
       "      <td>17.5920</td>\n",
       "    </tr>\n",
       "    <tr>\n",
       "      <th>1</th>\n",
       "      <td>5.5277</td>\n",
       "      <td>9.1302</td>\n",
       "    </tr>\n",
       "    <tr>\n",
       "      <th>2</th>\n",
       "      <td>8.5186</td>\n",
       "      <td>13.6620</td>\n",
       "    </tr>\n",
       "    <tr>\n",
       "      <th>3</th>\n",
       "      <td>7.0032</td>\n",
       "      <td>11.8540</td>\n",
       "    </tr>\n",
       "    <tr>\n",
       "      <th>4</th>\n",
       "      <td>5.8598</td>\n",
       "      <td>6.8233</td>\n",
       "    </tr>\n",
       "  </tbody>\n",
       "</table>\n",
       "</div>"
      ]
     },
     "execution_count": 2,
     "metadata": {},
     "output_type": "execute_result"
    }
   ],
   "source": [
    "df1 = pd.read_csv(DATA_DIR + '/ex1data1.csv', header=None)\n",
    "df1.head()"
   ]
  },
  {
   "cell_type": "code",
   "execution_count": 3,
   "metadata": {},
   "outputs": [
    {
     "data": {
      "text/html": [
       "<div>\n",
       "<style>\n",
       "    .dataframe thead tr:only-child th {\n",
       "        text-align: right;\n",
       "    }\n",
       "\n",
       "    .dataframe thead th {\n",
       "        text-align: left;\n",
       "    }\n",
       "\n",
       "    .dataframe tbody tr th {\n",
       "        vertical-align: top;\n",
       "    }\n",
       "</style>\n",
       "<table border=\"1\" class=\"dataframe\">\n",
       "  <thead>\n",
       "    <tr style=\"text-align: right;\">\n",
       "      <th></th>\n",
       "      <th>population</th>\n",
       "      <th>profit</th>\n",
       "    </tr>\n",
       "  </thead>\n",
       "  <tbody>\n",
       "    <tr>\n",
       "      <th>0</th>\n",
       "      <td>6.1101</td>\n",
       "      <td>17.5920</td>\n",
       "    </tr>\n",
       "    <tr>\n",
       "      <th>1</th>\n",
       "      <td>5.5277</td>\n",
       "      <td>9.1302</td>\n",
       "    </tr>\n",
       "    <tr>\n",
       "      <th>2</th>\n",
       "      <td>8.5186</td>\n",
       "      <td>13.6620</td>\n",
       "    </tr>\n",
       "    <tr>\n",
       "      <th>3</th>\n",
       "      <td>7.0032</td>\n",
       "      <td>11.8540</td>\n",
       "    </tr>\n",
       "    <tr>\n",
       "      <th>4</th>\n",
       "      <td>5.8598</td>\n",
       "      <td>6.8233</td>\n",
       "    </tr>\n",
       "  </tbody>\n",
       "</table>\n",
       "</div>"
      ],
      "text/plain": [
       "<div>\n",
       "<style>\n",
       "    .dataframe thead tr:only-child th {\n",
       "        text-align: right;\n",
       "    }\n",
       "\n",
       "    .dataframe thead th {\n",
       "        text-align: left;\n",
       "    }\n",
       "\n",
       "    .dataframe tbody tr th {\n",
       "        vertical-align: top;\n",
       "    }\n",
       "</style>\n",
       "<table border=\"1\" class=\"dataframe\">\n",
       "  <thead>\n",
       "    <tr style=\"text-align: right;\">\n",
       "      <th></th>\n",
       "      <th>population</th>\n",
       "      <th>profit</th>\n",
       "    </tr>\n",
       "  </thead>\n",
       "  <tbody>\n",
       "    <tr>\n",
       "      <th>0</th>\n",
       "      <td>6.1101</td>\n",
       "      <td>17.5920</td>\n",
       "    </tr>\n",
       "    <tr>\n",
       "      <th>1</th>\n",
       "      <td>5.5277</td>\n",
       "      <td>9.1302</td>\n",
       "    </tr>\n",
       "    <tr>\n",
       "      <th>2</th>\n",
       "      <td>8.5186</td>\n",
       "      <td>13.6620</td>\n",
       "    </tr>\n",
       "    <tr>\n",
       "      <th>3</th>\n",
       "      <td>7.0032</td>\n",
       "      <td>11.8540</td>\n",
       "    </tr>\n",
       "    <tr>\n",
       "      <th>4</th>\n",
       "      <td>5.8598</td>\n",
       "      <td>6.8233</td>\n",
       "    </tr>\n",
       "  </tbody>\n",
       "</table>\n",
       "</div>"
      ]
     },
     "execution_count": 3,
     "metadata": {},
     "output_type": "execute_result"
    }
   ],
   "source": [
    "df1.columns = ['population', 'profit']\n",
    "df1.head()"
   ]
  },
  {
   "cell_type": "code",
   "execution_count": 4,
   "metadata": {},
   "outputs": [
    {
     "data": {
      "text/plain": [
       "((97, 1), (97, 1))"
      ]
     },
     "execution_count": 4,
     "metadata": {},
     "output_type": "execute_result"
    }
   ],
   "source": [
    "X = df1['population'].values.reshape(-1, 1)\n",
    "y = df1['profit'].values.reshape(-1, 1)\n",
    "X.shape, y.shape"
   ]
  },
  {
   "cell_type": "markdown",
   "metadata": {},
   "source": [
    "Visualize the data by scatter plot"
   ]
  },
  {
   "cell_type": "code",
   "execution_count": 5,
   "metadata": {},
   "outputs": [
    {
     "name": "stdout",
     "output_type": "stream",
     "text": [
      "Saving figure scatter plot\n"
     ]
    },
    {
     "data": {
      "image/png": "[encoded data removed]",
      "text/plain": [
       "<matplotlib.figure.Figure at 0x7f8fec7463c8>"
      ]
     },
     "metadata": {},
     "output_type": "display_data"
    }
   ],
   "source": [
    "sns.set(style=\"ticks\", color_codes=True)\n",
    "sns.pairplot(df1)\n",
    "save_fig('scatter plot')"
   ]
  },
  {
   "cell_type": "markdown",
   "metadata": {},
   "source": [
    "Gradient descent one variable with no Matrix calculation, using iterations"
   ]
  },
  {
   "cell_type": "code",
   "execution_count": 6,
   "metadata": {},
   "outputs": [],
   "source": [
    "from sklearn.preprocessing import StandardScaler\n",
    "class LR_NoMatrix(object):\n",
    "    def __init__(self, alpha=0.1, n_iter=10):\n",
    "        self.alpha = alpha\n",
    "        self.n_iter = n_iter\n",
    "\n",
    "    def scale(self, X):\n",
    "        self.sc_X = StandardScaler()\n",
    "        self.X_std = self.sc_X.fit_transform(X)\n",
    "        return self\n",
    "\n",
    "    def fit(self, X, y):\n",
    "        self.X = X\n",
    "        self.y = y\n",
    "        self.scale(X)\n",
    "        self.weights = np.zeros((X.shape[1] + 1, ))\n",
    "        self.cost = []\n",
    "        self.n = X.shape[0]\n",
    "\n",
    "        for i in range(self.n_iter):\n",
    "            SE_sum = 0\n",
    "            dw0_sum = 0\n",
    "            dw1_sum = 0\n",
    "            for j in range(self.n):\n",
    "                y_pred = self.predict(self.X_std[j][0])\n",
    "                SE_sum += (y_pred-y[j]) ** 2\n",
    "                dw0_sum += (y_pred - y[j]) * 2\n",
    "                dw1_sum += (y_pred - y[j]) * self.X_std[j][0] * 2\n",
    "            \n",
    "            cost_temp = (SE_sum / self.n) ** 0.5\n",
    "            if (i+1) % 10 == 0: \n",
    "                print('n_iter: %d, RMSE: %f' % (i+1, cost_temp))\n",
    "            dw0 = dw0_sum / self.n\n",
    "            dw1 = dw1_sum / self.n\n",
    "            self.cost.append(cost_temp)\n",
    "            self.weights[0] -= self.alpha * dw0\n",
    "            self.weights[1] -= self.alpha * dw1\n",
    "                \n",
    "        return self\n",
    "\n",
    "    def predict(self, xi):\n",
    "        predict_std = self.weights[0] + self.weights[1] * xi\n",
    "        return predict_std\n",
    "    \n",
    "    def predict_all(self):\n",
    "        y_pred_all = []\n",
    "        for xi in self.X_std:\n",
    "            predict_std = self.weights[0] + self.weights[1] * xi\n",
    "            y_pred_all.append(predict_std)\n",
    "        return y_pred_all\n",
    "\n",
    "    def plotFinal(self, xlabel='X', ylabel='y', title='Linear Regression'):\n",
    "        plt.plot(self.X, self.y, \"b.\")\n",
    "        plt.plot(self.X, self.predict_all(), \"g-\")\n",
    "        plt.legend(loc='lower right')\n",
    "        plt.xlabel(xlabel)\n",
    "        plt.ylabel(ylabel)\n",
    "        plt.title(title)\n",
    "        plt.axis([min(self.X) - 1, max(self.X) + 1, min(self.y) - 1, max(self.y) + 1])"
   ]
  },
  {
   "cell_type": "code",
   "execution_count": null,
   "metadata": {},
   "outputs": [],
   "source": [
    "\n",
    "# learning rate = 0.1\n",
    "lr = LR_NoMatrix(alpha=0.1, n_iter=100)\n",
    "lr.fit(X, y)"
   ]
  },
  {
   "cell_type": "code",
   "execution_count": 8,
   "metadata": {},
   "outputs": [
    {
     "name": "stdout",
     "output_type": "stream",
     "text": [
      "n_iter: 10, RMSE: 8.009087\nn_iter: 20, RMSE: 8.009087\nn_iter: 30, RMSE: 8.009087\nn_iter: 40, RMSE: 8.009087\nn_iter: 50, RMSE: 8.009087\nn_iter: 60, RMSE: 8.009087\nn_iter: 70, RMSE: 8.009087\nn_iter: 80, RMSE: 8.009087\nn_iter: 90, RMSE: 8.009087\nn_iter: 100, RMSE: 8.009087\n"
     ]
    },
    {
     "data": {
      "text/plain": [
       "<__main__.LR_NoMatrix at 0x7f8f9520e8d0>"
      ]
     },
     "execution_count": 8,
     "metadata": {},
     "output_type": "execute_result"
    }
   ],
   "source": [
    "# learning rate = 1\n",
    "lr = LR_NoMatrix(alpha=1, n_iter=100)\n",
    "lr.fit(X, y)"
   ]
  },
  {
   "cell_type": "markdown",
   "metadata": {},
   "source": [
    "Not converge when learning rate = 1"
   ]
  },
  {
   "cell_type": "code",
   "execution_count": 9,
   "metadata": {},
   "outputs": [
    {
     "name": "stdout",
     "output_type": "stream",
     "text": [
      "n_iter: 10, RMSE: 6.878919\nn_iter: 20, RMSE: 5.879380\nn_iter: 30, RMSE: 5.104263\nn_iter: 40, RMSE: 4.513285\nn_iter: 50, RMSE: 4.071268\nn_iter: 60, RMSE: 3.747262\nn_iter: 70, RMSE: 3.514363\nn_iter: 80, RMSE: 3.349877\nn_iter: 90, RMSE: 3.235414\nn_iter: 100, RMSE: 3.156687"
     ]
    },
    {
     "name": "stdout",
     "output_type": "stream",
     "text": [
      "\nn_iter: 110, RMSE: 3.103017\nn_iter: 120, RMSE: 3.066664\nn_iter: 130, RMSE: 3.042152\nn_iter: 140, RMSE: 3.025677\nn_iter: 150, RMSE: 3.014629\nn_iter: 160, RMSE: 3.007230\nn_iter: 170, RMSE: 3.002280\nn_iter: 180, RMSE: 2.998971\nn_iter: 190, RMSE: 2.996760\nn_iter: 200, RMSE: 2.995283\nn_iter: 210, RMSE: 2.994296\nn_iter: 220, RMSE: 2.993638\nn_iter: 230, RMSE: 2.993198\nn_iter: 240, RMSE: 2.992904\nn_iter: 250, RMSE: 2.992708\nn_iter: 260, RMSE: 2.992577\nn_iter: 270, RMSE: 2.992490\nn_iter: 280, RMSE: 2.992431\nn_iter: 290, RMSE: 2.992392\nn_iter: 300, RMSE: 2.992366\nn_iter: 310, RMSE: 2.992349\nn_iter: 320, RMSE: 2.992337\nn_iter: 330, RMSE: 2.992329\nn_iter: 340, RMSE: 2.992324\nn_iter: 350, RMSE: 2.992321\nn_iter: 360, RMSE: 2.992319\nn_iter: 370, RMSE: 2.992317\nn_iter: 380, RMSE: 2.992316\nn_iter: 390, RMSE: 2.992315\nn_iter: 400, RMSE: 2.992315\n"
     ]
    },
    {
     "data": {
      "text/plain": [
       "<__main__.LR_NoMatrix at 0x7f8f9520ed68>"
      ]
     },
     "execution_count": 9,
     "metadata": {},
     "output_type": "execute_result"
    }
   ],
   "source": [
    "# learning rate = 0.01\n",
    "lr = LR_NoMatrix(alpha=0.01, n_iter=400)\n",
    "lr.fit(X, y)"
   ]
  },
  {
   "cell_type": "markdown",
   "metadata": {},
   "source": [
    "When learning rate is 0.1, it coverges to the optimum point, also it is faster.\n",
    "So I choose my final learning rate to be 0.1"
   ]
  },
  {
   "cell_type": "code",
   "execution_count": 10,
   "metadata": {},
   "outputs": [
    {
     "name": "stdout",
     "output_type": "stream",
     "text": [
      "n_iter: 10, RMSE: 3.154074\nn_iter: 20, RMSE: 2.994229\nn_iter: 30, RMSE: 2.992336\nn_iter: 40, RMSE: 2.992314\nn_iter: 50, RMSE: 2.992314\nn_iter: 60, RMSE: 2.992314\nn_iter: 70, RMSE: 2.992314\nn_iter: 80, RMSE: 2.992314\nn_iter: 90, RMSE: 2.992314\nn_iter: 100, RMSE: 2.992314\n"
     ]
    },
    {
     "data": {
      "text/plain": [
       "<__main__.LR_NoMatrix at 0x7f8f9520e5c0>"
      ]
     },
     "execution_count": 10,
     "metadata": {},
     "output_type": "execute_result"
    }
   ],
   "source": [
    "# learning rate = 0.1\n",
    "lr = LR_NoMatrix(alpha=0.1, n_iter=100)\n",
    "lr.fit(X, y)"
   ]
  },
  {
   "cell_type": "code",
   "execution_count": 11,
   "metadata": {},
   "outputs": [
    {
     "name": "stdout",
     "output_type": "stream",
     "text": [
      "Saving figure Population vs. Profit\n"
     ]
    },
    {
     "data": {
      "image/png": "[encoded data removed]",
      "text/plain": [
       "<matplotlib.figure.Figure at 0x7f8f9520e860>"
      ]
     },
     "metadata": {},
     "output_type": "display_data"
    }
   ],
   "source": [
    "lr.plotFinal(xlabel='Population', ylabel='Profit')\n",
    "save_fig('Population vs. Profit')"
   ]
  },
  {
   "cell_type": "markdown",
   "metadata": {},
   "source": [
    "Question 2: Linear regression with two variables from scratch\n"
   ]
  },
  {
   "cell_type": "code",
   "execution_count": 12,
   "metadata": {},
   "outputs": [
    {
     "data": {
      "text/html": [
       "<div>\n",
       "<style>\n",
       "    .dataframe thead tr:only-child th {\n",
       "        text-align: right;\n",
       "    }\n",
       "\n",
       "    .dataframe thead th {\n",
       "        text-align: left;\n",
       "    }\n",
       "\n",
       "    .dataframe tbody tr th {\n",
       "        vertical-align: top;\n",
       "    }\n",
       "</style>\n",
       "<table border=\"1\" class=\"dataframe\">\n",
       "  <thead>\n",
       "    <tr style=\"text-align: right;\">\n",
       "      <th></th>\n",
       "      <th>0</th>\n",
       "      <th>1</th>\n",
       "      <th>2</th>\n",
       "    </tr>\n",
       "  </thead>\n",
       "  <tbody>\n",
       "    <tr>\n",
       "      <th>0</th>\n",
       "      <td>2104</td>\n",
       "      <td>3</td>\n",
       "      <td>399900.0</td>\n",
       "    </tr>\n",
       "    <tr>\n",
       "      <th>1</th>\n",
       "      <td>1600</td>\n",
       "      <td>3</td>\n",
       "      <td>329900.0</td>\n",
       "    </tr>\n",
       "    <tr>\n",
       "      <th>2</th>\n",
       "      <td>2400</td>\n",
       "      <td>3</td>\n",
       "      <td>369000.0</td>\n",
       "    </tr>\n",
       "    <tr>\n",
       "      <th>3</th>\n",
       "      <td>1416</td>\n",
       "      <td>2</td>\n",
       "      <td>232000.0</td>\n",
       "    </tr>\n",
       "    <tr>\n",
       "      <th>4</th>\n",
       "      <td>3000</td>\n",
       "      <td>4</td>\n",
       "      <td>539900.0</td>\n",
       "    </tr>\n",
       "  </tbody>\n",
       "</table>\n",
       "</div>"
      ],
      "text/plain": [
       "<div>\n",
       "<style>\n",
       "    .dataframe thead tr:only-child th {\n",
       "        text-align: right;\n",
       "    }\n",
       "\n",
       "    .dataframe thead th {\n",
       "        text-align: left;\n",
       "    }\n",
       "\n",
       "    .dataframe tbody tr th {\n",
       "        vertical-align: top;\n",
       "    }\n",
       "</style>\n",
       "<table border=\"1\" class=\"dataframe\">\n",
       "  <thead>\n",
       "    <tr style=\"text-align: right;\">\n",
       "      <th></th>\n",
       "      <th>0</th>\n",
       "      <th>1</th>\n",
       "      <th>2</th>\n",
       "    </tr>\n",
       "  </thead>\n",
       "  <tbody>\n",
       "    <tr>\n",
       "      <th>0</th>\n",
       "      <td>2104</td>\n",
       "      <td>3</td>\n",
       "      <td>399900.0</td>\n",
       "    </tr>\n",
       "    <tr>\n",
       "      <th>1</th>\n",
       "      <td>1600</td>\n",
       "      <td>3</td>\n",
       "      <td>329900.0</td>\n",
       "    </tr>\n",
       "    <tr>\n",
       "      <th>2</th>\n",
       "      <td>2400</td>\n",
       "      <td>3</td>\n",
       "      <td>369000.0</td>\n",
       "    </tr>\n",
       "    <tr>\n",
       "      <th>3</th>\n",
       "      <td>1416</td>\n",
       "      <td>2</td>\n",
       "      <td>232000.0</td>\n",
       "    </tr>\n",
       "    <tr>\n",
       "      <th>4</th>\n",
       "      <td>3000</td>\n",
       "      <td>4</td>\n",
       "      <td>539900.0</td>\n",
       "    </tr>\n",
       "  </tbody>\n",
       "</table>\n",
       "</div>"
      ]
     },
     "execution_count": 12,
     "metadata": {},
     "output_type": "execute_result"
    }
   ],
   "source": [
    "df2 = pd.read_csv(DATA_DIR + '/ex1data2.csv', header=None)\n",
    "df2.head()"
   ]
  },
  {
   "cell_type": "code",
   "execution_count": 13,
   "metadata": {},
   "outputs": [
    {
     "data": {
      "text/html": [
       "<div>\n",
       "<style>\n",
       "    .dataframe thead tr:only-child th {\n",
       "        text-align: right;\n",
       "    }\n",
       "\n",
       "    .dataframe thead th {\n",
       "        text-align: left;\n",
       "    }\n",
       "\n",
       "    .dataframe tbody tr th {\n",
       "        vertical-align: top;\n",
       "    }\n",
       "</style>\n",
       "<table border=\"1\" class=\"dataframe\">\n",
       "  <thead>\n",
       "    <tr style=\"text-align: right;\">\n",
       "      <th></th>\n",
       "      <th>size</th>\n",
       "      <th>bedroom</th>\n",
       "      <th>price</th>\n",
       "    </tr>\n",
       "  </thead>\n",
       "  <tbody>\n",
       "    <tr>\n",
       "      <th>0</th>\n",
       "      <td>2104</td>\n",
       "      <td>3</td>\n",
       "      <td>399900.0</td>\n",
       "    </tr>\n",
       "    <tr>\n",
       "      <th>1</th>\n",
       "      <td>1600</td>\n",
       "      <td>3</td>\n",
       "      <td>329900.0</td>\n",
       "    </tr>\n",
       "    <tr>\n",
       "      <th>2</th>\n",
       "      <td>2400</td>\n",
       "      <td>3</td>\n",
       "      <td>369000.0</td>\n",
       "    </tr>\n",
       "    <tr>\n",
       "      <th>3</th>\n",
       "      <td>1416</td>\n",
       "      <td>2</td>\n",
       "      <td>232000.0</td>\n",
       "    </tr>\n",
       "    <tr>\n",
       "      <th>4</th>\n",
       "      <td>3000</td>\n",
       "      <td>4</td>\n",
       "      <td>539900.0</td>\n",
       "    </tr>\n",
       "  </tbody>\n",
       "</table>\n",
       "</div>"
      ],
      "text/plain": [
       "<div>\n",
       "<style>\n",
       "    .dataframe thead tr:only-child th {\n",
       "        text-align: right;\n",
       "    }\n",
       "\n",
       "    .dataframe thead th {\n",
       "        text-align: left;\n",
       "    }\n",
       "\n",
       "    .dataframe tbody tr th {\n",
       "        vertical-align: top;\n",
       "    }\n",
       "</style>\n",
       "<table border=\"1\" class=\"dataframe\">\n",
       "  <thead>\n",
       "    <tr style=\"text-align: right;\">\n",
       "      <th></th>\n",
       "      <th>size</th>\n",
       "      <th>bedroom</th>\n",
       "      <th>price</th>\n",
       "    </tr>\n",
       "  </thead>\n",
       "  <tbody>\n",
       "    <tr>\n",
       "      <th>0</th>\n",
       "      <td>2104</td>\n",
       "      <td>3</td>\n",
       "      <td>399900.0</td>\n",
       "    </tr>\n",
       "    <tr>\n",
       "      <th>1</th>\n",
       "      <td>1600</td>\n",
       "      <td>3</td>\n",
       "      <td>329900.0</td>\n",
       "    </tr>\n",
       "    <tr>\n",
       "      <th>2</th>\n",
       "      <td>2400</td>\n",
       "      <td>3</td>\n",
       "      <td>369000.0</td>\n",
       "    </tr>\n",
       "    <tr>\n",
       "      <th>3</th>\n",
       "      <td>1416</td>\n",
       "      <td>2</td>\n",
       "      <td>232000.0</td>\n",
       "    </tr>\n",
       "    <tr>\n",
       "      <th>4</th>\n",
       "      <td>3000</td>\n",
       "      <td>4</td>\n",
       "      <td>539900.0</td>\n",
       "    </tr>\n",
       "  </tbody>\n",
       "</table>\n",
       "</div>"
      ]
     },
     "execution_count": 13,
     "metadata": {},
     "output_type": "execute_result"
    }
   ],
   "source": [
    "df2.columns = ['size', 'bedroom', 'price']\n",
    "df2.head()"
   ]
  },
  {
   "cell_type": "code",
   "execution_count": 14,
   "metadata": {},
   "outputs": [
    {
     "data": {
      "text/plain": [
       "((47, 2), (47, 1))"
      ]
     },
     "execution_count": 14,
     "metadata": {},
     "output_type": "execute_result"
    }
   ],
   "source": [
    "X = df2.iloc[:, 0:2].values.astype('float64')\n",
    "y = df2['price'].values.reshape(-1, 1)\n",
    "X.shape, y.shape"
   ]
  },
  {
   "cell_type": "code",
   "execution_count": 15,
   "metadata": {},
   "outputs": [
    {
     "name": "stdout",
     "output_type": "stream",
     "text": [
      "Saving figure scatter plot Q2\n"
     ]
    },
    {
     "data": {
      "image/png": "[encoded data removed]",
      "text/plain": [
       "<matplotlib.figure.Figure at 0x7f8f9527ceb8>"
      ]
     },
     "metadata": {},
     "output_type": "display_data"
    }
   ],
   "source": [
    "sns.pairplot(df2)\n",
    "save_fig('scatter plot Q2')"
   ]
  },
  {
   "cell_type": "markdown",
   "metadata": {},
   "source": [
    "Gradient descent two variables with no Matrix calculation, using iterations"
   ]
  },
  {
   "cell_type": "code",
   "execution_count": 16,
   "metadata": {},
   "outputs": [],
   "source": [
    "class LR_NoMatrix_TwoVar(object):\n",
    "    def __init__(self, alpha=0.1, n_iter=10):\n",
    "        self.alpha = alpha\n",
    "        self.n_iter = n_iter\n",
    "\n",
    "    def scale(self, X):\n",
    "        self.sc_X = StandardScaler()\n",
    "        self.X_std = self.sc_X.fit_transform(X)\n",
    "        return self\n",
    "\n",
    "    def fit(self, X, y):\n",
    "        self.X = X\n",
    "        self.y = y\n",
    "        self.scale(X)\n",
    "        self.weights = np.zeros((X.shape[1] + 1, ))\n",
    "        self.cost = []\n",
    "        self.n = X.shape[0]\n",
    "\n",
    "        for i in range(self.n_iter):\n",
    "            SE_sum = 0\n",
    "            dw0_sum = 0\n",
    "            dw1_sum = 0\n",
    "            dw2_sum = 0\n",
    "            for j in range(self.n):\n",
    "                y_pred = self.predict(self.X_std[j])\n",
    "                SE_sum += (y_pred-y[j]) ** 2\n",
    "                dw0_sum += (y_pred - y[j]) * 2\n",
    "                dw1_sum += (y_pred - y[j]) * self.X_std[j][0] * 2\n",
    "                dw2_sum += (y_pred - y[j]) * self.X_std[j][1] * 2\n",
    "            \n",
    "            cost_temp = (SE_sum / self.n) ** 0.5\n",
    "            if (i+1) % 10 == 0: \n",
    "                print('n_iter: %d, RMSE: %f' % (i+1, cost_temp))\n",
    "            dw0 = dw0_sum / self.n\n",
    "            dw1 = dw1_sum / self.n\n",
    "            dw2 = dw2_sum / self.n\n",
    "            self.cost.append(cost_temp)\n",
    "            self.weights[0] -= self.alpha * dw0\n",
    "            self.weights[1] -= self.alpha * dw1\n",
    "            self.weights[2] -= self.alpha * dw2\n",
    "                \n",
    "        return self\n",
    "\n",
    "    def predict(self, xi):\n",
    "        predict_std = self.weights[0] + self.weights[1] * xi[0] + self.weights[2] * xi[1]\n",
    "        return predict_std\n",
    "    \n",
    "    def predict_all(self):\n",
    "        y_pred_all = []\n",
    "        for i in range(self.n):\n",
    "            predict_std = self.weights[0] + self.weights[1] * self.X_std[i][0] \\\n",
    "                          + self.weights[2] * self.X_std[i][1]\n",
    "            y_pred_all.append(predict_std)\n",
    "        return y_pred_all"
   ]
  },
  {
   "cell_type": "code",
   "execution_count": 18,
   "metadata": {},
   "outputs": [
    {
     "name": "stdout",
     "output_type": "stream",
     "text": [
      "n_iter: 10, RMSE: 82146.888026\nn_iter: 20, RMSE: 64807.532389\nn_iter: 30, RMSE: 64039.044042\nn_iter: 40, RMSE: 63943.784853\nn_iter: 50, RMSE: 63928.995156\nn_iter: 60, RMSE: 63926.655360\nn_iter: 70, RMSE: 63926.284703\nn_iter: 80, RMSE: 63926.225981\nn_iter: 90, RMSE: 63926.216678\nn_iter: 100, RMSE: 63926.215204\nn_iter: 110, RMSE: 63926.214970\nn_iter: 120, RMSE: 63926.214933\nn_iter: 130, RMSE: 63926.214927\nn_iter: 140, RMSE: 63926.214926\nn_iter: 150, RMSE: 63926.214926\nn_iter: 160, RMSE: 63926.214926\nn_iter: 170, RMSE: 63926.214926\nn_iter: 180, RMSE: 63926.214926\nn_iter: 190, RMSE: 63926.214926\nn_iter: 200, RMSE: 63926.214926\n"
     ]
    },
    {
     "data": {
      "text/plain": [
       "<__main__.LR_NoMatrix_TwoVar at 0x7f8f938b36d8>"
      ]
     },
     "execution_count": 18,
     "metadata": {},
     "output_type": "execute_result"
    }
   ],
   "source": [
    "# learning rate 0.1\n",
    "lr_2 = LR_NoMatrix_TwoVar(alpha=0.1, n_iter=200)\n",
    "lr_2.fit(X, y)"
   ]
  },
  {
   "cell_type": "code",
   "execution_count": 20,
   "metadata": {},
   "outputs": [
    {
     "name": "stdout",
     "output_type": "stream",
     "text": [
      "n_iter: 10, RMSE: 78566128.604560\nn_iter: 20, RMSE: 144030799918.980530\nn_iter: 30, RMSE: 264046011794127.312500\nn_iter: 40, RMSE: 484065188722168064.000000\nn_iter: 50, RMSE: 887417709286678986752.000000\nn_iter: 60, RMSE: 1626868052285438499487744.000000\nn_iter: 70, RMSE: 2982473340175370231815864320.000000\nn_iter: 80, RMSE: 5467651302366435185341495246848.000000\nn_iter: 90, RMSE: 10023630508801643217077434585186304.000000\nn_iter: 100, RMSE: 18375928350349213971969610694894026752.000000\nn_iter: 110, RMSE: 33687868127287742351233230809042457198592.000000\nn_iter: 120, RMSE: 61758646274867585923791203563867818002743296.000000\nn_iter: 130, RMSE: 113219701979737669034670084052768383734686679040.000000\nn_iter: 140, RMSE: 207561235382795360886289125574569856264216913117184.000000\nn_iter: 150, RMSE: 380513865346000431152294291135060294942307700654997504.000000\nn_iter: 160, RMSE: 697581132881211505131522353303328696927438637916699492352.000000\nn_iter: 170, RMSE: 1278848108489694172136069353077092688430656029063613373218816.000000\nn_iter: 180, RMSE: 2344462038175796487469682046594072502807732378462075769390628864.000000\nn_iter: 190, RMSE: 4298010226514485882316166720379473582045864776898486103541014331392.000000\nn_iter: 200, RMSE: 7879373436814822324861614162515254276467948187601337952491935933399040.000000\n"
     ]
    },
    {
     "data": {
      "text/plain": [
       "<__main__.LR_NoMatrix_TwoVar at 0x7f8f9470e7b8>"
      ]
     },
     "execution_count": 20,
     "metadata": {},
     "output_type": "execute_result"
    }
   ],
   "source": [
    "# learning rate 1\n",
    "lr_2 = LR_NoMatrix_TwoVar(alpha=1, n_iter=200)\n",
    "lr_2.fit(X, y)"
   ]
  },
  {
   "cell_type": "markdown",
   "metadata": {},
   "source": [
    "not converge when learning rate = 1"
   ]
  },
  {
   "cell_type": "code",
   "execution_count": 21,
   "metadata": {},
   "outputs": [
    {
     "name": "stdout",
     "output_type": "stream",
     "text": [
      "n_iter: 10, RMSE: 303036.136048\nn_iter: 20, RMSE: 249912.134598\nn_iter: 30, RMSE: 207547.053636\nn_iter: 40, RMSE: 173891.401621\nn_iter: 50, RMSE: 147320.447660\nn_iter: 60, RMSE: 126527.270226\nn_iter: 70, RMSE: 110440.416694\nn_iter: 80, RMSE: 98162.772634\nn_iter: 90, RMSE: 88930.506943\nn_iter: 100, RMSE: 82090.203104\nn_iter: 110, RMSE: 77089.196004\nn_iter: 120, RMSE: 73471.662700\nn_iter: 130, RMSE: 70873.791770\nn_iter: 140, RMSE: 69014.890144\nn_iter: 150, RMSE: 67684.876310\nn_iter: 160, RMSE: 66730.344840\nn_iter: 170, RMSE: 66041.321060\nn_iter: 180, RMSE: 65539.959475\nn_iter: 190, RMSE: 65171.585693\nn_iter: 200, RMSE: 64897.944621\n"
     ]
    },
    {
     "data": {
      "text/plain": [
       "<__main__.LR_NoMatrix_TwoVar at 0x7f8f9aba3cc0>"
      ]
     },
     "execution_count": 21,
     "metadata": {},
     "output_type": "execute_result"
    }
   ],
   "source": [
    "# learning rate 0.01\n",
    "lr_2 = LR_NoMatrix_TwoVar(alpha=0.01, n_iter=200)\n",
    "lr_2.fit(X, y)"
   ]
  },
  {
   "cell_type": "markdown",
   "metadata": {},
   "source": [
    "When learning rate is 0.1, it coverges to the optimum point, also it is faster.\n",
    "So I choose my final learning rate to be 0.1"
   ]
  },
  {
   "cell_type": "code",
   "execution_count": 22,
   "metadata": {},
   "outputs": [
    {
     "name": "stdout",
     "output_type": "stream",
     "text": [
      "n_iter: 10, RMSE: 82146.888026\nn_iter: 20, RMSE: 64807.532389\nn_iter: 30, RMSE: 64039.044042\nn_iter: 40, RMSE: 63943.784853\nn_iter: 50, RMSE: 63928.995156\nn_iter: 60, RMSE: 63926.655360\nn_iter: 70, RMSE: 63926.284703\nn_iter: 80, RMSE: 63926.225981\nn_iter: 90, RMSE: 63926.216678\nn_iter: 100, RMSE: 63926.215204\nn_iter: 110, RMSE: 63926.214970\nn_iter: 120, RMSE: 63926.214933\nn_iter: 130, RMSE: 63926.214927\nn_iter: 140, RMSE: 63926.214926\nn_iter: 150, RMSE: 63926.214926\nn_iter: 160, RMSE: 63926.214926\nn_iter: 170, RMSE: 63926.214926\nn_iter: 180, RMSE: 63926.214926\nn_iter: 190, RMSE: 63926.214926\nn_iter: 200, RMSE: 63926.214926\n"
     ]
    },
    {
     "data": {
      "text/plain": [
       "<__main__.LR_NoMatrix_TwoVar at 0x7f8f952c56a0>"
      ]
     },
     "execution_count": 22,
     "metadata": {},
     "output_type": "execute_result"
    }
   ],
   "source": [
    "# learning rate 0.1\n",
    "lr_2 = LR_NoMatrix_TwoVar(alpha=0.1, n_iter=200)\n",
    "lr_2.fit(X, y)"
   ]
  },
  {
   "cell_type": "code",
   "execution_count": 23,
   "metadata": {},
   "outputs": [
    {
     "data": {
      "text/plain": [
       "array([ 340412.76595745,  109447.76494106,   -6578.27621236])"
      ]
     },
     "execution_count": 23,
     "metadata": {},
     "output_type": "execute_result"
    }
   ],
   "source": [
    "lr_2.weights"
   ]
  },
  {
   "cell_type": "markdown",
   "metadata": {},
   "source": [
    "2.1 . Linear regression with two variables using matrix\n"
   ]
  },
  {
   "cell_type": "code",
   "execution_count": 24,
   "metadata": {},
   "outputs": [],
   "source": [
    "class LR_Matrix(object):\n",
    "    def __init__(self, alpha=0.1, n_iter=10):\n",
    "        self.alpha = alpha\n",
    "        self.n_iter = n_iter\n",
    "\n",
    "    def scale(self, X):\n",
    "        self.sc_X = StandardScaler()\n",
    "        self.X_std = self.sc_X.fit_transform(X)\n",
    "        self.X_std1 = np.c_[np.ones((X.shape[0], 1)), self.X_std]\n",
    "        return self\n",
    "\n",
    "    def fit(self, X, y):\n",
    "        self.X = X\n",
    "        self.y = y\n",
    "        self.scale(X)\n",
    "        self.weights = np.zeros((X.shape[1] + 1, 1))\n",
    "        self.cost = []\n",
    "        self.m = X.shape[0]\n",
    "\n",
    "        for i in range(self.n_iter):\n",
    "            y_predict = self.predict()\n",
    "            errors = (y_predict - self.y)\n",
    "\n",
    "            # Method 1: update weights one by one\n",
    "            self.weights[0] -= 2 * self.alpha * errors.sum() / self.m\n",
    "            for ix in range(1, len(self.weights)):\n",
    "                self.weights[ix] -= 2 * self.alpha * errors.T.dot(self.X_std[:, ix - 1]) / self.m\n",
    "\n",
    "            # method 2: Batch Gradient Descent\n",
    "            # gradients = 2 / self.m * self.X_std1.T.dot(self.X_std1.dot(self.weights) - self.y_std)\n",
    "            # self.weights = self.weights - self.alpha * gradients\n",
    "\n",
    "            cost_ = ((errors ** 2).sum() / self.m) ** 0.5\n",
    "            self.cost.append(cost_)\n",
    "            if (i + 1) % 10 == 0:\n",
    "                print('n_iter: %d, RMSE: %f' % (i+1, cost_))\n",
    "            \n",
    "        return self\n",
    "\n",
    "    def net_input(self, X):\n",
    "        return X.dot(self.weights)\n",
    "\n",
    "    def predict(self):\n",
    "        predict_std = self.net_input(self.X_std1)\n",
    "        return predict_std\n",
    "\n",
    "    def plotFinal(self, xlabel='X', ylabel='y', title='Linear Regression'):\n",
    "        plt.plot(self.X, self.y, \"b.\")\n",
    "        plt.plot(self.X, self.predict(), \"g-\")\n",
    "        plt.xlabel(xlabel)\n",
    "        plt.ylabel(ylabel)\n",
    "        plt.title(title)\n",
    "        plt.axis([0, max(self.X) + 5, 0, max(self.y) + 1])\n"
   ]
  },
  {
   "cell_type": "code",
   "execution_count": 25,
   "metadata": {},
   "outputs": [
    {
     "name": "stdout",
     "output_type": "stream",
     "text": [
      "n_iter: 10, RMSE: 82146.888026\nn_iter: 20, RMSE: 64807.532389\nn_iter: 30, RMSE: 64039.044042\nn_iter: 40, RMSE: 63943.784853\nn_iter: 50, RMSE: 63928.995156\nn_iter: 60, RMSE: 63926.655360\nn_iter: 70, RMSE: 63926.284703\nn_iter: 80, RMSE: 63926.225981\nn_iter: 90, RMSE: 63926.216678\nn_iter: 100, RMSE: 63926.215204\nn_iter: 110, RMSE: 63926.214970\nn_iter: 120, RMSE: 63926.214933\nn_iter: 130, RMSE: 63926.214927\nn_iter: 140, RMSE: 63926.214926\nn_iter: 150, RMSE: 63926.214926\nn_iter: 160, RMSE: 63926.214926\nn_iter: 170, RMSE: 63926.214926\nn_iter: 180, RMSE: 63926.214926\nn_iter: 190, RMSE: 63926.214926\nn_iter: 200, RMSE: 63926.214926\n"
     ]
    },
    {
     "data": {
      "text/plain": [
       "<__main__.LR_Matrix at 0x7f8f9481ff98>"
      ]
     },
     "execution_count": 25,
     "metadata": {},
     "output_type": "execute_result"
    }
   ],
   "source": [
    "lr_mt = LR_Matrix(alpha=0.1, n_iter=200)\n",
    "lr_mt.fit(X, y)"
   ]
  },
  {
   "cell_type": "code",
   "execution_count": 26,
   "metadata": {},
   "outputs": [
    {
     "data": {
      "text/plain": [
       "array([[ 340412.76595745],\n       [ 109447.76494106],\n       [  -6578.27621236]])"
      ]
     },
     "execution_count": 26,
     "metadata": {},
     "output_type": "execute_result"
    }
   ],
   "source": [
    "lr_mt.weights"
   ]
  },
  {
   "cell_type": "markdown",
   "metadata": {},
   "source": [
    "The final RMSE and weights are the same as calculation with no matrix"
   ]
  },
  {
   "cell_type": "markdown",
   "metadata": {},
   "source": [
    "2.2 . Linear regression with two variables using Normal equation\n"
   ]
  },
  {
   "cell_type": "code",
   "execution_count": 27,
   "metadata": {},
   "outputs": [],
   "source": [
    "class NormalEquation(object):\n",
    "\n",
    "    def __init__(self):\n",
    "        pass\n",
    "\n",
    "    def fit(self, X, y):\n",
    "        self.X = X\n",
    "        self.y = y\n",
    "        # it's ok if not normalizing the data when using Normal Equation\n",
    "        self.sc_X = StandardScaler()\n",
    "        self.X_std = self.sc_X.fit_transform(X)\n",
    "        self.X_new = np.c_[np.ones(shape=(len(y), 1)), self.X_std]\n",
    "        self.weights = np.linalg.inv(self.X_new.T.dot(self.X_new)).dot(self.X_new.T).dot(y)\n",
    "        self.cost = (((self.predict() - y) ** 2).sum() / len(y)) ** 0.5\n",
    "        return self\n",
    "\n",
    "    def predict(self):\n",
    "        predict = self.X_new.dot(self.weights)\n",
    "        return predict\n"
   ]
  },
  {
   "cell_type": "code",
   "execution_count": 28,
   "metadata": {},
   "outputs": [
    {
     "data": {
      "text/plain": [
       "<__main__.NormalEquation at 0x7f8f946da940>"
      ]
     },
     "execution_count": 28,
     "metadata": {},
     "output_type": "execute_result"
    }
   ],
   "source": [
    "ne = NormalEquation()\n",
    "ne.fit(X, y)"
   ]
  },
  {
   "cell_type": "code",
   "execution_count": 29,
   "metadata": {},
   "outputs": [
    {
     "name": "stdout",
     "output_type": "stream",
     "text": [
      "RMSE: 63926.214926\nWeights:  [[ 340412.76595745]\n [ 109447.76551898]\n [  -6578.27679028]]\n"
     ]
    }
   ],
   "source": [
    "print('RMSE: %f' % ne.cost)\n",
    "print('Weights: ', ne.weights)"
   ]
  },
  {
   "cell_type": "markdown",
   "metadata": {},
   "source": [
    "RMSE and weights are also the same as previous methods"
   ]
  },
  {
   "cell_type": "markdown",
   "metadata": {},
   "source": [
    "Question 3.  Linear regression with multiple variables\n"
   ]
  },
  {
   "cell_type": "code",
   "execution_count": 30,
   "metadata": {},
   "outputs": [
    {
     "data": {
      "text/html": [
       "<div>\n",
       "<style>\n",
       "    .dataframe thead tr:only-child th {\n",
       "        text-align: right;\n",
       "    }\n",
       "\n",
       "    .dataframe thead th {\n",
       "        text-align: left;\n",
       "    }\n",
       "\n",
       "    .dataframe tbody tr th {\n",
       "        vertical-align: top;\n",
       "    }\n",
       "</style>\n",
       "<table border=\"1\" class=\"dataframe\">\n",
       "  <thead>\n",
       "    <tr style=\"text-align: right;\">\n",
       "      <th></th>\n",
       "      <th>Unnamed: 0</th>\n",
       "      <th>MedInc</th>\n",
       "      <th>HouseAge</th>\n",
       "      <th>AveRooms</th>\n",
       "      <th>AveBedrms</th>\n",
       "      <th>Population</th>\n",
       "      <th>AveOccup</th>\n",
       "      <th>Latitude</th>\n",
       "      <th>Longitude</th>\n",
       "      <th>price</th>\n",
       "    </tr>\n",
       "  </thead>\n",
       "  <tbody>\n",
       "    <tr>\n",
       "      <th>0</th>\n",
       "      <td>0</td>\n",
       "      <td>8.3252</td>\n",
       "      <td>41.0</td>\n",
       "      <td>6.984127</td>\n",
       "      <td>1.023810</td>\n",
       "      <td>322.0</td>\n",
       "      <td>2.555556</td>\n",
       "      <td>37.88</td>\n",
       "      <td>-122.23</td>\n",
       "      <td>4.526</td>\n",
       "    </tr>\n",
       "    <tr>\n",
       "      <th>1</th>\n",
       "      <td>1</td>\n",
       "      <td>8.3014</td>\n",
       "      <td>21.0</td>\n",
       "      <td>6.238137</td>\n",
       "      <td>0.971880</td>\n",
       "      <td>2401.0</td>\n",
       "      <td>2.109842</td>\n",
       "      <td>37.86</td>\n",
       "      <td>-122.22</td>\n",
       "      <td>3.585</td>\n",
       "    </tr>\n",
       "    <tr>\n",
       "      <th>2</th>\n",
       "      <td>2</td>\n",
       "      <td>7.2574</td>\n",
       "      <td>52.0</td>\n",
       "      <td>8.288136</td>\n",
       "      <td>1.073446</td>\n",
       "      <td>496.0</td>\n",
       "      <td>2.802260</td>\n",
       "      <td>37.85</td>\n",
       "      <td>-122.24</td>\n",
       "      <td>3.521</td>\n",
       "    </tr>\n",
       "    <tr>\n",
       "      <th>3</th>\n",
       "      <td>3</td>\n",
       "      <td>5.6431</td>\n",
       "      <td>52.0</td>\n",
       "      <td>5.817352</td>\n",
       "      <td>1.073059</td>\n",
       "      <td>558.0</td>\n",
       "      <td>2.547945</td>\n",
       "      <td>37.85</td>\n",
       "      <td>-122.25</td>\n",
       "      <td>3.413</td>\n",
       "    </tr>\n",
       "    <tr>\n",
       "      <th>4</th>\n",
       "      <td>4</td>\n",
       "      <td>3.8462</td>\n",
       "      <td>52.0</td>\n",
       "      <td>6.281853</td>\n",
       "      <td>1.081081</td>\n",
       "      <td>565.0</td>\n",
       "      <td>2.181467</td>\n",
       "      <td>37.85</td>\n",
       "      <td>-122.25</td>\n",
       "      <td>3.422</td>\n",
       "    </tr>\n",
       "  </tbody>\n",
       "</table>\n",
       "</div>"
      ],
      "text/plain": [
       "<div>\n",
       "<style>\n",
       "    .dataframe thead tr:only-child th {\n",
       "        text-align: right;\n",
       "    }\n",
       "\n",
       "    .dataframe thead th {\n",
       "        text-align: left;\n",
       "    }\n",
       "\n",
       "    .dataframe tbody tr th {\n",
       "        vertical-align: top;\n",
       "    }\n",
       "</style>\n",
       "<table border=\"1\" class=\"dataframe\">\n",
       "  <thead>\n",
       "    <tr style=\"text-align: right;\">\n",
       "      <th></th>\n",
       "      <th>Unnamed: 0</th>\n",
       "      <th>MedInc</th>\n",
       "      <th>HouseAge</th>\n",
       "      <th>AveRooms</th>\n",
       "      <th>AveBedrms</th>\n",
       "      <th>Population</th>\n",
       "      <th>AveOccup</th>\n",
       "      <th>Latitude</th>\n",
       "      <th>Longitude</th>\n",
       "      <th>price</th>\n",
       "    </tr>\n",
       "  </thead>\n",
       "  <tbody>\n",
       "    <tr>\n",
       "      <th>0</th>\n",
       "      <td>0</td>\n",
       "      <td>8.3252</td>\n",
       "      <td>41.0</td>\n",
       "      <td>6.984127</td>\n",
       "      <td>1.023810</td>\n",
       "      <td>322.0</td>\n",
       "      <td>2.555556</td>\n",
       "      <td>37.88</td>\n",
       "      <td>-122.23</td>\n",
       "      <td>4.526</td>\n",
       "    </tr>\n",
       "    <tr>\n",
       "      <th>1</th>\n",
       "      <td>1</td>\n",
       "      <td>8.3014</td>\n",
       "      <td>21.0</td>\n",
       "      <td>6.238137</td>\n",
       "      <td>0.971880</td>\n",
       "      <td>2401.0</td>\n",
       "      <td>2.109842</td>\n",
       "      <td>37.86</td>\n",
       "      <td>-122.22</td>\n",
       "      <td>3.585</td>\n",
       "    </tr>\n",
       "    <tr>\n",
       "      <th>2</th>\n",
       "      <td>2</td>\n",
       "      <td>7.2574</td>\n",
       "      <td>52.0</td>\n",
       "      <td>8.288136</td>\n",
       "      <td>1.073446</td>\n",
       "      <td>496.0</td>\n",
       "      <td>2.802260</td>\n",
       "      <td>37.85</td>\n",
       "      <td>-122.24</td>\n",
       "      <td>3.521</td>\n",
       "    </tr>\n",
       "    <tr>\n",
       "      <th>3</th>\n",
       "      <td>3</td>\n",
       "      <td>5.6431</td>\n",
       "      <td>52.0</td>\n",
       "      <td>5.817352</td>\n",
       "      <td>1.073059</td>\n",
       "      <td>558.0</td>\n",
       "      <td>2.547945</td>\n",
       "      <td>37.85</td>\n",
       "      <td>-122.25</td>\n",
       "      <td>3.413</td>\n",
       "    </tr>\n",
       "    <tr>\n",
       "      <th>4</th>\n",
       "      <td>4</td>\n",
       "      <td>3.8462</td>\n",
       "      <td>52.0</td>\n",
       "      <td>6.281853</td>\n",
       "      <td>1.081081</td>\n",
       "      <td>565.0</td>\n",
       "      <td>2.181467</td>\n",
       "      <td>37.85</td>\n",
       "      <td>-122.25</td>\n",
       "      <td>3.422</td>\n",
       "    </tr>\n",
       "  </tbody>\n",
       "</table>\n",
       "</div>"
      ]
     },
     "execution_count": 30,
     "metadata": {},
     "output_type": "execute_result"
    }
   ],
   "source": [
    "df3 = pd.read_csv(DATA_DIR + '/ex1data3.csv')\n",
    "df3.head()"
   ]
  },
  {
   "cell_type": "code",
   "execution_count": 41,
   "metadata": {},
   "outputs": [
    {
     "data": {
      "text/plain": [
       "((20640, 8), (20640, 1))"
      ]
     },
     "execution_count": 41,
     "metadata": {},
     "output_type": "execute_result"
    }
   ],
   "source": [
    "X = df3.iloc[:, 1:-1].values.astype('float32')\n",
    "y = df3['price'].values.reshape(-1, 1).astype('float32')\n",
    "X.shape, y.shape"
   ]
  },
  {
   "cell_type": "markdown",
   "metadata": {},
   "source": [
    "3-1. Linear regression with multiple variables using matrix\n"
   ]
  },
  {
   "cell_type": "code",
   "execution_count": 32,
   "metadata": {},
   "outputs": [
    {
     "name": "stdout",
     "output_type": "stream",
     "text": [
      "n_iter: 10, RMSE: 0.846618\nn_iter: 20, RMSE: 0.774309\nn_iter: 30, RMSE: 0.760601\nn_iter: 40, RMSE: 0.751060\nn_iter: 50, RMSE: 0.744043\nn_iter: 60, RMSE: 0.738878\nn_iter: 70, RMSE: 0.735076\nn_iter: 80, RMSE: 0.732276\nn_iter: 90, RMSE: 0.730210\nn_iter: 100, RMSE: 0.728684\nn_iter: 110, RMSE: 0.727553\nn_iter: 120, RMSE: 0.726713\nn_iter: 130, RMSE: 0.726086\nn_iter: 140, RMSE: 0.725618\nn_iter: 150, RMSE: 0.725266\nn_iter: 160, RMSE: 0.725000\nn_iter: 170, RMSE: 0.724798\nn_iter: 180, RMSE: 0.724645\nn_iter: 190, RMSE: 0.724527\nn_iter: 200, RMSE: 0.724437\nn_iter: 210, RMSE: 0.724367\nn_iter: 220, RMSE: 0.724312\nn_iter: 230, RMSE: 0.724270\nn_iter: 240, RMSE: 0.724236\nn_iter: 250, RMSE: 0.724210\nn_iter: 260, RMSE: 0.724189\nn_iter: 270, RMSE: 0.724172\nn_iter: 280, RMSE: 0.724159\nn_iter: 290, RMSE: 0.724148\nn_iter: 300, RMSE: 0.724139\nn_iter: 310, RMSE: 0.724132\nn_iter: 320, RMSE: 0.724126\nn_iter: 330, RMSE: 0.724122\nn_iter: 340, RMSE: 0.724118\nn_iter: 350, RMSE: 0.724115\nn_iter: 360, RMSE: 0.724112\nn_iter: 370, RMSE: 0.724110\nn_iter: 380, RMSE: 0.724108\nn_iter: 390, RMSE: 0.724107\nn_iter: 400, RMSE: 0.724106\nn_iter: 410, RMSE: 0.724105\nn_iter: 420, RMSE: 0.724104\nn_iter: 430, RMSE: 0.724103\nn_iter: 440, RMSE: 0.724103\nn_iter: 450, RMSE: 0.724102\nn_iter: 460, RMSE: 0.724102\nn_iter: 470, RMSE: 0.724102\nn_iter: 480, RMSE: 0.724101\nn_iter: 490, RMSE: 0.724101\nn_iter: 500, RMSE: 0.724101\nn_iter: 510, RMSE: 0.724101\nn_iter: 520, RMSE: 0.724101\nn_iter: 530, RMSE: 0.724101\nn_iter: 540, RMSE: 0.724101\nn_iter: 550, RMSE: 0.724100\nn_iter: 560, RMSE: 0.724100\nn_iter: 570, RMSE: 0.724100\n"
     ]
    },
    {
     "name": "stdout",
     "output_type": "stream",
     "text": [
      "n_iter: 580, RMSE: 0.724100\nn_iter: 590, RMSE: 0.724100\nn_iter: 600, RMSE: 0.724100\n"
     ]
    },
    {
     "data": {
      "text/plain": [
       "<__main__.LR_Matrix at 0x7f8f95302e10>"
      ]
     },
     "execution_count": 32,
     "metadata": {},
     "output_type": "execute_result"
    }
   ],
   "source": [
    "# using the class I defined before 'LR_Matrix'\n",
    "lr_31 = LR_Matrix(alpha=0.1, n_iter=600)\n",
    "lr_31.fit(X, y)"
   ]
  },
  {
   "cell_type": "code",
   "execution_count": 33,
   "metadata": {},
   "outputs": [
    {
     "data": {
      "text/plain": [
       "array([[ 2.06855998],\n       [ 0.83011837],\n       [ 0.11885111],\n       [-0.26645868],\n       [ 0.30646189],\n       [-0.00447329],\n       [-0.03934533],\n       [-0.89869192],\n       [-0.86940481]])"
      ]
     },
     "execution_count": 33,
     "metadata": {},
     "output_type": "execute_result"
    }
   ],
   "source": [
    "lr_31.weights"
   ]
  },
  {
   "cell_type": "markdown",
   "metadata": {},
   "source": [
    "3-2. Linear regression with multiple variables using Normal equation\n"
   ]
  },
  {
   "cell_type": "code",
   "execution_count": 34,
   "metadata": {},
   "outputs": [
    {
     "data": {
      "text/plain": [
       "<__main__.NormalEquation at 0x7f8f94717c50>"
      ]
     },
     "execution_count": 34,
     "metadata": {},
     "output_type": "execute_result"
    }
   ],
   "source": [
    "ne_32 = NormalEquation()\n",
    "ne_32.fit(X, y)"
   ]
  },
  {
   "cell_type": "code",
   "execution_count": 35,
   "metadata": {},
   "outputs": [
    {
     "name": "stdout",
     "output_type": "stream",
     "text": [
      "RMSE: 0.724100\nWeights:  [[ 2.06855998]\n [ 0.82961934]\n [ 0.11875165]\n [-0.26552688]\n [ 0.30569623]\n [-0.004503  ]\n [-0.03932627]\n [-0.89988561]\n [-0.87054096]]\n"
     ]
    }
   ],
   "source": [
    "print('RMSE: %f' % ne_32.cost)\n",
    "print('Weights: ', ne_32.weights)"
   ]
  },
  {
   "cell_type": "markdown",
   "metadata": {},
   "source": [
    "RMSE and weights are the same as gradient descent"
   ]
  },
  {
   "cell_type": "markdown",
   "metadata": {},
   "source": [
    "3-3. Linear regression with multiple variables using scikit-learn linear regression model\n"
   ]
  },
  {
   "cell_type": "code",
   "execution_count": 36,
   "metadata": {},
   "outputs": [
    {
     "data": {
      "text/plain": [
       "LinearRegression(copy_X=True, fit_intercept=True, n_jobs=-1, normalize=False)"
      ]
     },
     "execution_count": 36,
     "metadata": {},
     "output_type": "execute_result"
    }
   ],
   "source": [
    "from sklearn.linear_model import LinearRegression\n",
    "lr_sk = LinearRegression(n_jobs=-1)\n",
    "sc_X = StandardScaler()\n",
    "X_scaled = sc_X.fit_transform(X)\n",
    "\n",
    "lr_sk.fit(X_scaled, y)"
   ]
  },
  {
   "cell_type": "code",
   "execution_count": 37,
   "metadata": {},
   "outputs": [
    {
     "name": "stdout",
     "output_type": "stream",
     "text": [
      "Weights:  [[ 0.82961899  0.11875158 -0.26552671  0.30569598 -0.00450282 -0.03932632\n  -0.89988559 -0.87054098]]\n"
     ]
    }
   ],
   "source": [
    "print('Weights: ', lr_sk.coef_)"
   ]
  },
  {
   "cell_type": "code",
   "execution_count": 38,
   "metadata": {},
   "outputs": [
    {
     "name": "stdout",
     "output_type": "stream",
     "text": [
      "RMSE:  0.724100095568\n"
     ]
    }
   ],
   "source": [
    "RMSE = (((lr_sk.predict(X_scaled) - y) ** 2).sum() / len(y)) ** 0.5\n",
    "print('RMSE: ', RMSE)"
   ]
  },
  {
   "cell_type": "markdown",
   "metadata": {},
   "source": [
    "RMSE and weights are the same as previous methods"
   ]
  },
  {
   "cell_type": "markdown",
   "metadata": {},
   "source": [
    "3-4. Linear regression with multiple variables using TensorFlow\n"
   ]
  },
  {
   "cell_type": "code",
   "execution_count": 42,
   "metadata": {},
   "outputs": [
    {
     "name": "stdout",
     "output_type": "stream",
     "text": [
      "Epoch 0 MSE = 1.65965\nEpoch 100 MSE = 0.726587\nEpoch 200 MSE = 0.724223\nEpoch 300 MSE = 0.724109\nEpoch 400 MSE = 0.724101\nEpoch 500 MSE = 0.7241\n"
     ]
    },
    {
     "name": "stdout",
     "output_type": "stream",
     "text": [
      "Epoch 600 MSE = 0.7241\nEpoch 700 MSE = 0.7241\nEpoch 800 MSE = 0.7241\nEpoch 900 MSE = 0.7241\n\nThe final weights is:\n [[ 2.06855965]\n [ 0.82961351]\n [ 0.11875057]\n [-0.26551586]\n [ 0.30568716]\n [-0.00450332]\n [-0.03932605]\n [-0.89989895]\n [-0.87055349]]\n"
     ]
    }
   ],
   "source": [
    "import tensorflow as tf\n",
    "\n",
    "m, n = X.shape\n",
    "\n",
    "X_scaled_bias = np.c_[np.ones((m, 1)), X_scaled]\n",
    "n_epochs = 1000\n",
    "learning_rate = 0.1\n",
    "\n",
    "X = tf.constant(X_scaled_bias, dtype=tf.float32, name=\"X\")\n",
    "y = tf.constant(y, dtype=tf.float32, name=\"y\")\n",
    "weights = tf.Variable(tf.random_uniform([n + 1, 1], -1.0, 1.0, seed=42), name=\"weights\")\n",
    "\n",
    "y_pred = tf.matmul(X, weights, name=\"predictions\")\n",
    "error = y_pred - y\n",
    "RMSE = tf.sqrt(tf.reduce_mean(tf.square(error), name=\"mse\"))\n",
    "gradients = 2/m * tf.matmul(tf.transpose(X), error)\n",
    "training_op = tf.assign(weights, weights - learning_rate * gradients)\n",
    "\n",
    "init = tf.global_variables_initializer()\n",
    "\n",
    "with tf.Session() as sess:\n",
    "    sess.run(init)\n",
    "\n",
    "    for epoch in range(n_epochs):\n",
    "        if epoch % 100 == 0:\n",
    "            print(\"Epoch\", epoch, \"MSE =\", RMSE.eval())\n",
    "        sess.run(training_op)\n",
    "\n",
    "    best_weights = weights.eval()\n",
    "    print(\"\\nThe final weights is:\\n\", best_weights)\n",
    "sess.close()"
   ]
  },
  {
   "cell_type": "markdown",
   "metadata": {},
   "source": [
    "1. The RMSE and weights obtained from grdient descent, normal equation, sk_learn LinearRegression, and Tensorflow gradient descent are all the same\n",
    "2. It examines that the answers are correct\n"
   ]
  },
  {
   "cell_type": "code",
   "execution_count": null,
   "metadata": {},
   "outputs": [],
   "source": []
  }
 ],
 "metadata": {
  "kernelspec": {
   "display_name": "Python 2",
   "language": "python",
   "name": "python2"
  },
  "language_info": {
   "codemirror_mode": {
    "name": "ipython",
    "version": 2
   },
   "file_extension": ".py",
   "mimetype": "text/x-python",
   "name": "python",
   "nbconvert_exporter": "python",
   "pygments_lexer": "ipython2",
   "version": "2.7.6"
  }
 },
 "nbformat": 4,
 "nbformat_minor": 0
}
